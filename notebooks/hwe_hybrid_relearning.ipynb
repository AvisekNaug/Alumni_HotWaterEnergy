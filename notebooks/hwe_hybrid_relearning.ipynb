{
 "cells": [
  {
   "cell_type": "markdown",
   "metadata": {},
   "source": [
    "# Modeling Hot Water Energy"
   ]
  },
  {
   "cell_type": "markdown",
   "metadata": {},
   "source": [
    "### Attach current folder to project directory\n",
    "### Ensure Seed for reproducability\n",
    "### Set GPU configurations"
   ]
  },
  {
   "cell_type": "code",
   "execution_count": 1,
   "metadata": {
    "run_control": {
     "marked": true
    }
   },
   "outputs": [],
   "source": [
    "seed_value = 123\n",
    "\n",
    "import os\n",
    "# 1. Set the `PYTHONHASHSEED` environment variable at a fixed value\n",
    "os.environ['PYTHONHASHSEED']=str(seed_value)\n",
    "\n",
    "# 2. Set the `python` built-in pseudo-random generator at a fixed value\n",
    "import random\n",
    "random.seed(seed_value)\n",
    "\n",
    "# 3. Set the `numpy` pseudo-random generator at a fixed value\n",
    "import numpy as np\n",
    "np.random.seed(seed_value)\n",
    "\n",
    "# Enable '0' or disable '-1' GPU use\n",
    "os.environ['CUDA_VISIBLE_DEVICES'] = '-1'\n",
    "\n",
    "# including the project directory to the notebook level\n",
    "import sys\n",
    "module_path = os.path.abspath(os.path.join('..'))\n",
    "if module_path not in sys.path:\n",
    "    sys.path.append(module_path)\n",
    "\n",
    "from tqdm import tqdm\n",
    "import parse\n",
    "import warnings\n",
    "from matplotlib.dates import date2num"
   ]
  },
  {
   "cell_type": "code",
   "execution_count": 2,
   "metadata": {
    "run_control": {
     "marked": true
    }
   },
   "outputs": [
    {
     "name": "stderr",
     "output_type": "stream",
     "text": [
      "Using TensorFlow backend.\n"
     ]
    }
   ],
   "source": [
    "with warnings.catch_warnings():\n",
    "    warnings.filterwarnings(\"ignore\", category=FutureWarning)\n",
    "    \n",
    "    # 4. Set the `tensorflow` pseudo-random generator at a fixed value\n",
    "    import tensorflow as tf\n",
    "    #tf.random.set_seed(seed_value)\n",
    "    # for later versions: \n",
    "    tf.compat.v1.set_random_seed(seed_value)\n",
    "    config = tf.ConfigProto(log_device_placement=False)\n",
    "    config.gpu_options.allow_growth = True\n",
    "    session = tf.Session(config=config)\n",
    "    \n",
    "    from keras import backend as K\n",
    "    from nn_source import models as mp\n",
    "\n",
    "from dataprocess import dataprocessor as dp\n",
    "from dataprocess import plotutils as pu"
   ]
  },
  {
   "cell_type": "code",
   "execution_count": 3,
   "metadata": {
    "run_control": {
     "marked": false
    }
   },
   "outputs": [],
   "source": [
    "# %load_ext tensorboard\n",
    "# %tensorboard --logdir '../results/lstm_hwe_trial1/loginfo/' --port 8200"
   ]
  },
  {
   "cell_type": "markdown",
   "metadata": {},
   "source": [
    "### Select the period at which we perform experiments"
   ]
  },
  {
   "cell_type": "code",
   "execution_count": 3,
   "metadata": {
    "run_control": {
     "marked": true
    }
   },
   "outputs": [],
   "source": [
    "period = 6  # the period to sample the data at. 1 period= 5 minutes"
   ]
  },
  {
   "cell_type": "markdown",
   "metadata": {},
   "source": [
    "### Read the cleaned data"
   ]
  },
  {
   "cell_type": "code",
   "execution_count": 4,
   "metadata": {
    "run_control": {
     "marked": true
    }
   },
   "outputs": [
    {
     "data": {
      "text/html": [
       "<div>\n",
       "<style scoped>\n",
       "    .dataframe tbody tr th:only-of-type {\n",
       "        vertical-align: middle;\n",
       "    }\n",
       "\n",
       "    .dataframe tbody tr th {\n",
       "        vertical-align: top;\n",
       "    }\n",
       "\n",
       "    .dataframe thead th {\n",
       "        text-align: right;\n",
       "    }\n",
       "</style>\n",
       "<table border=\"1\" class=\"dataframe\">\n",
       "  <thead>\n",
       "    <tr style=\"text-align: right;\">\n",
       "      <th></th>\n",
       "      <th>oat</th>\n",
       "      <th>sat</th>\n",
       "      <th>orh</th>\n",
       "      <th>hwe</th>\n",
       "      <th>cwe</th>\n",
       "      <th>ghi</th>\n",
       "      <th>avg_stpt</th>\n",
       "      <th>flow</th>\n",
       "      <th>hw_sf</th>\n",
       "      <th>hw_st</th>\n",
       "      <th>hw_rt</th>\n",
       "    </tr>\n",
       "  </thead>\n",
       "  <tbody>\n",
       "    <tr>\n",
       "      <th>2018-11-16 10:05:00</th>\n",
       "      <td>31.090181</td>\n",
       "      <td>73.392624</td>\n",
       "      <td>85.0</td>\n",
       "      <td>12.266188</td>\n",
       "      <td>0.0</td>\n",
       "      <td>524.0</td>\n",
       "      <td>72.438095</td>\n",
       "      <td>0.004395</td>\n",
       "      <td>6.715617</td>\n",
       "      <td>107.05994</td>\n",
       "      <td>98.22113</td>\n",
       "    </tr>\n",
       "    <tr>\n",
       "      <th>2018-11-16 10:10:00</th>\n",
       "      <td>31.090181</td>\n",
       "      <td>72.792236</td>\n",
       "      <td>85.0</td>\n",
       "      <td>11.701546</td>\n",
       "      <td>0.0</td>\n",
       "      <td>530.0</td>\n",
       "      <td>72.438095</td>\n",
       "      <td>0.002403</td>\n",
       "      <td>6.831125</td>\n",
       "      <td>114.65901</td>\n",
       "      <td>100.06567</td>\n",
       "    </tr>\n",
       "    <tr>\n",
       "      <th>2018-11-16 10:15:00</th>\n",
       "      <td>31.090181</td>\n",
       "      <td>72.495117</td>\n",
       "      <td>85.0</td>\n",
       "      <td>11.578586</td>\n",
       "      <td>0.0</td>\n",
       "      <td>537.0</td>\n",
       "      <td>72.438095</td>\n",
       "      <td>0.004492</td>\n",
       "      <td>8.241195</td>\n",
       "      <td>117.93087</td>\n",
       "      <td>98.33179</td>\n",
       "    </tr>\n",
       "    <tr>\n",
       "      <th>2018-11-16 10:20:00</th>\n",
       "      <td>31.090181</td>\n",
       "      <td>72.495117</td>\n",
       "      <td>85.0</td>\n",
       "      <td>11.693608</td>\n",
       "      <td>0.0</td>\n",
       "      <td>543.0</td>\n",
       "      <td>72.438095</td>\n",
       "      <td>0.003086</td>\n",
       "      <td>9.518204</td>\n",
       "      <td>112.28122</td>\n",
       "      <td>95.43451</td>\n",
       "    </tr>\n",
       "    <tr>\n",
       "      <th>2018-11-16 10:25:00</th>\n",
       "      <td>31.090181</td>\n",
       "      <td>72.495117</td>\n",
       "      <td>85.0</td>\n",
       "      <td>11.269130</td>\n",
       "      <td>0.0</td>\n",
       "      <td>549.0</td>\n",
       "      <td>72.438095</td>\n",
       "      <td>0.006318</td>\n",
       "      <td>9.752769</td>\n",
       "      <td>109.42430</td>\n",
       "      <td>92.90832</td>\n",
       "    </tr>\n",
       "  </tbody>\n",
       "</table>\n",
       "</div>"
      ],
      "text/plain": [
       "                           oat        sat   orh        hwe  cwe    ghi  \\\n",
       "2018-11-16 10:05:00  31.090181  73.392624  85.0  12.266188  0.0  524.0   \n",
       "2018-11-16 10:10:00  31.090181  72.792236  85.0  11.701546  0.0  530.0   \n",
       "2018-11-16 10:15:00  31.090181  72.495117  85.0  11.578586  0.0  537.0   \n",
       "2018-11-16 10:20:00  31.090181  72.495117  85.0  11.693608  0.0  543.0   \n",
       "2018-11-16 10:25:00  31.090181  72.495117  85.0  11.269130  0.0  549.0   \n",
       "\n",
       "                      avg_stpt      flow     hw_sf      hw_st      hw_rt  \n",
       "2018-11-16 10:05:00  72.438095  0.004395  6.715617  107.05994   98.22113  \n",
       "2018-11-16 10:10:00  72.438095  0.002403  6.831125  114.65901  100.06567  \n",
       "2018-11-16 10:15:00  72.438095  0.004492  8.241195  117.93087   98.33179  \n",
       "2018-11-16 10:20:00  72.438095  0.003086  9.518204  112.28122   95.43451  \n",
       "2018-11-16 10:25:00  72.438095  0.006318  9.752769  109.42430   92.90832  "
      ]
     },
     "execution_count": 4,
     "metadata": {},
     "output_type": "execute_result"
    }
   ],
   "source": [
    "# read the pickled file for ahu data\n",
    "dfdata = dp.readfile('../data/processed/buildingdata.pkl')\n",
    "\n",
    "# return pickled df\n",
    "df = dfdata.return_df(processmethods=['file2df'])\n",
    "\n",
    "df.head()"
   ]
  },
  {
   "cell_type": "code",
   "execution_count": 5,
   "metadata": {
    "run_control": {
     "marked": true
    }
   },
   "outputs": [],
   "source": [
    "# Smoothing the data\n",
    "# Filter requirements.\n",
    "order = 5\n",
    "T = 300  # sampling_period in seconds\n",
    "fs = 1 / 300  # sample rate, Hz\n",
    "cutoff = 0.0001  # desired cutoff frequency of the filter, Hz\n",
    "\n",
    "df_smoothed = dp.dfsmoothing(df=df,\n",
    "                             column_names=list(df.columns),\n",
    "                             order=order,\n",
    "                             Wn=cutoff,\n",
    "                             T=T)"
   ]
  },
  {
   "cell_type": "code",
   "execution_count": 7,
   "metadata": {
    "run_control": {
     "marked": false
    },
    "scrolled": false
   },
   "outputs": [
    {
     "name": "stdout",
     "output_type": "stream",
     "text": [
      "Finished 'dataframeplot' in 0.0297 secs\n"
     ]
    },
    {
     "data": {
      "image/png": "[encoded data removed]",
      "text/plain": [
       "<Figure size 1440x504 with 1 Axes>"
      ]
     },
     "metadata": {
      "needs_background": "light"
     },
     "output_type": "display_data"
    }
   ],
   "source": [
    "#%matplotlib notebook\n",
    "dp.dataframeplot(df=df.loc[df.index[:1000], ['hwe','hw_sf']],\n",
    "                lazy=True,\n",
    "                legend=True,\n",
    "                style='+-')"
   ]
  },
  {
   "cell_type": "markdown",
   "metadata": {
    "heading_collapsed": true
   },
   "source": [
    "### Get time lagged cross correlation information"
   ]
  },
  {
   "cell_type": "code",
   "execution_count": 8,
   "metadata": {
    "hidden": true,
    "run_control": {
     "marked": false
    }
   },
   "outputs": [],
   "source": [
    "import matplotlib.pyplot as plt\n",
    "import numpy as np\n",
    "\n",
    "def crosscorr(datax, datay, lag=0, wrap=False):\n",
    "    \"\"\" Lag-N cross correlation. \n",
    "    Shifted data filled with NaNs \n",
    "    \n",
    "    Parameters\n",
    "    ----------\n",
    "    lag : int, default 0\n",
    "    datax, datay : pandas.Series objects of equal length\n",
    "    Returns\n",
    "    ----------\n",
    "    crosscorr : float\n",
    "    \"\"\"\n",
    "    if wrap:\n",
    "        shiftedy = datay.shift(lag)\n",
    "        shiftedy.iloc[:lag] = datay.iloc[-lag:].values\n",
    "        return datax.corr(shiftedy)\n",
    "    else: \n",
    "        return datax.corr(datay.shift(lag))"
   ]
  },
  {
   "cell_type": "code",
   "execution_count": 9,
   "metadata": {
    "hidden": true,
    "run_control": {
     "marked": false
    }
   },
   "outputs": [
    {
     "data": {
      "text/plain": [
       "<matplotlib.legend.Legend at 0x7f5711a03828>"
      ]
     },
     "execution_count": 9,
     "metadata": {},
     "output_type": "execute_result"
    },
    {
     "data": {
      "image/png": "[encoded data removed]",
      "text/plain": [
       "<Figure size 720x360 with 1 Axes>"
      ]
     },
     "metadata": {
      "needs_background": "light"
     },
     "output_type": "display_data"
    }
   ],
   "source": [
    "d1 = df['hwe']\n",
    "d2 = df['hw_sf']\n",
    "lags =300\n",
    "fps = 1 # 1 unit = 5 mins\n",
    "rs = [crosscorr(d1,d2, lag) for lag in range(-int(lags*fps),int(lags*fps+1))]\n",
    "offset = np.ceil(len(rs)/2)-np.argmax(rs)\n",
    "f,ax=plt.subplots(figsize=(10,5))\n",
    "ax.plot(rs)\n",
    "ax.axvline(np.ceil(len(rs)/2),color='k',linestyle='--',label='Center')\n",
    "ax.axvline(np.argmax(rs),color='r',linestyle='--',label='Max Corr')\n",
    "ax.axvline(np.argmin(rs),color='g',linestyle='--',label='Min Corr')\n",
    "ax.set(title=f'Offset = {offset} frames\\nS1 leads <> S2 leads',xlabel='Offset',ylabel='Pearson r')\n",
    "ax.set_xticks(np.arange(0,2*int((lags+1)*fps), lags/2))\n",
    "ax.set_xticklabels(np.arange(-int(lags*fps),int((lags+1)*fps),lags/2), rotation=90);\n",
    "plt.legend()\n",
    "\n",
    "# https://towardsdatascience.com/four-ways-to-quantify-synchrony-between-time-series-data-b99136c4a9c9"
   ]
  },
  {
   "cell_type": "code",
   "execution_count": 10,
   "metadata": {
    "hidden": true,
    "run_control": {
     "marked": false
    }
   },
   "outputs": [
    {
     "data": {
      "text/plain": [
       "<matplotlib.legend.Legend at 0x7f5711977e48>"
      ]
     },
     "execution_count": 10,
     "metadata": {},
     "output_type": "execute_result"
    },
    {
     "data": {
      "image/png": "[encoded data removed]",
      "text/plain": [
       "<Figure size 720x360 with 1 Axes>"
      ]
     },
     "metadata": {
      "needs_background": "light"
     },
     "output_type": "display_data"
    }
   ],
   "source": [
    "d1 = df['cwe']\n",
    "d2 = df['flow']\n",
    "lags = 400\n",
    "fps = 1 # 1 unit = 5 mins\n",
    "rs = [crosscorr(d1,d2, lag) for lag in range(-int(lags*fps),int(lags*fps+1))]\n",
    "offset = np.ceil(len(rs)/2)-np.argmax(rs)\n",
    "f,ax=plt.subplots(figsize=(10,5))\n",
    "ax.plot(rs)\n",
    "ax.axvline(np.ceil(len(rs)/2),color='k',linestyle='--',label='Center')\n",
    "ax.axvline(np.argmax(rs),color='r',linestyle='--',label='Max Corr')\n",
    "ax.axvline(np.argmin(rs),color='g',linestyle='--',label='Min Corr')\n",
    "ax.set(title=f'Offset = {offset} frames\\nS1 leads <> S2 leads',xlabel='Offset',ylabel='Pearson r')\n",
    "ax.set_xticks(np.arange(0,2*int((lags+1)*fps), lags/2))\n",
    "ax.set_xticklabels(np.arange(-int(lags*fps),int((lags+1)*fps),lags/2), rotation=90);\n",
    "plt.legend()"
   ]
  },
  {
   "cell_type": "markdown",
   "metadata": {},
   "source": [
    "### Since this implies that Hot water flow leads the Hot Water Energy by approximately 59 frames or approximately 5 hours. We will use the flow as an indicator of the hybrid mode changes in the energy prediction problem. \n",
    "\n",
    "### Next steps:\n",
    "1. Shift the hot water energy upwards/move back in time by 58 units.\n",
    "2. Shift the energy by one more unit for the final prediction. \n",
    "3. For training: We break the data into batches separated by 0 energy determined by hot water flow\n",
    "4. For testing:\n",
    "\n",
    "    a. Either we do online testing where we utilize the current flow information to decide to predict or not.\n",
    "    \n",
    "    b. Again create batches of data based on the flow information and predict only in those batches."
   ]
  },
  {
   "cell_type": "code",
   "execution_count": 6,
   "metadata": {
    "run_control": {
     "marked": false
    }
   },
   "outputs": [
    {
     "data": {
      "text/html": [
       "<div>\n",
       "<style scoped>\n",
       "    .dataframe tbody tr th:only-of-type {\n",
       "        vertical-align: middle;\n",
       "    }\n",
       "\n",
       "    .dataframe tbody tr th {\n",
       "        vertical-align: top;\n",
       "    }\n",
       "\n",
       "    .dataframe thead th {\n",
       "        text-align: right;\n",
       "    }\n",
       "</style>\n",
       "<table border=\"1\" class=\"dataframe\">\n",
       "  <thead>\n",
       "    <tr style=\"text-align: right;\">\n",
       "      <th></th>\n",
       "      <th>oat</th>\n",
       "      <th>sat</th>\n",
       "      <th>orh</th>\n",
       "      <th>hwe</th>\n",
       "      <th>cwe</th>\n",
       "      <th>ghi</th>\n",
       "      <th>avg_stpt</th>\n",
       "      <th>flow</th>\n",
       "      <th>hw_sf</th>\n",
       "      <th>hw_st</th>\n",
       "      <th>hw_rt</th>\n",
       "    </tr>\n",
       "  </thead>\n",
       "  <tbody>\n",
       "    <tr>\n",
       "      <th>2018-11-16 10:05:00</th>\n",
       "      <td>31.090181</td>\n",
       "      <td>73.392624</td>\n",
       "      <td>85.0</td>\n",
       "      <td>12.266188</td>\n",
       "      <td>0.0</td>\n",
       "      <td>524.0</td>\n",
       "      <td>72.438095</td>\n",
       "      <td>0.004395</td>\n",
       "      <td>6.715617</td>\n",
       "      <td>107.05994</td>\n",
       "      <td>98.22113</td>\n",
       "    </tr>\n",
       "    <tr>\n",
       "      <th>2018-11-16 10:10:00</th>\n",
       "      <td>31.090181</td>\n",
       "      <td>72.792236</td>\n",
       "      <td>85.0</td>\n",
       "      <td>11.701546</td>\n",
       "      <td>0.0</td>\n",
       "      <td>530.0</td>\n",
       "      <td>72.438095</td>\n",
       "      <td>0.002403</td>\n",
       "      <td>6.831125</td>\n",
       "      <td>114.65901</td>\n",
       "      <td>100.06567</td>\n",
       "    </tr>\n",
       "    <tr>\n",
       "      <th>2018-11-16 10:15:00</th>\n",
       "      <td>31.090181</td>\n",
       "      <td>72.495117</td>\n",
       "      <td>85.0</td>\n",
       "      <td>11.578586</td>\n",
       "      <td>0.0</td>\n",
       "      <td>537.0</td>\n",
       "      <td>72.438095</td>\n",
       "      <td>0.004492</td>\n",
       "      <td>8.241195</td>\n",
       "      <td>117.93087</td>\n",
       "      <td>98.33179</td>\n",
       "    </tr>\n",
       "    <tr>\n",
       "      <th>2018-11-16 10:20:00</th>\n",
       "      <td>31.090181</td>\n",
       "      <td>72.495117</td>\n",
       "      <td>85.0</td>\n",
       "      <td>11.693608</td>\n",
       "      <td>0.0</td>\n",
       "      <td>543.0</td>\n",
       "      <td>72.438095</td>\n",
       "      <td>0.003086</td>\n",
       "      <td>9.518204</td>\n",
       "      <td>112.28122</td>\n",
       "      <td>95.43451</td>\n",
       "    </tr>\n",
       "    <tr>\n",
       "      <th>2018-11-16 10:25:00</th>\n",
       "      <td>31.090181</td>\n",
       "      <td>72.495117</td>\n",
       "      <td>85.0</td>\n",
       "      <td>11.269130</td>\n",
       "      <td>0.0</td>\n",
       "      <td>549.0</td>\n",
       "      <td>72.438095</td>\n",
       "      <td>0.006318</td>\n",
       "      <td>9.752769</td>\n",
       "      <td>109.42430</td>\n",
       "      <td>92.90832</td>\n",
       "    </tr>\n",
       "  </tbody>\n",
       "</table>\n",
       "</div>"
      ],
      "text/plain": [
       "                           oat        sat   orh        hwe  cwe    ghi  \\\n",
       "2018-11-16 10:05:00  31.090181  73.392624  85.0  12.266188  0.0  524.0   \n",
       "2018-11-16 10:10:00  31.090181  72.792236  85.0  11.701546  0.0  530.0   \n",
       "2018-11-16 10:15:00  31.090181  72.495117  85.0  11.578586  0.0  537.0   \n",
       "2018-11-16 10:20:00  31.090181  72.495117  85.0  11.693608  0.0  543.0   \n",
       "2018-11-16 10:25:00  31.090181  72.495117  85.0  11.269130  0.0  549.0   \n",
       "\n",
       "                      avg_stpt      flow     hw_sf      hw_st      hw_rt  \n",
       "2018-11-16 10:05:00  72.438095  0.004395  6.715617  107.05994   98.22113  \n",
       "2018-11-16 10:10:00  72.438095  0.002403  6.831125  114.65901  100.06567  \n",
       "2018-11-16 10:15:00  72.438095  0.004492  8.241195  117.93087   98.33179  \n",
       "2018-11-16 10:20:00  72.438095  0.003086  9.518204  112.28122   95.43451  \n",
       "2018-11-16 10:25:00  72.438095  0.006318  9.752769  109.42430   92.90832  "
      ]
     },
     "execution_count": 6,
     "metadata": {},
     "output_type": "execute_result"
    }
   ],
   "source": [
    "df.head()"
   ]
  },
  {
   "cell_type": "code",
   "execution_count": 6,
   "metadata": {
    "run_control": {
     "marked": true
    }
   },
   "outputs": [],
   "source": [
    "df_out = dp.createlag(df_smoothed, ['hwe','cwe'], lag=-59)"
   ]
  },
  {
   "cell_type": "code",
   "execution_count": null,
   "metadata": {
    "run_control": {
     "marked": false
    }
   },
   "outputs": [],
   "source": []
  },
  {
   "cell_type": "code",
   "execution_count": 8,
   "metadata": {
    "run_control": {
     "marked": false
    }
   },
   "outputs": [
    {
     "name": "stdout",
     "output_type": "stream",
     "text": [
      "Finished 'dataframeplot' in 0.0398 secs\n"
     ]
    },
    {
     "data": {
      "image/png": "[encoded data removed]",
      "text/plain": [
       "<Figure size 1440x504 with 1 Axes>"
      ]
     },
     "metadata": {
      "needs_background": "light"
     },
     "output_type": "display_data"
    }
   ],
   "source": [
    "#%matplotlib notebook\n",
    "dp.dataframeplot(df=df_out.loc[df.index[12000:13000], ['hwe','hw_sf']],\n",
    "                lazy=True,\n",
    "                legend=True,\n",
    "                style='+-')"
   ]
  },
  {
   "cell_type": "markdown",
   "metadata": {},
   "source": [
    "### Sum half hour energy data"
   ]
  },
  {
   "cell_type": "code",
   "execution_count": 7,
   "metadata": {
    "run_control": {
     "marked": true
    }
   },
   "outputs": [
    {
     "data": {
      "text/html": [
       "<div>\n",
       "<style scoped>\n",
       "    .dataframe tbody tr th:only-of-type {\n",
       "        vertical-align: middle;\n",
       "    }\n",
       "\n",
       "    .dataframe tbody tr th {\n",
       "        vertical-align: top;\n",
       "    }\n",
       "\n",
       "    .dataframe thead th {\n",
       "        text-align: right;\n",
       "    }\n",
       "</style>\n",
       "<table border=\"1\" class=\"dataframe\">\n",
       "  <thead>\n",
       "    <tr style=\"text-align: right;\">\n",
       "      <th></th>\n",
       "      <th>oat</th>\n",
       "      <th>sat</th>\n",
       "      <th>orh</th>\n",
       "      <th>hwe</th>\n",
       "      <th>cwe</th>\n",
       "      <th>ghi</th>\n",
       "      <th>avg_stpt</th>\n",
       "      <th>flow</th>\n",
       "      <th>hw_sf</th>\n",
       "      <th>hw_st</th>\n",
       "      <th>hw_rt</th>\n",
       "      <th>30min_hwe</th>\n",
       "    </tr>\n",
       "  </thead>\n",
       "  <tbody>\n",
       "    <tr>\n",
       "      <th>2018-11-16 10:30:00</th>\n",
       "      <td>31.035067</td>\n",
       "      <td>72.294783</td>\n",
       "      <td>86.121997</td>\n",
       "      <td>6.559873</td>\n",
       "      <td>-0.074854</td>\n",
       "      <td>565.999638</td>\n",
       "      <td>72.424800</td>\n",
       "      <td>-0.017122</td>\n",
       "      <td>8.773625</td>\n",
       "      <td>110.377847</td>\n",
       "      <td>96.047695</td>\n",
       "      <td>36.699631</td>\n",
       "    </tr>\n",
       "    <tr>\n",
       "      <th>2018-11-16 10:35:00</th>\n",
       "      <td>30.997731</td>\n",
       "      <td>72.083142</td>\n",
       "      <td>86.377001</td>\n",
       "      <td>6.669277</td>\n",
       "      <td>-0.078943</td>\n",
       "      <td>574.117299</td>\n",
       "      <td>72.424054</td>\n",
       "      <td>-0.029541</td>\n",
       "      <td>8.972761</td>\n",
       "      <td>110.919134</td>\n",
       "      <td>95.557149</td>\n",
       "      <td>37.750890</td>\n",
       "    </tr>\n",
       "    <tr>\n",
       "      <th>2018-11-16 10:45:00</th>\n",
       "      <td>30.961157</td>\n",
       "      <td>71.883877</td>\n",
       "      <td>86.634097</td>\n",
       "      <td>6.735677</td>\n",
       "      <td>-0.079441</td>\n",
       "      <td>581.797099</td>\n",
       "      <td>72.423763</td>\n",
       "      <td>-0.042205</td>\n",
       "      <td>9.120232</td>\n",
       "      <td>111.389786</td>\n",
       "      <td>95.068595</td>\n",
       "      <td>38.656120</td>\n",
       "    </tr>\n",
       "    <tr>\n",
       "      <th>2018-11-16 10:50:00</th>\n",
       "      <td>30.927595</td>\n",
       "      <td>71.699686</td>\n",
       "      <td>86.893274</td>\n",
       "      <td>6.754286</td>\n",
       "      <td>-0.076845</td>\n",
       "      <td>588.914345</td>\n",
       "      <td>72.423979</td>\n",
       "      <td>-0.054667</td>\n",
       "      <td>9.210683</td>\n",
       "      <td>111.780608</td>\n",
       "      <td>94.585195</td>\n",
       "      <td>39.370229</td>\n",
       "    </tr>\n",
       "    <tr>\n",
       "      <th>2018-11-16 10:55:00</th>\n",
       "      <td>30.899542</td>\n",
       "      <td>71.533133</td>\n",
       "      <td>87.154282</td>\n",
       "      <td>6.721706</td>\n",
       "      <td>-0.071726</td>\n",
       "      <td>595.343365</td>\n",
       "      <td>72.424745</td>\n",
       "      <td>-0.066429</td>\n",
       "      <td>9.239720</td>\n",
       "      <td>112.084331</td>\n",
       "      <td>94.110440</td>\n",
       "      <td>39.854369</td>\n",
       "    </tr>\n",
       "  </tbody>\n",
       "</table>\n",
       "</div>"
      ],
      "text/plain": [
       "                           oat        sat        orh       hwe       cwe  \\\n",
       "2018-11-16 10:30:00  31.035067  72.294783  86.121997  6.559873 -0.074854   \n",
       "2018-11-16 10:35:00  30.997731  72.083142  86.377001  6.669277 -0.078943   \n",
       "2018-11-16 10:45:00  30.961157  71.883877  86.634097  6.735677 -0.079441   \n",
       "2018-11-16 10:50:00  30.927595  71.699686  86.893274  6.754286 -0.076845   \n",
       "2018-11-16 10:55:00  30.899542  71.533133  87.154282  6.721706 -0.071726   \n",
       "\n",
       "                            ghi   avg_stpt      flow     hw_sf       hw_st  \\\n",
       "2018-11-16 10:30:00  565.999638  72.424800 -0.017122  8.773625  110.377847   \n",
       "2018-11-16 10:35:00  574.117299  72.424054 -0.029541  8.972761  110.919134   \n",
       "2018-11-16 10:45:00  581.797099  72.423763 -0.042205  9.120232  111.389786   \n",
       "2018-11-16 10:50:00  588.914345  72.423979 -0.054667  9.210683  111.780608   \n",
       "2018-11-16 10:55:00  595.343365  72.424745 -0.066429  9.239720  112.084331   \n",
       "\n",
       "                         hw_rt  30min_hwe  \n",
       "2018-11-16 10:30:00  96.047695  36.699631  \n",
       "2018-11-16 10:35:00  95.557149  37.750890  \n",
       "2018-11-16 10:45:00  95.068595  38.656120  \n",
       "2018-11-16 10:50:00  94.585195  39.370229  \n",
       "2018-11-16 10:55:00  94.110440  39.854369  "
      ]
     },
     "execution_count": 7,
     "metadata": {},
     "output_type": "execute_result"
    }
   ],
   "source": [
    "# return a new column which is the sum of previous window_size values\n",
    "def windowsum(df, window_size: int, column_name: str):\n",
    "    return df[[column_name]].rolling(window=window_size, min_periods=window_size).sum()\n",
    "\n",
    "df_out['30min_hwe'] = windowsum(df_out,window_size=period, column_name='hwe')\n",
    "df_out = dp.dropNaNrows(df_out)\n",
    "\n",
    "df_out.head()"
   ]
  },
  {
   "cell_type": "markdown",
   "metadata": {},
   "source": [
    "### Sample data at half hour"
   ]
  },
  {
   "cell_type": "code",
   "execution_count": 8,
   "metadata": {
    "run_control": {
     "marked": true
    }
   },
   "outputs": [
    {
     "data": {
      "text/html": [
       "<div>\n",
       "<style scoped>\n",
       "    .dataframe tbody tr th:only-of-type {\n",
       "        vertical-align: middle;\n",
       "    }\n",
       "\n",
       "    .dataframe tbody tr th {\n",
       "        vertical-align: top;\n",
       "    }\n",
       "\n",
       "    .dataframe thead th {\n",
       "        text-align: right;\n",
       "    }\n",
       "</style>\n",
       "<table border=\"1\" class=\"dataframe\">\n",
       "  <thead>\n",
       "    <tr style=\"text-align: right;\">\n",
       "      <th></th>\n",
       "      <th>oat</th>\n",
       "      <th>sat</th>\n",
       "      <th>orh</th>\n",
       "      <th>hwe</th>\n",
       "      <th>cwe</th>\n",
       "      <th>ghi</th>\n",
       "      <th>avg_stpt</th>\n",
       "      <th>flow</th>\n",
       "      <th>hw_sf</th>\n",
       "      <th>hw_st</th>\n",
       "      <th>hw_rt</th>\n",
       "      <th>30min_hwe</th>\n",
       "    </tr>\n",
       "  </thead>\n",
       "  <tbody>\n",
       "    <tr>\n",
       "      <th>2018-11-16 10:30:00</th>\n",
       "      <td>31.035067</td>\n",
       "      <td>72.294783</td>\n",
       "      <td>86.121997</td>\n",
       "      <td>6.559873</td>\n",
       "      <td>-0.074854</td>\n",
       "      <td>565.999638</td>\n",
       "      <td>72.424800</td>\n",
       "      <td>-0.017122</td>\n",
       "      <td>8.773625</td>\n",
       "      <td>110.377847</td>\n",
       "      <td>96.047695</td>\n",
       "      <td>36.699631</td>\n",
       "    </tr>\n",
       "    <tr>\n",
       "      <th>2018-11-16 11:00:00</th>\n",
       "      <td>30.879700</td>\n",
       "      <td>71.386590</td>\n",
       "      <td>87.416587</td>\n",
       "      <td>6.635984</td>\n",
       "      <td>-0.064696</td>\n",
       "      <td>600.959785</td>\n",
       "      <td>72.426089</td>\n",
       "      <td>-0.076961</td>\n",
       "      <td>9.204061</td>\n",
       "      <td>112.295743</td>\n",
       "      <td>93.648113</td>\n",
       "      <td>40.076803</td>\n",
       "    </tr>\n",
       "    <tr>\n",
       "      <th>2018-11-16 11:30:00</th>\n",
       "      <td>31.005835</td>\n",
       "      <td>71.017611</td>\n",
       "      <td>88.703866</td>\n",
       "      <td>5.441332</td>\n",
       "      <td>-0.021788</td>\n",
       "      <td>612.900220</td>\n",
       "      <td>72.441218</td>\n",
       "      <td>-0.092335</td>\n",
       "      <td>8.031554</td>\n",
       "      <td>111.933015</td>\n",
       "      <td>91.667953</td>\n",
       "      <td>36.713355</td>\n",
       "    </tr>\n",
       "    <tr>\n",
       "      <th>2018-11-16 12:00:00</th>\n",
       "      <td>32.003000</td>\n",
       "      <td>71.443384</td>\n",
       "      <td>89.856486</td>\n",
       "      <td>2.929877</td>\n",
       "      <td>-0.004449</td>\n",
       "      <td>582.079452</td>\n",
       "      <td>72.468720</td>\n",
       "      <td>0.017583</td>\n",
       "      <td>4.925408</td>\n",
       "      <td>109.018922</td>\n",
       "      <td>90.525998</td>\n",
       "      <td>24.126601</td>\n",
       "    </tr>\n",
       "    <tr>\n",
       "      <th>2018-11-16 12:30:00</th>\n",
       "      <td>34.156805</td>\n",
       "      <td>72.480124</td>\n",
       "      <td>89.755636</td>\n",
       "      <td>0.620724</td>\n",
       "      <td>-0.018241</td>\n",
       "      <td>503.409577</td>\n",
       "      <td>72.479587</td>\n",
       "      <td>0.216607</td>\n",
       "      <td>1.579319</td>\n",
       "      <td>105.337845</td>\n",
       "      <td>91.040496</td>\n",
       "      <td>9.067507</td>\n",
       "    </tr>\n",
       "  </tbody>\n",
       "</table>\n",
       "</div>"
      ],
      "text/plain": [
       "                           oat        sat        orh       hwe       cwe  \\\n",
       "2018-11-16 10:30:00  31.035067  72.294783  86.121997  6.559873 -0.074854   \n",
       "2018-11-16 11:00:00  30.879700  71.386590  87.416587  6.635984 -0.064696   \n",
       "2018-11-16 11:30:00  31.005835  71.017611  88.703866  5.441332 -0.021788   \n",
       "2018-11-16 12:00:00  32.003000  71.443384  89.856486  2.929877 -0.004449   \n",
       "2018-11-16 12:30:00  34.156805  72.480124  89.755636  0.620724 -0.018241   \n",
       "\n",
       "                            ghi   avg_stpt      flow     hw_sf       hw_st  \\\n",
       "2018-11-16 10:30:00  565.999638  72.424800 -0.017122  8.773625  110.377847   \n",
       "2018-11-16 11:00:00  600.959785  72.426089 -0.076961  9.204061  112.295743   \n",
       "2018-11-16 11:30:00  612.900220  72.441218 -0.092335  8.031554  111.933015   \n",
       "2018-11-16 12:00:00  582.079452  72.468720  0.017583  4.925408  109.018922   \n",
       "2018-11-16 12:30:00  503.409577  72.479587  0.216607  1.579319  105.337845   \n",
       "\n",
       "                         hw_rt  30min_hwe  \n",
       "2018-11-16 10:30:00  96.047695  36.699631  \n",
       "2018-11-16 11:00:00  93.648113  40.076803  \n",
       "2018-11-16 11:30:00  91.667953  36.713355  \n",
       "2018-11-16 12:00:00  90.525998  24.126601  \n",
       "2018-11-16 12:30:00  91.040496   9.067507  "
      ]
     },
     "execution_count": 8,
     "metadata": {},
     "output_type": "execute_result"
    }
   ],
   "source": [
    "# Sample the data at half hour intervals\n",
    "df_out = dp.sample_timeseries_df(df_out, period=period)\n",
    "df_out.head()"
   ]
  },
  {
   "cell_type": "markdown",
   "metadata": {},
   "source": [
    "### remove 0 values from the energy"
   ]
  },
  {
   "cell_type": "code",
   "execution_count": 16,
   "metadata": {
    "run_control": {
     "marked": false
    }
   },
   "outputs": [
    {
     "data": {
      "text/html": [
       "<div>\n",
       "<style scoped>\n",
       "    .dataframe tbody tr th:only-of-type {\n",
       "        vertical-align: middle;\n",
       "    }\n",
       "\n",
       "    .dataframe tbody tr th {\n",
       "        vertical-align: top;\n",
       "    }\n",
       "\n",
       "    .dataframe thead th {\n",
       "        text-align: right;\n",
       "    }\n",
       "</style>\n",
       "<table border=\"1\" class=\"dataframe\">\n",
       "  <thead>\n",
       "    <tr style=\"text-align: right;\">\n",
       "      <th></th>\n",
       "      <th>oat</th>\n",
       "      <th>sat</th>\n",
       "      <th>orh</th>\n",
       "      <th>hwe</th>\n",
       "      <th>cwe</th>\n",
       "      <th>ghi</th>\n",
       "      <th>avg_stpt</th>\n",
       "      <th>flow</th>\n",
       "      <th>hw_sf</th>\n",
       "      <th>hw_st</th>\n",
       "      <th>hw_rt</th>\n",
       "      <th>30min_hwe</th>\n",
       "    </tr>\n",
       "  </thead>\n",
       "  <tbody>\n",
       "    <tr>\n",
       "      <th>count</th>\n",
       "      <td>17461.000000</td>\n",
       "      <td>17461.000000</td>\n",
       "      <td>17461.000000</td>\n",
       "      <td>17461.000000</td>\n",
       "      <td>17461.000000</td>\n",
       "      <td>17461.000000</td>\n",
       "      <td>17461.000000</td>\n",
       "      <td>17461.000000</td>\n",
       "      <td>17461.000000</td>\n",
       "      <td>17461.000000</td>\n",
       "      <td>17461.000000</td>\n",
       "      <td>17461.000000</td>\n",
       "    </tr>\n",
       "    <tr>\n",
       "      <th>mean</th>\n",
       "      <td>61.346177</td>\n",
       "      <td>69.493643</td>\n",
       "      <td>56.865931</td>\n",
       "      <td>3.524106</td>\n",
       "      <td>21.032328</td>\n",
       "      <td>169.852961</td>\n",
       "      <td>71.648641</td>\n",
       "      <td>33.987889</td>\n",
       "      <td>9.413017</td>\n",
       "      <td>102.936938</td>\n",
       "      <td>92.664013</td>\n",
       "      <td>21.142169</td>\n",
       "    </tr>\n",
       "    <tr>\n",
       "      <th>std</th>\n",
       "      <td>16.989838</td>\n",
       "      <td>5.652470</td>\n",
       "      <td>16.462856</td>\n",
       "      <td>3.846118</td>\n",
       "      <td>17.346112</td>\n",
       "      <td>255.934165</td>\n",
       "      <td>0.948048</td>\n",
       "      <td>30.335225</td>\n",
       "      <td>9.715231</td>\n",
       "      <td>14.281361</td>\n",
       "      <td>13.907987</td>\n",
       "      <td>23.052392</td>\n",
       "    </tr>\n",
       "    <tr>\n",
       "      <th>min</th>\n",
       "      <td>17.562966</td>\n",
       "      <td>51.414037</td>\n",
       "      <td>17.318977</td>\n",
       "      <td>-1.316666</td>\n",
       "      <td>-3.092499</td>\n",
       "      <td>-56.201757</td>\n",
       "      <td>66.101703</td>\n",
       "      <td>-1.806047</td>\n",
       "      <td>-2.484255</td>\n",
       "      <td>80.075722</td>\n",
       "      <td>63.824775</td>\n",
       "      <td>-8.381700</td>\n",
       "    </tr>\n",
       "    <tr>\n",
       "      <th>25%</th>\n",
       "      <td>47.244420</td>\n",
       "      <td>67.198887</td>\n",
       "      <td>44.320312</td>\n",
       "      <td>0.043751</td>\n",
       "      <td>5.348388</td>\n",
       "      <td>-0.021009</td>\n",
       "      <td>70.942869</td>\n",
       "      <td>7.624756</td>\n",
       "      <td>0.165661</td>\n",
       "      <td>90.383204</td>\n",
       "      <td>82.271268</td>\n",
       "      <td>0.270462</td>\n",
       "    </tr>\n",
       "    <tr>\n",
       "      <th>50%</th>\n",
       "      <td>60.984331</td>\n",
       "      <td>71.731659</td>\n",
       "      <td>56.500982</td>\n",
       "      <td>2.332870</td>\n",
       "      <td>14.966873</td>\n",
       "      <td>10.736843</td>\n",
       "      <td>71.323809</td>\n",
       "      <td>21.405845</td>\n",
       "      <td>6.451078</td>\n",
       "      <td>97.986945</td>\n",
       "      <td>89.975170</td>\n",
       "      <td>13.952004</td>\n",
       "    </tr>\n",
       "    <tr>\n",
       "      <th>75%</th>\n",
       "      <td>75.257789</td>\n",
       "      <td>73.137724</td>\n",
       "      <td>69.271714</td>\n",
       "      <td>5.408236</td>\n",
       "      <td>37.663093</td>\n",
       "      <td>266.325098</td>\n",
       "      <td>72.774546</td>\n",
       "      <td>61.839263</td>\n",
       "      <td>13.373266</td>\n",
       "      <td>114.836441</td>\n",
       "      <td>100.332040</td>\n",
       "      <td>32.330008</td>\n",
       "    </tr>\n",
       "    <tr>\n",
       "      <th>max</th>\n",
       "      <td>97.158479</td>\n",
       "      <td>78.917628</td>\n",
       "      <td>93.536813</td>\n",
       "      <td>17.007696</td>\n",
       "      <td>77.450150</td>\n",
       "      <td>963.483816</td>\n",
       "      <td>73.561111</td>\n",
       "      <td>125.401192</td>\n",
       "      <td>32.706693</td>\n",
       "      <td>150.216620</td>\n",
       "      <td>136.016809</td>\n",
       "      <td>101.827837</td>\n",
       "    </tr>\n",
       "  </tbody>\n",
       "</table>\n",
       "</div>"
      ],
      "text/plain": [
       "                oat           sat           orh           hwe           cwe  \\\n",
       "count  17461.000000  17461.000000  17461.000000  17461.000000  17461.000000   \n",
       "mean      61.346177     69.493643     56.865931      3.524106     21.032328   \n",
       "std       16.989838      5.652470     16.462856      3.846118     17.346112   \n",
       "min       17.562966     51.414037     17.318977     -1.316666     -3.092499   \n",
       "25%       47.244420     67.198887     44.320312      0.043751      5.348388   \n",
       "50%       60.984331     71.731659     56.500982      2.332870     14.966873   \n",
       "75%       75.257789     73.137724     69.271714      5.408236     37.663093   \n",
       "max       97.158479     78.917628     93.536813     17.007696     77.450150   \n",
       "\n",
       "                ghi      avg_stpt          flow         hw_sf         hw_st  \\\n",
       "count  17461.000000  17461.000000  17461.000000  17461.000000  17461.000000   \n",
       "mean     169.852961     71.648641     33.987889      9.413017    102.936938   \n",
       "std      255.934165      0.948048     30.335225      9.715231     14.281361   \n",
       "min      -56.201757     66.101703     -1.806047     -2.484255     80.075722   \n",
       "25%       -0.021009     70.942869      7.624756      0.165661     90.383204   \n",
       "50%       10.736843     71.323809     21.405845      6.451078     97.986945   \n",
       "75%      266.325098     72.774546     61.839263     13.373266    114.836441   \n",
       "max      963.483816     73.561111    125.401192     32.706693    150.216620   \n",
       "\n",
       "              hw_rt     30min_hwe  \n",
       "count  17461.000000  17461.000000  \n",
       "mean      92.664013     21.142169  \n",
       "std       13.907987     23.052392  \n",
       "min       63.824775     -8.381700  \n",
       "25%       82.271268      0.270462  \n",
       "50%       89.975170     13.952004  \n",
       "75%      100.332040     32.330008  \n",
       "max      136.016809    101.827837  "
      ]
     },
     "execution_count": 16,
     "metadata": {},
     "output_type": "execute_result"
    }
   ],
   "source": [
    "df_out.describe()"
   ]
  },
  {
   "cell_type": "code",
   "execution_count": 9,
   "metadata": {
    "run_control": {
     "marked": true
    }
   },
   "outputs": [],
   "source": [
    "df_out = df_out[df_out['30min_hwe']>0]\n",
    "df_out = df_out[df_out['hw_sf']>0]"
   ]
  },
  {
   "cell_type": "markdown",
   "metadata": {},
   "source": [
    "### Create 7 day chunks of data"
   ]
  },
  {
   "cell_type": "code",
   "execution_count": 10,
   "metadata": {
    "run_control": {
     "marked": true
    }
   },
   "outputs": [
    {
     "name": "stdout",
     "output_type": "stream",
     "text": [
      "Length of dflist: 61\n"
     ]
    }
   ],
   "source": [
    "# Creating a list of 7 day dataframes for training\n",
    "dflist = dp.df2dflist_alt(df_out[['oat', 'orh', 'sat', 'ghi', 'hw_sf', '30min_hwe', 'hw_st']],\n",
    "                      subsequence=True,\n",
    "                      period=period,\n",
    "                      days=7,\n",
    "                      hours=0)\n",
    "print('Length of dflist: {}'.format(len(dflist)))"
   ]
  },
  {
   "cell_type": "markdown",
   "metadata": {},
   "source": [
    "### Custom way to create Training Data; Choose inputs, outputs, lags, train-test splits etc"
   ]
  },
  {
   "cell_type": "code",
   "execution_count": 11,
   "metadata": {
    "hide_input": false,
    "run_control": {
     "marked": true
    },
    "scrolled": true
   },
   "outputs": [],
   "source": [
    "data_weeks = 52 # Create a large initial block 6 months ~ 26 weeks of training and testing data\n",
    "weeklist = []  # create list of training, testing arrays\n",
    "inputcols = ['oat','orh', 'sat', 'ghi', 'hw_sf', 'hw_st']  # input data\n",
    "outputcols = ['30min_hwe']  # output data\n",
    "lag = -1  # predict next time step energy\n",
    "\n",
    "from pandas import concat\n",
    "def quickmerge(listdf):\n",
    "    return concat(listdf)"
   ]
  },
  {
   "cell_type": "markdown",
   "metadata": {},
   "source": [
    "### Initial Data Block for offline training"
   ]
  },
  {
   "cell_type": "code",
   "execution_count": 12,
   "metadata": {
    "run_control": {
     "marked": true
    }
   },
   "outputs": [],
   "source": [
    "datablock = dflist[:data_weeks]\n",
    "datablock_df = quickmerge(datablock)\n",
    "splitvalue =  (data_weeks-1)/data_weeks  # One week for training\n",
    "X_train, X_test, y_train, y_test, X_scaler, y_scaler = dp.df2arrays(\n",
    "        datablock_df,\n",
    "        predictorcols=inputcols,\n",
    "        outputcols=outputcols,\n",
    "        scaling=True,\n",
    "        feature_range=(0,1),\n",
    "        reshaping=True,\n",
    "        lag=lag,\n",
    "        split=splitvalue,\n",
    "    input_timesteps=1,\n",
    "    )\n",
    "\n",
    "idx_end = -max(X_test.shape[1],y_test.shape[1])\n",
    "idx_start = idx_end - X_test.shape[0] + 1\n",
    "\n",
    "test_idx = datablock_df.index[[i for i in range(idx_start,idx_end+1,1)]]\n",
    "\n",
    "weeklist.append({\n",
    "        'Id':'Year-{}-Week-{}'.format(str(datablock_df.index[0].year), \n",
    "                                      str(datablock_df.index[0].week)),\n",
    "        'X_train':X_train,\n",
    "        'y_train': y_train,\n",
    "        'X_test': X_test,\n",
    "        'y_test': y_test,\n",
    "        'y_scaler':y_scaler,\n",
    "        'X_scaler':X_scaler,\n",
    "        'test_idx':test_idx,\n",
    "    })"
   ]
  },
  {
   "cell_type": "markdown",
   "metadata": {},
   "source": [
    "### Create small blocks of data for weekly training"
   ]
  },
  {
   "cell_type": "code",
   "execution_count": 13,
   "metadata": {
    "run_control": {
     "marked": true
    }
   },
   "outputs": [
    {
     "name": "stdout",
     "output_type": "stream",
     "text": [
      "Length of weeklist: 10\n"
     ]
    }
   ],
   "source": [
    "for weekdata in dflist[data_weeks:]:\n",
    "    \n",
    "    datablock = datablock[1:]+[weekdata]# remove 1st of data from initial_datablock\n",
    "    splitvalue = (len(datablock)-1)/len(datablock)\n",
    "    datablock_df = quickmerge(datablock)\n",
    "    # and add new week data from weekdata\n",
    "    \n",
    "    X_train, X_test, y_train, y_test, X_scaler, y_scaler = dp.df2arrays(\n",
    "        datablock_df,\n",
    "        predictorcols=inputcols,\n",
    "        outputcols=outputcols,\n",
    "        scaling=True,\n",
    "        feature_range=(0,1),\n",
    "        reshaping=True,\n",
    "        lag=lag,\n",
    "        split=splitvalue,\n",
    "        input_timesteps=1,\n",
    "    )\n",
    "\n",
    "    idx_end = -max(X_test.shape[1],y_test.shape[1])\n",
    "    idx_start = idx_end - X_test.shape[0] + 1\n",
    "    test_idx = datablock_df.index[[i for i in range(idx_start,idx_end+1,1)]]\n",
    "\n",
    "    weeklist.append({\n",
    "        'Id':'Year-{}-Week-{}'.format(str(datablock_df.index[-1].year), \n",
    "                                      str(datablock_df.index[-1].week)),\n",
    "        'X_train':X_train,\n",
    "        'y_train': y_train,\n",
    "        'X_test': X_test,\n",
    "        'y_test': y_test,\n",
    "        'y_scaler':y_scaler,\n",
    "        'X_scaler':X_scaler,\n",
    "        'test_idx':test_idx,\n",
    "    })\n",
    "\n",
    "print('Length of weeklist: {}'.format(len(weeklist)))"
   ]
  },
  {
   "cell_type": "markdown",
   "metadata": {},
   "source": [
    "### Print size and shape of data to feed to the LSTM for sanity checks"
   ]
  },
  {
   "cell_type": "code",
   "execution_count": 14,
   "metadata": {
    "run_control": {
     "marked": true
    },
    "scrolled": true
   },
   "outputs": [
    {
     "name": "stdout",
     "output_type": "stream",
     "text": [
      "name: Id, value: Year-2018-Week-46\n",
      "name: X_train, value: (11852, 1, 6)\n",
      "name: y_train, value: (11852, 1, 1)\n",
      "name: X_test, value: (233, 1, 6)\n",
      "name: y_test, value: (233, 1, 1)\n",
      "name: test_idx, value: (233,)\n",
      "name: Id, value: Year-2019-Week-46\n",
      "name: X_train, value: (11733, 1, 6)\n",
      "name: y_train, value: (11733, 1, 1)\n",
      "name: X_test, value: (231, 1, 6)\n",
      "name: y_test, value: (231, 1, 1)\n",
      "name: test_idx, value: (231,)\n",
      "name: Id, value: Year-2019-Week-51\n",
      "name: X_train, value: (11563, 1, 6)\n",
      "name: y_train, value: (11563, 1, 1)\n",
      "name: X_test, value: (227, 1, 6)\n",
      "name: y_test, value: (227, 1, 1)\n",
      "name: test_idx, value: (227,)\n",
      "name: Id, value: Year-2019-Week-52\n",
      "name: X_train, value: (11520, 1, 6)\n",
      "name: y_train, value: (11520, 1, 1)\n",
      "name: X_test, value: (226, 1, 6)\n",
      "name: y_test, value: (226, 1, 1)\n",
      "name: test_idx, value: (226,)\n",
      "name: Id, value: Year-2020-Week-1\n",
      "name: X_train, value: (11573, 1, 6)\n",
      "name: y_train, value: (11573, 1, 1)\n",
      "name: X_test, value: (227, 1, 6)\n",
      "name: y_test, value: (227, 1, 1)\n",
      "name: test_idx, value: (227,)\n",
      "name: Id, value: Year-2020-Week-2\n",
      "name: X_train, value: (11523, 1, 6)\n",
      "name: y_train, value: (11523, 1, 1)\n",
      "name: X_test, value: (226, 1, 6)\n",
      "name: y_test, value: (226, 1, 1)\n",
      "name: test_idx, value: (226,)\n",
      "name: Id, value: Year-2020-Week-3\n",
      "name: X_train, value: (11439, 1, 6)\n",
      "name: y_train, value: (11439, 1, 1)\n",
      "name: X_test, value: (225, 1, 6)\n",
      "name: y_test, value: (225, 1, 1)\n",
      "name: test_idx, value: (225,)\n",
      "name: Id, value: Year-2020-Week-4\n",
      "name: X_train, value: (11326, 1, 6)\n",
      "name: y_train, value: (11326, 1, 1)\n",
      "name: X_test, value: (223, 1, 6)\n",
      "name: y_test, value: (223, 1, 1)\n",
      "name: test_idx, value: (223,)\n",
      "name: Id, value: Year-2020-Week-5\n",
      "name: X_train, value: (11410, 1, 6)\n",
      "name: y_train, value: (11410, 1, 1)\n",
      "name: X_test, value: (224, 1, 6)\n",
      "name: y_test, value: (224, 1, 1)\n",
      "name: test_idx, value: (224,)\n",
      "name: Id, value: Year-2020-Week-6\n",
      "name: X_train, value: (11378, 1, 6)\n",
      "name: y_train, value: (11378, 1, 1)\n",
      "name: X_test, value: (224, 1, 6)\n",
      "name: y_test, value: (224, 1, 1)\n",
      "name: test_idx, value: (224,)\n"
     ]
    }
   ],
   "source": [
    "for week in weeklist:\n",
    "    for key,value in week.items():\n",
    "        if (key != 'y_scaler') & (key != 'X_scaler') :\n",
    "            print(\"name: {}, value: {}\".format(key, value.shape if not isinstance(value,str) else value))"
   ]
  },
  {
   "cell_type": "markdown",
   "metadata": {
    "hide_input": false
   },
   "source": [
    "### Create Folder to save models and tensorboard logs"
   ]
  },
  {
   "cell_type": "code",
   "execution_count": 15,
   "metadata": {
    "run_control": {
     "marked": true
    }
   },
   "outputs": [],
   "source": [
    "path = '../results/lstm_hwe_trial6/'\n",
    "!rm -rf ../results/lstm_hwe_trial6\n",
    "\n",
    "# create the results directory\n",
    "try:\n",
    "    os.mkdir(path)\n",
    "except FileExistsError:\n",
    "    files = os.listdir(path)\n",
    "    for f in files:\n",
    "        os.remove(path + f)\n",
    "        \n",
    "os.mkdir(path + 'loginfo')"
   ]
  },
  {
   "cell_type": "markdown",
   "metadata": {},
   "source": [
    "### Clear the Tensorflow graph from previous training"
   ]
  },
  {
   "cell_type": "code",
   "execution_count": 16,
   "metadata": {
    "run_control": {
     "marked": true
    }
   },
   "outputs": [
    {
     "name": "stdout",
     "output_type": "stream",
     "text": [
      "WARNING:tensorflow:From /data/nauga/SmartBuildings/venvs/sbvenv1/lib/python3.6/site-packages/keras/backend/tensorflow_backend.py:95: The name tf.reset_default_graph is deprecated. Please use tf.compat.v1.reset_default_graph instead.\n",
      "\n",
      "WARNING:tensorflow:From /data/nauga/SmartBuildings/venvs/sbvenv1/lib/python3.6/site-packages/keras/backend/tensorflow_backend.py:98: The name tf.placeholder_with_default is deprecated. Please use tf.compat.v1.placeholder_with_default instead.\n",
      "\n",
      "WARNING:tensorflow:From /data/nauga/SmartBuildings/venvs/sbvenv1/lib/python3.6/site-packages/keras/backend/tensorflow_backend.py:102: The name tf.get_default_graph is deprecated. Please use tf.compat.v1.get_default_graph instead.\n",
      "\n"
     ]
    }
   ],
   "source": [
    "try:\n",
    "    del nn_model\n",
    "except NameError:\n",
    "    pass\n",
    "\n",
    "K.clear_session()"
   ]
  },
  {
   "cell_type": "markdown",
   "metadata": {},
   "source": [
    "### Configure the LSTM model architecture"
   ]
  },
  {
   "cell_type": "code",
   "execution_count": 17,
   "metadata": {
    "run_control": {
     "marked": true
    }
   },
   "outputs": [],
   "source": [
    "modelconfig = {\n",
    "    'weeklist': weeklist,\n",
    "    'lstm_hidden_units': 4,\n",
    "    'lstm_no_layers': 2,\n",
    "    'dense_hidden_units':8,\n",
    "    'dense_no_layers': 4,\n",
    "    'train_epochs':5000,\n",
    "    'retrain_from_layers':5\n",
    "\n",
    "}"
   ]
  },
  {
   "cell_type": "code",
   "execution_count": 174,
   "metadata": {
    "run_control": {
     "marked": false
    }
   },
   "outputs": [],
   "source": [
    "# weekdata = modelconfig['weeklist'][0]\n",
    "# X_train = weekdata['X_train']\n",
    "# y_train = weekdata['y_train']\n",
    "# X_test = weekdata['X_test']\n",
    "# y_test = weekdata['y_test']\n",
    "# y_scaler = weekdata['y_scaler']\n",
    "\n",
    "# #Instantiate learner model\n",
    "# nn_model = mp.seq2seq_model(path,\n",
    "#                       inputdim=X_train.shape[-1],\n",
    "#                       outputdim=y_train.shape[-1],\n",
    "#                       period=period)\n",
    "\n",
    "# # Desing model architecture\n",
    "# nn_model.design_network(lstmhiddenlayers=[modelconfig['lstm_hidden_units']] * (2*modelconfig['lstm_no_layers']),\n",
    "#                    densehiddenlayers=[modelconfig['dense_hidden_units']] * modelconfig['dense_no_layers'],\n",
    "#                    dropoutlist=[[], []],\n",
    "#                    batchnormalizelist=[[], []])\n",
    "\n",
    "# # compile model\n",
    "# nn_model.model_compile()"
   ]
  },
  {
   "cell_type": "markdown",
   "metadata": {},
   "source": [
    "### Start the week by week training procedure"
   ]
  },
  {
   "cell_type": "code",
   "execution_count": 18,
   "metadata": {
    "run_control": {
     "marked": true
    },
    "scrolled": true
   },
   "outputs": [
    {
     "name": "stderr",
     "output_type": "stream",
     "text": [
      "\r",
      "  0%|          | 0/10 [00:00<?, ?it/s]"
     ]
    },
    {
     "name": "stdout",
     "output_type": "stream",
     "text": [
      "WARNING:tensorflow:From /data/nauga/SmartBuildings/venvs/sbvenv1/lib/python3.6/site-packages/keras/backend/tensorflow_backend.py:517: The name tf.placeholder is deprecated. Please use tf.compat.v1.placeholder instead.\n",
      "\n",
      "WARNING:tensorflow:From /data/nauga/SmartBuildings/venvs/sbvenv1/lib/python3.6/site-packages/keras/backend/tensorflow_backend.py:4138: The name tf.random_uniform is deprecated. Please use tf.random.uniform instead.\n",
      "\n",
      "WARNING:tensorflow:From /data/nauga/SmartBuildings/venvs/sbvenv1/lib/python3.6/site-packages/keras/optimizers.py:790: The name tf.train.Optimizer is deprecated. Please use tf.compat.v1.train.Optimizer instead.\n",
      "\n",
      "WARNING:tensorflow:From /data/nauga/SmartBuildings/venvs/sbvenv1/lib/python3.6/site-packages/tensorflow/python/ops/math_grad.py:1250: add_dispatch_support.<locals>.wrapper (from tensorflow.python.ops.array_ops) is deprecated and will be removed in a future version.\n",
      "Instructions for updating:\n",
      "Use tf.where in 2.0, which has the same broadcast rule as np.where\n",
      "Train on 11852 samples, validate on 233 samples\n",
      "WARNING:tensorflow:From /data/nauga/SmartBuildings/venvs/sbvenv1/lib/python3.6/site-packages/keras/callbacks.py:848: The name tf.summary.histogram is deprecated. Please use tf.compat.v1.summary.histogram instead.\n",
      "\n",
      "WARNING:tensorflow:From /data/nauga/SmartBuildings/venvs/sbvenv1/lib/python3.6/site-packages/keras/callbacks.py:850: The name tf.summary.merge_all is deprecated. Please use tf.compat.v1.summary.merge_all instead.\n",
      "\n",
      "WARNING:tensorflow:From /data/nauga/SmartBuildings/venvs/sbvenv1/lib/python3.6/site-packages/keras/callbacks.py:856: The name tf.summary.FileWriter is deprecated. Please use tf.compat.v1.summary.FileWriter instead.\n",
      "\n",
      "Epoch 1/5000\n",
      " - 7s - loss: 0.0351 - val_loss: 0.1340\n",
      "Epoch 2/5000\n",
      " - 4s - loss: 0.0294 - val_loss: 0.1396\n",
      "Epoch 3/5000\n",
      " - 4s - loss: 0.0296 - val_loss: 0.1450\n",
      "Epoch 4/5000\n",
      " - 4s - loss: 0.0468 - val_loss: 0.1550\n",
      "Epoch 5/5000\n",
      " - 4s - loss: 0.0481 - val_loss: 0.1555\n",
      "Epoch 6/5000\n",
      " - 4s - loss: 0.0480 - val_loss: 0.1553\n",
      "Epoch 7/5000\n",
      " - 4s - loss: 0.0476 - val_loss: 0.1549\n",
      "Epoch 8/5000\n",
      " - 4s - loss: 0.0515 - val_loss: 0.1489\n",
      "Epoch 9/5000\n",
      " - 4s - loss: 0.0503 - val_loss: 0.1438\n"
     ]
    },
    {
     "name": "stderr",
     "output_type": "stream",
     "text": [
      "\r",
      " 10%|█         | 1/10 [01:18<11:49, 78.81s/it]"
     ]
    },
    {
     "name": "stdout",
     "output_type": "stream",
     "text": [
      "Train on 11733 samples, validate on 231 samples\n",
      "Epoch 10/5000\n",
      " - 7s - loss: 0.0355 - val_loss: 0.1478\n",
      "Epoch 11/5000\n",
      " - 4s - loss: 0.0297 - val_loss: 0.1532\n",
      "Epoch 12/5000\n",
      " - 4s - loss: 0.0296 - val_loss: 0.1572\n",
      "Epoch 13/5000\n",
      " - 4s - loss: 0.0443 - val_loss: 0.1793\n",
      "Epoch 14/5000\n",
      " - 4s - loss: 0.0455 - val_loss: 0.1794\n",
      "Epoch 15/5000\n",
      " - 4s - loss: 0.0441 - val_loss: 0.1769\n",
      "Epoch 16/5000\n",
      " - 4s - loss: 0.0417 - val_loss: 0.1724\n",
      "Epoch 17/5000\n",
      " - 4s - loss: 0.0462 - val_loss: 0.1603\n",
      "Epoch 18/5000\n",
      " - 4s - loss: 0.0441 - val_loss: 0.1510\n"
     ]
    },
    {
     "name": "stderr",
     "output_type": "stream",
     "text": [
      "\r",
      " 20%|██        | 2/10 [02:37<10:29, 78.73s/it]"
     ]
    },
    {
     "name": "stdout",
     "output_type": "stream",
     "text": [
      "Train on 11563 samples, validate on 227 samples\n",
      "Epoch 19/5000\n",
      " - 7s - loss: 0.0343 - val_loss: 0.0887\n",
      "Epoch 20/5000\n",
      " - 4s - loss: 0.0293 - val_loss: 0.0935\n",
      "Epoch 21/5000\n",
      " - 4s - loss: 0.0289 - val_loss: 0.0955\n",
      "Epoch 22/5000\n",
      " - 4s - loss: 0.0416 - val_loss: 0.1274\n",
      "Epoch 23/5000\n",
      " - 4s - loss: 0.0437 - val_loss: 0.1277\n",
      "Epoch 24/5000\n",
      " - 4s - loss: 0.0420 - val_loss: 0.1254\n",
      "Epoch 25/5000\n",
      " - 4s - loss: 0.0395 - val_loss: 0.1209\n",
      "Epoch 26/5000\n",
      " - 4s - loss: 0.0442 - val_loss: 0.1098\n",
      "Epoch 27/5000\n",
      " - 4s - loss: 0.0421 - val_loss: 0.1018\n"
     ]
    },
    {
     "name": "stderr",
     "output_type": "stream",
     "text": [
      "\r",
      " 30%|███       | 3/10 [03:55<09:09, 78.57s/it]"
     ]
    },
    {
     "name": "stdout",
     "output_type": "stream",
     "text": [
      "Train on 11520 samples, validate on 226 samples\n",
      "Epoch 28/5000\n",
      " - 7s - loss: 0.0353 - val_loss: 0.0209\n",
      "Epoch 29/5000\n",
      " - 4s - loss: 0.0294 - val_loss: 0.0176\n",
      "Epoch 30/5000\n",
      " - 4s - loss: 0.0283 - val_loss: 0.0155\n",
      "Epoch 31/5000\n",
      " - 4s - loss: 0.0242 - val_loss: 0.0100\n",
      "Epoch 32/5000\n",
      " - 4s - loss: 0.0146 - val_loss: 0.0124\n",
      "Epoch 33/5000\n",
      " - 4s - loss: 0.0138 - val_loss: 0.0151\n",
      "Epoch 34/5000\n",
      " - 4s - loss: 0.0130 - val_loss: 0.0042\n",
      "Epoch 35/5000\n",
      " - 4s - loss: 0.0116 - val_loss: 0.0041\n",
      "Epoch 36/5000\n",
      " - 4s - loss: 0.0115 - val_loss: 0.0041\n",
      "Epoch 37/5000\n",
      " - 4s - loss: 0.0114 - val_loss: 0.0040\n",
      "Epoch 38/5000\n",
      " - 4s - loss: 0.0115 - val_loss: 0.0046\n",
      "Epoch 39/5000\n",
      " - 4s - loss: 0.0111 - val_loss: 0.0051\n",
      "Epoch 40/5000\n",
      " - 4s - loss: 0.0111 - val_loss: 0.0053\n",
      "Epoch 41/5000\n",
      " - 4s - loss: 0.0110 - val_loss: 0.0054\n",
      "Epoch 42/5000\n",
      " - 4s - loss: 0.0110 - val_loss: 0.0054\n",
      "Epoch 43/5000\n",
      " - 4s - loss: 0.0110 - val_loss: 0.0054\n",
      "Epoch 44/5000\n",
      " - 4s - loss: 0.0110 - val_loss: 0.0054\n",
      "Epoch 45/5000\n",
      " - 4s - loss: 0.0110 - val_loss: 0.0054\n"
     ]
    },
    {
     "name": "stderr",
     "output_type": "stream",
     "text": [
      "\r",
      " 40%|████      | 4/10 [05:50<08:57, 89.63s/it]"
     ]
    },
    {
     "name": "stdout",
     "output_type": "stream",
     "text": [
      "Train on 11573 samples, validate on 227 samples\n",
      "Epoch 46/5000\n",
      " - 7s - loss: 0.0189 - val_loss: 0.0110\n",
      "Epoch 47/5000\n",
      " - 4s - loss: 0.0127 - val_loss: 0.0091\n",
      "Epoch 48/5000\n",
      " - 4s - loss: 0.0125 - val_loss: 0.0081\n",
      "Epoch 49/5000\n",
      " - 4s - loss: 0.0123 - val_loss: 0.0075\n",
      "Epoch 50/5000\n",
      " - 4s - loss: 0.0122 - val_loss: 0.0071\n",
      "Epoch 51/5000\n",
      " - 4s - loss: 0.0121 - val_loss: 0.0068\n",
      "Epoch 52/5000\n",
      " - 4s - loss: 0.0120 - val_loss: 0.0067\n",
      "Epoch 53/5000\n",
      " - 4s - loss: 0.0120 - val_loss: 0.0065\n",
      "Epoch 54/5000\n",
      " - 4s - loss: 0.0119 - val_loss: 0.0064\n",
      "Epoch 55/5000\n",
      " - 4s - loss: 0.0119 - val_loss: 0.0064\n",
      "Epoch 56/5000\n",
      " - 4s - loss: 0.0118 - val_loss: 0.0063\n",
      "Epoch 57/5000\n",
      " - 4s - loss: 0.0118 - val_loss: 0.0063\n",
      "Epoch 58/5000\n",
      " - 4s - loss: 0.0107 - val_loss: 0.0060\n",
      "Epoch 59/5000\n",
      " - 4s - loss: 0.0106 - val_loss: 0.0058\n",
      "Epoch 60/5000\n",
      " - 4s - loss: 0.0105 - val_loss: 0.0057\n",
      "Epoch 61/5000\n",
      " - 4s - loss: 0.0105 - val_loss: 0.0057\n",
      "Epoch 62/5000\n",
      " - 4s - loss: 0.0105 - val_loss: 0.0056\n",
      "Epoch 63/5000\n",
      " - 4s - loss: 0.0105 - val_loss: 0.0056\n",
      "Epoch 64/5000\n",
      " - 4s - loss: 0.0107 - val_loss: 0.0063\n",
      "Epoch 65/5000\n",
      " - 4s - loss: 0.0104 - val_loss: 0.0068\n",
      "Epoch 66/5000\n",
      " - 4s - loss: 0.0103 - val_loss: 0.0070\n",
      "Epoch 67/5000\n",
      " - 4s - loss: 0.0102 - val_loss: 0.0072\n",
      "Epoch 68/5000\n",
      " - 4s - loss: 0.0102 - val_loss: 0.0072\n",
      "Epoch 69/5000\n",
      " - 4s - loss: 0.0102 - val_loss: 0.0072\n",
      "Epoch 70/5000\n",
      " - 4s - loss: 0.0102 - val_loss: 0.0072\n",
      "Epoch 71/5000\n",
      " - 4s - loss: 0.0102 - val_loss: 0.0073\n"
     ]
    },
    {
     "name": "stderr",
     "output_type": "stream",
     "text": [
      "\r",
      " 50%|█████     | 5/10 [08:21<08:59, 107.96s/it]"
     ]
    },
    {
     "name": "stdout",
     "output_type": "stream",
     "text": [
      "Train on 11523 samples, validate on 226 samples\n",
      "Epoch 72/5000\n",
      " - 7s - loss: 0.0220 - val_loss: 0.0492\n",
      "Epoch 73/5000\n",
      " - 4s - loss: 0.0123 - val_loss: 0.0469\n",
      "Epoch 74/5000\n",
      " - 4s - loss: 0.0121 - val_loss: 0.0444\n",
      "Epoch 75/5000\n",
      " - 4s - loss: 0.0119 - val_loss: 0.0427\n",
      "Epoch 76/5000\n",
      " - 4s - loss: 0.0118 - val_loss: 0.0414\n",
      "Epoch 77/5000\n",
      " - 4s - loss: 0.0117 - val_loss: 0.0404\n",
      "Epoch 78/5000\n",
      " - 4s - loss: 0.0116 - val_loss: 0.0396\n",
      "Epoch 79/5000\n",
      " - 4s - loss: 0.0115 - val_loss: 0.0388\n",
      "Epoch 80/5000\n",
      " - 4s - loss: 0.0115 - val_loss: 0.0380\n",
      "Epoch 81/5000\n",
      " - 4s - loss: 0.0114 - val_loss: 0.0373\n",
      "Epoch 82/5000\n",
      " - 4s - loss: 0.0114 - val_loss: 0.0366\n",
      "Epoch 83/5000\n",
      " - 4s - loss: 0.0113 - val_loss: 0.0360\n",
      "Epoch 84/5000\n",
      " - 4s - loss: 0.0113 - val_loss: 0.0354\n",
      "Epoch 85/5000\n",
      " - 4s - loss: 0.0112 - val_loss: 0.0348\n",
      "Epoch 86/5000\n",
      " - 4s - loss: 0.0112 - val_loss: 0.0343\n",
      "Epoch 87/5000\n",
      " - 4s - loss: 0.0112 - val_loss: 0.0338\n",
      "Epoch 88/5000\n",
      " - 4s - loss: 0.0111 - val_loss: 0.0334\n",
      "Epoch 89/5000\n",
      " - 4s - loss: 0.0111 - val_loss: 0.0329\n",
      "Epoch 90/5000\n",
      " - 4s - loss: 0.0111 - val_loss: 0.0325\n",
      "Epoch 91/5000\n",
      " - 4s - loss: 0.0110 - val_loss: 0.0321\n",
      "Epoch 92/5000\n",
      " - 4s - loss: 0.0110 - val_loss: 0.0316\n",
      "Epoch 93/5000\n",
      " - 4s - loss: 0.0110 - val_loss: 0.0312\n",
      "Epoch 94/5000\n",
      " - 4s - loss: 0.0109 - val_loss: 0.0310\n",
      "Epoch 95/5000\n",
      " - 4s - loss: 0.0109 - val_loss: 0.0306\n",
      "Epoch 96/5000\n",
      " - 4s - loss: 0.0109 - val_loss: 0.0301\n",
      "Epoch 97/5000\n",
      " - 4s - loss: 0.0109 - val_loss: 0.0297\n",
      "Epoch 98/5000\n",
      " - 4s - loss: 0.0109 - val_loss: 0.0295\n",
      "Epoch 99/5000\n",
      " - 4s - loss: 0.0108 - val_loss: 0.0292\n",
      "Epoch 100/5000\n",
      " - 4s - loss: 0.0108 - val_loss: 0.0290\n",
      "Epoch 101/5000\n",
      " - 4s - loss: 0.0108 - val_loss: 0.0285\n",
      "Epoch 102/5000\n",
      " - 4s - loss: 0.0108 - val_loss: 0.0284\n",
      "Epoch 103/5000\n",
      " - 4s - loss: 0.0108 - val_loss: 0.0280\n",
      "Epoch 104/5000\n",
      " - 4s - loss: 0.0107 - val_loss: 0.0277\n",
      "Epoch 105/5000\n",
      " - 4s - loss: 0.0107 - val_loss: 0.0274\n",
      "Epoch 106/5000\n",
      " - 4s - loss: 0.0107 - val_loss: 0.0273\n",
      "Epoch 107/5000\n",
      " - 4s - loss: 0.0107 - val_loss: 0.0274\n",
      "Epoch 108/5000\n",
      " - 4s - loss: 0.0107 - val_loss: 0.0271\n",
      "Epoch 109/5000\n",
      " - 4s - loss: 0.0106 - val_loss: 0.0267\n",
      "Epoch 110/5000\n",
      " - 4s - loss: 0.0107 - val_loss: 0.0269\n",
      "Epoch 111/5000\n",
      " - 4s - loss: 0.0106 - val_loss: 0.0260\n",
      "Epoch 112/5000\n",
      " - 4s - loss: 0.0106 - val_loss: 0.0259\n",
      "Epoch 113/5000\n",
      " - 4s - loss: 0.0106 - val_loss: 0.0258\n",
      "Epoch 114/5000\n",
      " - 4s - loss: 0.0106 - val_loss: 0.0262\n",
      "Epoch 115/5000\n",
      " - 4s - loss: 0.0106 - val_loss: 0.0258\n",
      "Epoch 116/5000\n",
      " - 4s - loss: 0.0097 - val_loss: 0.0208\n",
      "Epoch 117/5000\n",
      " - 4s - loss: 0.0098 - val_loss: 0.0208\n",
      "Epoch 118/5000\n",
      " - 4s - loss: 0.0098 - val_loss: 0.0208\n",
      "Epoch 119/5000\n",
      " - 4s - loss: 0.0098 - val_loss: 0.0207\n",
      "Epoch 120/5000\n",
      " - 4s - loss: 0.0099 - val_loss: 0.0223\n",
      "Epoch 121/5000\n",
      " - 4s - loss: 0.0097 - val_loss: 0.0233\n",
      "Epoch 122/5000\n",
      " - 4s - loss: 0.0096 - val_loss: 0.0239\n",
      "Epoch 123/5000\n",
      " - 4s - loss: 0.0096 - val_loss: 0.0242\n",
      "Epoch 124/5000\n",
      " - 4s - loss: 0.0096 - val_loss: 0.0243\n",
      "Epoch 125/5000\n",
      " - 4s - loss: 0.0096 - val_loss: 0.0243\n",
      "Epoch 126/5000\n",
      " - 4s - loss: 0.0096 - val_loss: 0.0244\n",
      "Epoch 127/5000\n",
      " - 4s - loss: 0.0096 - val_loss: 0.0244\n"
     ]
    },
    {
     "name": "stderr",
     "output_type": "stream",
     "text": [
      "\r",
      " 60%|██████    | 6/10 [12:58<10:34, 158.58s/it]"
     ]
    },
    {
     "name": "stdout",
     "output_type": "stream",
     "text": [
      "Train on 11439 samples, validate on 225 samples\n",
      "Epoch 128/5000\n",
      " - 7s - loss: 0.0143 - val_loss: 0.0466\n",
      "Epoch 129/5000\n",
      " - 4s - loss: 0.0131 - val_loss: 0.0384\n",
      "Epoch 130/5000\n",
      " - 4s - loss: 0.0121 - val_loss: 0.0353\n",
      "Epoch 131/5000\n",
      " - 4s - loss: 0.0117 - val_loss: 0.0338\n",
      "Epoch 132/5000\n",
      " - 4s - loss: 0.0115 - val_loss: 0.0330\n",
      "Epoch 133/5000\n",
      " - 4s - loss: 0.0114 - val_loss: 0.0325\n",
      "Epoch 134/5000\n",
      " - 4s - loss: 0.0113 - val_loss: 0.0323\n",
      "Epoch 135/5000\n",
      " - 4s - loss: 0.0112 - val_loss: 0.0321\n",
      "Epoch 136/5000\n",
      " - 4s - loss: 0.0112 - val_loss: 0.0320\n",
      "Epoch 137/5000\n",
      " - 4s - loss: 0.0111 - val_loss: 0.0320\n",
      "Epoch 138/5000\n",
      " - 4s - loss: 0.0111 - val_loss: 0.0319\n",
      "Epoch 139/5000\n",
      " - 4s - loss: 0.0111 - val_loss: 0.0319\n",
      "Epoch 140/5000\n",
      " - 4s - loss: 0.0100 - val_loss: 0.0304\n",
      "Epoch 141/5000\n",
      " - 4s - loss: 0.0100 - val_loss: 0.0300\n",
      "Epoch 142/5000\n",
      " - 4s - loss: 0.0100 - val_loss: 0.0299\n",
      "Epoch 143/5000\n",
      " - 4s - loss: 0.0100 - val_loss: 0.0298\n",
      "Epoch 144/5000\n",
      " - 4s - loss: 0.0100 - val_loss: 0.0298\n",
      "Epoch 145/5000\n",
      " - 4s - loss: 0.0100 - val_loss: 0.0298\n",
      "Epoch 146/5000\n",
      " - 4s - loss: 0.0099 - val_loss: 0.0298\n",
      "Epoch 147/5000\n",
      " - 4s - loss: 0.0102 - val_loss: 0.0303\n",
      "Epoch 148/5000\n",
      " - 4s - loss: 0.0098 - val_loss: 0.0307\n",
      "Epoch 149/5000\n",
      " - 4s - loss: 0.0097 - val_loss: 0.0309\n",
      "Epoch 150/5000\n",
      " - 4s - loss: 0.0097 - val_loss: 0.0310\n",
      "Epoch 151/5000\n",
      " - 4s - loss: 0.0097 - val_loss: 0.0310\n",
      "Epoch 152/5000\n",
      " - 4s - loss: 0.0097 - val_loss: 0.0311\n",
      "Epoch 153/5000\n",
      " - 4s - loss: 0.0097 - val_loss: 0.0311\n",
      "Epoch 154/5000\n",
      " - 4s - loss: 0.0097 - val_loss: 0.0311\n"
     ]
    },
    {
     "name": "stderr",
     "output_type": "stream",
     "text": [
      "\r",
      " 70%|███████   | 7/10 [15:32<07:51, 157.31s/it]"
     ]
    },
    {
     "name": "stdout",
     "output_type": "stream",
     "text": [
      "Train on 11326 samples, validate on 223 samples\n",
      "Epoch 155/5000\n",
      " - 7s - loss: 0.0141 - val_loss: 0.0362\n",
      "Epoch 156/5000\n",
      " - 4s - loss: 0.0114 - val_loss: 0.0338\n",
      "Epoch 157/5000\n",
      " - 4s - loss: 0.0115 - val_loss: 0.0328\n",
      "Epoch 158/5000\n",
      " - 4s - loss: 0.0114 - val_loss: 0.0321\n",
      "Epoch 159/5000\n",
      " - 4s - loss: 0.0114 - val_loss: 0.0316\n",
      "Epoch 160/5000\n",
      " - 4s - loss: 0.0114 - val_loss: 0.0312\n",
      "Epoch 161/5000\n",
      " - 4s - loss: 0.0114 - val_loss: 0.0308\n",
      "Epoch 162/5000\n",
      " - 4s - loss: 0.0113 - val_loss: 0.0306\n",
      "Epoch 163/5000\n",
      " - 4s - loss: 0.0113 - val_loss: 0.0303\n",
      "Epoch 164/5000\n",
      " - 4s - loss: 0.0113 - val_loss: 0.0302\n",
      "Epoch 165/5000\n",
      " - 4s - loss: 0.0112 - val_loss: 0.0300\n",
      "Epoch 166/5000\n",
      " - 4s - loss: 0.0112 - val_loss: 0.0299\n",
      "Epoch 167/5000\n",
      " - 4s - loss: 0.0111 - val_loss: 0.0298\n",
      "Epoch 168/5000\n",
      " - 4s - loss: 0.0111 - val_loss: 0.0297\n",
      "Epoch 169/5000\n",
      " - 4s - loss: 0.0111 - val_loss: 0.0296\n",
      "Epoch 170/5000\n",
      " - 4s - loss: 0.0110 - val_loss: 0.0295\n",
      "Epoch 171/5000\n",
      " - 4s - loss: 0.0110 - val_loss: 0.0295\n",
      "Epoch 172/5000\n",
      " - 4s - loss: 0.0110 - val_loss: 0.0294\n",
      "Epoch 173/5000\n",
      " - 4s - loss: 0.0109 - val_loss: 0.0294\n",
      "Epoch 174/5000\n",
      " - 4s - loss: 0.0100 - val_loss: 0.0298\n",
      "Epoch 175/5000\n",
      " - 4s - loss: 0.0098 - val_loss: 0.0299\n",
      "Epoch 176/5000\n",
      " - 4s - loss: 0.0098 - val_loss: 0.0299\n",
      "Epoch 177/5000\n",
      " - 4s - loss: 0.0098 - val_loss: 0.0299\n",
      "Epoch 178/5000\n",
      " - 4s - loss: 0.0099 - val_loss: 0.0295\n",
      "Epoch 179/5000\n",
      " - 4s - loss: 0.0097 - val_loss: 0.0293\n",
      "Epoch 180/5000\n",
      " - 4s - loss: 0.0096 - val_loss: 0.0293\n",
      "Epoch 181/5000\n",
      " - 4s - loss: 0.0096 - val_loss: 0.0293\n",
      "Epoch 182/5000\n",
      " - 4s - loss: 0.0095 - val_loss: 0.0293\n",
      "Epoch 183/5000\n",
      " - 4s - loss: 0.0095 - val_loss: 0.0293\n",
      "Epoch 184/5000\n",
      " - 4s - loss: 0.0095 - val_loss: 0.0293\n",
      "Epoch 185/5000\n",
      " - 4s - loss: 0.0095 - val_loss: 0.0293\n",
      "Epoch 186/5000\n",
      " - 4s - loss: 0.0095 - val_loss: 0.0293\n",
      "Epoch 187/5000\n",
      " - 4s - loss: 0.0095 - val_loss: 0.0293\n",
      "Epoch 188/5000\n",
      " - 4s - loss: 0.0095 - val_loss: 0.0293\n"
     ]
    },
    {
     "name": "stderr",
     "output_type": "stream",
     "text": [
      "\r",
      " 80%|████████  | 8/10 [18:34<05:29, 164.56s/it]"
     ]
    },
    {
     "name": "stdout",
     "output_type": "stream",
     "text": [
      "Train on 11410 samples, validate on 224 samples\n",
      "Epoch 189/5000\n",
      " - 7s - loss: 0.0188 - val_loss: 0.0240\n",
      "Epoch 190/5000\n",
      " - 4s - loss: 0.0119 - val_loss: 0.0219\n",
      "Epoch 191/5000\n",
      " - 4s - loss: 0.0117 - val_loss: 0.0212\n",
      "Epoch 192/5000\n",
      " - 4s - loss: 0.0116 - val_loss: 0.0208\n",
      "Epoch 193/5000\n",
      " - 4s - loss: 0.0116 - val_loss: 0.0205\n",
      "Epoch 194/5000\n",
      " - 4s - loss: 0.0115 - val_loss: 0.0202\n",
      "Epoch 195/5000\n",
      " - 4s - loss: 0.0115 - val_loss: 0.0199\n",
      "Epoch 196/5000\n",
      " - 4s - loss: 0.0114 - val_loss: 0.0197\n",
      "Epoch 197/5000\n",
      " - 4s - loss: 0.0114 - val_loss: 0.0195\n",
      "Epoch 198/5000\n",
      " - 4s - loss: 0.0113 - val_loss: 0.0193\n",
      "Epoch 199/5000\n",
      " - 4s - loss: 0.0113 - val_loss: 0.0192\n",
      "Epoch 200/5000\n",
      " - 4s - loss: 0.0112 - val_loss: 0.0190\n",
      "Epoch 201/5000\n",
      " - 4s - loss: 0.0112 - val_loss: 0.0189\n",
      "Epoch 202/5000\n",
      " - 4s - loss: 0.0112 - val_loss: 0.0189\n",
      "Epoch 203/5000\n",
      " - 4s - loss: 0.0111 - val_loss: 0.0188\n",
      "Epoch 204/5000\n",
      " - 4s - loss: 0.0111 - val_loss: 0.0187\n",
      "Epoch 205/5000\n",
      " - 4s - loss: 0.0111 - val_loss: 0.0186\n",
      "Epoch 206/5000\n",
      " - 4s - loss: 0.0110 - val_loss: 0.0186\n",
      "Epoch 207/5000\n",
      " - 4s - loss: 0.0110 - val_loss: 0.0185\n",
      "Epoch 208/5000\n",
      " - 4s - loss: 0.0109 - val_loss: 0.0185\n",
      "Epoch 209/5000\n",
      " - 4s - loss: 0.0109 - val_loss: 0.0185\n",
      "Epoch 210/5000\n",
      " - 4s - loss: 0.0105 - val_loss: 0.0188\n",
      "Epoch 211/5000\n",
      " - 4s - loss: 0.0101 - val_loss: 0.0191\n",
      "Epoch 212/5000\n",
      " - 4s - loss: 0.0100 - val_loss: 0.0192\n",
      "Epoch 213/5000\n",
      " - 4s - loss: 0.0100 - val_loss: 0.0192\n",
      "Epoch 214/5000\n",
      " - 4s - loss: 0.0099 - val_loss: 0.0186\n",
      "Epoch 215/5000\n",
      " - 4s - loss: 0.0098 - val_loss: 0.0183\n",
      "Epoch 216/5000\n",
      " - 4s - loss: 0.0098 - val_loss: 0.0182\n",
      "Epoch 217/5000\n",
      " - 3s - loss: 0.0097 - val_loss: 0.0182\n",
      "Epoch 218/5000\n",
      " - 3s - loss: 0.0097 - val_loss: 0.0182\n",
      "Epoch 219/5000\n",
      " - 4s - loss: 0.0097 - val_loss: 0.0182\n",
      "Epoch 220/5000\n",
      " - 4s - loss: 0.0097 - val_loss: 0.0182\n",
      "Epoch 221/5000\n",
      " - 4s - loss: 0.0097 - val_loss: 0.0182\n",
      "Epoch 222/5000\n",
      " - 4s - loss: 0.0097 - val_loss: 0.0181\n",
      "Epoch 223/5000\n",
      " - 4s - loss: 0.0097 - val_loss: 0.0181\n",
      "Epoch 224/5000\n",
      " - 4s - loss: 0.0097 - val_loss: 0.0181\n",
      "Epoch 225/5000\n",
      " - 4s - loss: 0.0097 - val_loss: 0.0181\n",
      "Epoch 226/5000\n",
      " - 4s - loss: 0.0097 - val_loss: 0.0181\n",
      "Epoch 227/5000\n",
      " - 4s - loss: 0.0097 - val_loss: 0.0181\n",
      "Epoch 228/5000\n",
      " - 4s - loss: 0.0097 - val_loss: 0.0181\n",
      "Epoch 229/5000\n",
      " - 4s - loss: 0.0097 - val_loss: 0.0181\n",
      "Epoch 230/5000\n",
      " - 4s - loss: 0.0097 - val_loss: 0.0181\n",
      "Epoch 231/5000\n",
      " - 4s - loss: 0.0097 - val_loss: 0.0181\n",
      "Epoch 232/5000\n",
      " - 4s - loss: 0.0097 - val_loss: 0.0181\n",
      "Epoch 233/5000\n",
      " - 4s - loss: 0.0097 - val_loss: 0.0181\n",
      "Epoch 234/5000\n",
      " - 4s - loss: 0.0097 - val_loss: 0.0181\n",
      "Epoch 235/5000\n",
      " - 4s - loss: 0.0097 - val_loss: 0.0181\n",
      "Epoch 236/5000\n",
      " - 4s - loss: 0.0097 - val_loss: 0.0181\n",
      "Epoch 237/5000\n",
      " - 4s - loss: 0.0097 - val_loss: 0.0181\n",
      "Epoch 238/5000\n",
      " - 4s - loss: 0.0097 - val_loss: 0.0181\n",
      "Epoch 239/5000\n",
      " - 4s - loss: 0.0097 - val_loss: 0.0181\n",
      "Epoch 240/5000\n",
      " - 4s - loss: 0.0097 - val_loss: 0.0181\n",
      "Epoch 241/5000\n",
      " - 4s - loss: 0.0097 - val_loss: 0.0181\n",
      "Epoch 242/5000\n",
      " - 4s - loss: 0.0097 - val_loss: 0.0181\n",
      "Epoch 243/5000\n",
      " - 4s - loss: 0.0097 - val_loss: 0.0181\n"
     ]
    },
    {
     "name": "stderr",
     "output_type": "stream",
     "text": [
      "\r",
      " 90%|█████████ | 9/10 [23:04<03:16, 196.15s/it]"
     ]
    },
    {
     "name": "stdout",
     "output_type": "stream",
     "text": [
      "Train on 11378 samples, validate on 224 samples\n",
      "Epoch 244/5000\n",
      " - 7s - loss: 0.0316 - val_loss: 0.0438\n",
      "Epoch 245/5000\n",
      " - 4s - loss: 0.0086 - val_loss: 0.0440\n",
      "Epoch 246/5000\n",
      " - 4s - loss: 0.0085 - val_loss: 0.0444\n",
      "Epoch 247/5000\n",
      " - 4s - loss: 0.0084 - val_loss: 0.0397\n",
      "Epoch 248/5000\n",
      " - 4s - loss: 0.0077 - val_loss: 0.0383\n",
      "Epoch 249/5000\n",
      " - 4s - loss: 0.0077 - val_loss: 0.0383\n",
      "Epoch 250/5000\n",
      " - 4s - loss: 0.0076 - val_loss: 0.0385\n",
      "Epoch 251/5000\n",
      " - 4s - loss: 0.0080 - val_loss: 0.0349\n",
      "Epoch 252/5000\n",
      " - 4s - loss: 0.0078 - val_loss: 0.0327\n",
      "Epoch 253/5000\n",
      " - 4s - loss: 0.0077 - val_loss: 0.0313\n",
      "Epoch 254/5000\n",
      " - 4s - loss: 0.0076 - val_loss: 0.0303\n",
      "Epoch 255/5000\n",
      " - 4s - loss: 0.0076 - val_loss: 0.0297\n",
      "Epoch 256/5000\n",
      " - 4s - loss: 0.0075 - val_loss: 0.0292\n",
      "Epoch 257/5000\n",
      " - 4s - loss: 0.0075 - val_loss: 0.0288\n",
      "Epoch 258/5000\n",
      " - 4s - loss: 0.0075 - val_loss: 0.0286\n",
      "Epoch 259/5000\n",
      " - 4s - loss: 0.0075 - val_loss: 0.0284\n",
      "Epoch 260/5000\n",
      " - 4s - loss: 0.0075 - val_loss: 0.0283\n",
      "Epoch 261/5000\n",
      " - 4s - loss: 0.0075 - val_loss: 0.0282\n",
      "Epoch 262/5000\n",
      " - 4s - loss: 0.0075 - val_loss: 0.0281\n",
      "Epoch 263/5000\n",
      " - 4s - loss: 0.0075 - val_loss: 0.0281\n",
      "Epoch 264/5000\n",
      " - 4s - loss: 0.0075 - val_loss: 0.0281\n",
      "Epoch 265/5000\n",
      " - 4s - loss: 0.0075 - val_loss: 0.0280\n",
      "Epoch 266/5000\n",
      " - 4s - loss: 0.0075 - val_loss: 0.0280\n",
      "Epoch 267/5000\n",
      " - 4s - loss: 0.0075 - val_loss: 0.0279\n",
      "Epoch 268/5000\n",
      " - 4s - loss: 0.0074 - val_loss: 0.0278\n",
      "Epoch 269/5000\n",
      " - 4s - loss: 0.0074 - val_loss: 0.0278\n",
      "Epoch 270/5000\n",
      " - 4s - loss: 0.0074 - val_loss: 0.0278\n",
      "Epoch 271/5000\n",
      " - 4s - loss: 0.0074 - val_loss: 0.0278\n",
      "Epoch 272/5000\n",
      " - 4s - loss: 0.0074 - val_loss: 0.0278\n",
      "Epoch 273/5000\n",
      " - 4s - loss: 0.0074 - val_loss: 0.0278\n",
      "Epoch 274/5000\n",
      " - 4s - loss: 0.0074 - val_loss: 0.0278\n",
      "Epoch 275/5000\n",
      " - 4s - loss: 0.0074 - val_loss: 0.0278\n",
      "Epoch 276/5000\n",
      " - 4s - loss: 0.0074 - val_loss: 0.0278\n",
      "Epoch 277/5000\n",
      " - 4s - loss: 0.0074 - val_loss: 0.0278\n",
      "Epoch 278/5000\n",
      " - 4s - loss: 0.0074 - val_loss: 0.0278\n",
      "Epoch 279/5000\n",
      " - 4s - loss: 0.0074 - val_loss: 0.0278\n",
      "Epoch 280/5000\n",
      " - 4s - loss: 0.0074 - val_loss: 0.0278\n",
      "Epoch 281/5000\n",
      " - 4s - loss: 0.0074 - val_loss: 0.0278\n",
      "Epoch 282/5000\n",
      " - 4s - loss: 0.0074 - val_loss: 0.0278\n",
      "Epoch 283/5000\n",
      " - 4s - loss: 0.0074 - val_loss: 0.0278\n",
      "Epoch 284/5000\n",
      " - 4s - loss: 0.0074 - val_loss: 0.0278\n",
      "Epoch 285/5000\n",
      " - 4s - loss: 0.0074 - val_loss: 0.0278\n",
      "Epoch 286/5000\n",
      " - 4s - loss: 0.0074 - val_loss: 0.0278\n",
      "Epoch 287/5000\n",
      " - 4s - loss: 0.0074 - val_loss: 0.0278\n",
      "Epoch 288/5000\n",
      " - 4s - loss: 0.0074 - val_loss: 0.0278\n",
      "Epoch 289/5000\n",
      " - 4s - loss: 0.0074 - val_loss: 0.0278\n"
     ]
    },
    {
     "name": "stderr",
     "output_type": "stream",
     "text": [
      "100%|██████████| 10/10 [26:55<00:00, 161.57s/it]\n"
     ]
    }
   ],
   "source": [
    "modeldesigndone = False\n",
    "initial_epoch = 0\n",
    "freeze_model = True\n",
    "reinitialize = True\n",
    "\n",
    "for weekno, weekdata in enumerate(tqdm(modelconfig['weeklist'])):\n",
    "\n",
    "    X_train = weekdata['X_train']\n",
    "    y_train = weekdata['y_train']\n",
    "    X_test = weekdata['X_test']\n",
    "    y_test = weekdata['y_test']\n",
    "    y_scaler = weekdata['y_scaler']\n",
    "    X_scaler = weekdata['X_scaler']\n",
    "\n",
    "    if not modeldesigndone:\n",
    "\n",
    "        try:\n",
    "            del nn_model\n",
    "        except NameError:\n",
    "            pass\n",
    "\n",
    "        K.clear_session()\n",
    "\n",
    "        #Instantiate learner model\n",
    "        nn_model = mp.ts_seq2seq_model(path,\n",
    "                                       inputdim=X_train.shape[-1],\n",
    "                                       outputdim=y_train.shape[-1],\n",
    "                                       input_timesteps=X_train.shape[-2],\n",
    "                                       period=period)\n",
    "\n",
    "        # Desing model architecture\n",
    "        nn_model.design_network(\n",
    "            lstmhiddenlayers=[modelconfig['lstm_hidden_units']] * (2 * modelconfig['lstm_no_layers']),\n",
    "            densehiddenlayers=[modelconfig['dense_hidden_units']] * modelconfig['dense_no_layers'],\n",
    "            dropoutlist=[[], []], batchnormalizelist=[[], []])\n",
    "        \n",
    "        nn_model.model.load_weights('IntermediateModel.h5')\n",
    "\n",
    "        # compile model\n",
    "        nn_model.model_compile()\n",
    "\n",
    "        # creating early stopping and learning reate changing callbacks\n",
    "        # nn_model.model_callbacks()\n",
    "\n",
    "        # modeldesigndone = True\n",
    "\n",
    "    # train the model\n",
    "    history = nn_model.train_model(X_train,\n",
    "                                   y_train,\n",
    "                                   X_test,\n",
    "                                   y_test,\n",
    "                                   epochs=modelconfig['train_epochs'],\n",
    "                                   initial_epoch=initial_epoch)\n",
    "    try:\n",
    "        initial_epoch += len(history.history['loss'])\n",
    "    except KeyError:\n",
    "        pass\n",
    "\n",
    "    # evaluate the model for metrics at this stage\n",
    "    # train and test plots as well as logged errors inside the text file\n",
    "    preds_train, preds_test = nn_model.evaluate_model(\n",
    "        X_train,\n",
    "        y_train,\n",
    "        X_test,\n",
    "        y_test,\n",
    "        y_scaler,\n",
    "        scaling=True,\n",
    "        saveplot=False,\n",
    "        Idx=weekdata['Id'],\n",
    "        outputdim_names=['Hot Water Energy'])\n",
    "    # do a detailed plot instead\n",
    "    pu.detailedplot(period * 5,\n",
    "                    xs = date2num(list(weekdata['test_idx'])),\n",
    "                    outputdim=1,\n",
    "                    output_timesteps=1,\n",
    "                    input_timesteps=1,\n",
    "                    pred=preds_test,\n",
    "                    target=y_test,\n",
    "                    X_var=X_test,\n",
    "                    saveloc=path,\n",
    "                    scaling=True,\n",
    "                    Xscaler=X_scaler,\n",
    "                    yscaler=y_scaler,\n",
    "                    typeofplot='test',\n",
    "                    Idx=weekdata['Id'])\n",
    "\n",
    "    # freeze all but dense layers at the top and compile with new weights\n",
    "    if freeze_model:\n",
    "        for layer in nn_model.model.layers[:-modelconfig['retrain_from_layers']]:\n",
    "            layer.trainable = False\n",
    "        freeze_model = False\n",
    "\n",
    "    if reinitialize:\n",
    "        for layer in nn_model.model.layers[\n",
    "                -modelconfig['retrain_from_layers']:]:\n",
    "            layer.kernel.initializer.run(session=K.get_session())\n",
    "            layer.bias.initializer.run(session=K.get_session())\n",
    "\n",
    "    # compile model\n",
    "    nn_model.model_compile()\n",
    "    \n",
    "    nn_model.model.save('IntermediateModel.h5')"
   ]
  },
  {
   "cell_type": "markdown",
   "metadata": {},
   "source": [
    "### Plot the week by week CVRMSE error"
   ]
  },
  {
   "cell_type": "code",
   "execution_count": 19,
   "metadata": {
    "run_control": {
     "marked": true
    }
   },
   "outputs": [
    {
     "name": "stderr",
     "output_type": "stream",
     "text": [
      "findfont: Font family ['Times New Roman'] not found. Falling back to DejaVu Sans.\n",
      "findfont: Font family ['Times New Roman'] not found. Falling back to DejaVu Sans.\n",
      "findfont: Font family ['Times New Roman'] not found. Falling back to DejaVu Sans.\n"
     ]
    },
    {
     "name": "stdout",
     "output_type": "stream",
     "text": [
      "Name of the file:  ../results/lstm_hwe_trial5/30min Results_File.txt\n"
     ]
    },
    {
     "data": {
      "image/png": "[encoded data removed]",
      "text/plain": [
       "<Figure size 720x504 with 1 Axes>"
      ]
     },
     "metadata": {
      "needs_background": "light"
     },
     "output_type": "display_data"
    }
   ],
   "source": [
    "# Open a file\n",
    "fo = open(path + \"{}min Results_File.txt\".format(5*period), \"r\")\n",
    "print(\"Name of the file: \", fo.name)\n",
    "lines = fo.readlines()\n",
    "\n",
    "parse_format = 'Year-{}-Week-{}-Time Step {}: {} RMSE={} |{} CVRMSE={} |{} MAE={}'\n",
    "stats = {\n",
    "    'Train': {\n",
    "        'rmse': [],\n",
    "        'cvrmse': [],\n",
    "        'mae': []\n",
    "    },\n",
    "    'Test': {\n",
    "        'rmse': [],\n",
    "        'cvrmse': [],\n",
    "        'mae': []\n",
    "    }\n",
    "}\n",
    "xticklist = []\n",
    "counter = 0\n",
    "for line in lines:\n",
    "    p = parse.parse(parse_format, line)\n",
    "    stats[p[3]]['rmse'].append(float(p[4]))\n",
    "    stats[p[5]]['cvrmse'].append(float(p[6]))\n",
    "    stats[p[7]]['mae'].append(float(p[8]))\n",
    "    if counter % 2 == 0:\n",
    "        xticklist.append('Year-{}-Week-{}'.format(p[0], p[1]))\n",
    "    counter += 1\n",
    "fo.close()\n",
    "cvrmse_list = stats['Test']['cvrmse']\n",
    "cvrmse = sum(cvrmse_list) / len(cvrmse_list)\n",
    "# from dataprocess import plotutils as pu\n",
    "plot_args = dict(\n",
    "    bars=cvrmse_list,\n",
    "    color='goldenrod',\n",
    "    bar_label='cvrmse',\n",
    "    saveloc=path,\n",
    "    smoothcurve=True,\n",
    "    bar_annotate=True,\n",
    "    saveplot=True,\n",
    "    xlabel='Week of year',\n",
    "    ylabel='cvrmse error in percentage',\n",
    "    title=\n",
    "    'Weekly CVRMSE Error for Hot Water Energy Model error at {5:}min(s) intervals \\n [{0:} layers of {1:}-unit lstm, {2:} layers of {3:}-unit dense] \\n Average CVRMSE Error {4:.2f}%'\n",
    "    .format(modelconfig['lstm_no_layers'], modelconfig['lstm_hidden_units'],\n",
    "            modelconfig['dense_no_layers'], modelconfig['dense_hidden_units'],\n",
    "            cvrmse,5*period),\n",
    "    xticklist=xticklist,\n",
    "    plotwidth=10,\n",
    "    plotheight=7,\n",
    "    fontsize=16)\n",
    "pu.single_bar_plot(**plot_args)"
   ]
  },
  {
   "cell_type": "markdown",
   "metadata": {},
   "source": [
    "### Custom method to plot all the relevant variables"
   ]
  },
  {
   "cell_type": "markdown",
   "metadata": {},
   "source": [
    "### Code cemetery"
   ]
  },
  {
   "cell_type": "code",
   "execution_count": null,
   "metadata": {
    "run_control": {
     "marked": false
    }
   },
   "outputs": [],
   "source": [
    "# from keras.utils import plot_model\n",
    "# plot_model(nn_model.model, to_file='model.png',show_shapes=True,)"
   ]
  },
  {
   "cell_type": "code",
   "execution_count": null,
   "metadata": {
    "run_control": {
     "marked": false
    }
   },
   "outputs": [],
   "source": [
    "# # Check the trainable status of the individual layers\n",
    "# for layer in nn_model.model.layers:\n",
    "#     print(layer, layer.trainable, layer.name)"
   ]
  },
  {
   "cell_type": "code",
   "execution_count": null,
   "metadata": {
    "run_control": {
     "marked": false
    }
   },
   "outputs": [],
   "source": [
    "#model.model.summary()\n",
    "\n",
    "#nn_model.model.layers[-1].input_shape\n",
    "\n",
    "#model.model.layers[-1].kernel.initializer.run(session=K.get_session())\n",
    "#model.model.layers[-1].bias.initializer.run(session=K.get_session())\n",
    "\n",
    "#nn_model.model.layers[-1].output_shape"
   ]
  },
  {
   "cell_type": "code",
   "execution_count": 22,
   "metadata": {
    "run_control": {
     "marked": false
    },
    "scrolled": true
   },
   "outputs": [
    {
     "name": "stdout",
     "output_type": "stream",
     "text": [
      "_________________________________________________________________\n",
      "Layer (type)                 Output Shape              Param #   \n",
      "=================================================================\n",
      "input_1 (InputLayer)         (None, 1, 6)              0         \n",
      "_________________________________________________________________\n",
      "lstm_1 (LSTM)                (None, 1, 4)              176       \n",
      "_________________________________________________________________\n",
      "lstm_2 (LSTM)                (None, 4)                 144       \n",
      "_________________________________________________________________\n",
      "repeat_vector_1 (RepeatVecto (None, 1, 4)              0         \n",
      "_________________________________________________________________\n",
      "lstm_3 (LSTM)                (None, 1, 4)              144       \n",
      "_________________________________________________________________\n",
      "lstm_4 (LSTM)                (None, 1, 4)              144       \n",
      "_________________________________________________________________\n",
      "dense_1 (Dense)              (None, 1, 8)              40        \n",
      "_________________________________________________________________\n",
      "dense_2 (Dense)              (None, 1, 8)              72        \n",
      "_________________________________________________________________\n",
      "dense_3 (Dense)              (None, 1, 8)              72        \n",
      "_________________________________________________________________\n",
      "dense_4 (Dense)              (None, 1, 8)              72        \n",
      "_________________________________________________________________\n",
      "dense_5 (Dense)              (None, 1, 1)              9         \n",
      "=================================================================\n",
      "Total params: 873\n",
      "Trainable params: 265\n",
      "Non-trainable params: 608\n",
      "_________________________________________________________________\n"
     ]
    }
   ],
   "source": [
    "nn_model.model.summary()"
   ]
  },
  {
   "cell_type": "code",
   "execution_count": null,
   "metadata": {
    "run_control": {
     "marked": false
    }
   },
   "outputs": [],
   "source": [
    "for layer in nn_model.model.layers:\n",
    "     print(layer, layer.trainable, layer.name, layer.name.startswith('lstm'))"
   ]
  },
  {
   "cell_type": "code",
   "execution_count": null,
   "metadata": {
    "run_control": {
     "marked": false
    }
   },
   "outputs": [],
   "source": [
    "nn_model.model.layers[-2].__dict__"
   ]
  },
  {
   "cell_type": "code",
   "execution_count": null,
   "metadata": {
    "run_control": {
     "marked": false
    }
   },
   "outputs": [],
   "source": [
    "nn_model.model.layers[-9].cell.__dict__"
   ]
  },
  {
   "cell_type": "code",
   "execution_count": null,
   "metadata": {
    "run_control": {
     "marked": false
    }
   },
   "outputs": [],
   "source": []
  }
 ],
 "metadata": {
  "kernelspec": {
   "display_name": "Python 3.6.9 64-bit ('sbvenv1': venv)",
   "language": "python",
   "name": "python36964bitsbvenv1venv1a534851ebbc4d609aad5dcf7b359ab5"
  },
  "language_info": {
   "codemirror_mode": {
    "name": "ipython",
    "version": 3
   },
   "file_extension": ".py",
   "mimetype": "text/x-python",
   "name": "python",
   "nbconvert_exporter": "python",
   "pygments_lexer": "ipython3",
   "version": "3.6.9"
  }
 },
 "nbformat": 4,
 "nbformat_minor": 4
}

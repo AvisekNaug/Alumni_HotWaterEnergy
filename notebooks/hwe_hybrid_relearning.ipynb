{
 "cells": [
  {
   "cell_type": "markdown",
   "metadata": {},
   "source": [
    "# Modeling Hot Water Energy"
   ]
  },
  {
   "cell_type": "markdown",
   "metadata": {},
   "source": [
    "### Attach current folder to project directory\n",
    "### Ensure Seed for reproducability\n",
    "### Set GPU configurations"
   ]
  },
  {
   "cell_type": "code",
   "execution_count": 1,
   "metadata": {
    "run_control": {
     "marked": true
    }
   },
   "outputs": [],
   "source": [
    "seed_value = 123\n",
    "\n",
    "import os\n",
    "# 1. Set the `PYTHONHASHSEED` environment variable at a fixed value\n",
    "os.environ['PYTHONHASHSEED']=str(seed_value)\n",
    "\n",
    "# 2. Set the `python` built-in pseudo-random generator at a fixed value\n",
    "import random\n",
    "random.seed(seed_value)\n",
    "\n",
    "# 3. Set the `numpy` pseudo-random generator at a fixed value\n",
    "import numpy as np\n",
    "np.random.seed(seed_value)\n",
    "\n",
    "# Enable '0' or disable '-1' GPU use\n",
    "os.environ['CUDA_VISIBLE_DEVICES'] = '-1'\n",
    "\n",
    "# including the project directory to the notebook level\n",
    "import sys\n",
    "module_path = os.path.abspath(os.path.join('..'))\n",
    "if module_path not in sys.path:\n",
    "    sys.path.append(module_path)\n",
    "\n",
    "from tqdm import tqdm\n",
    "import parse\n",
    "import warnings"
   ]
  },
  {
   "cell_type": "code",
   "execution_count": 2,
   "metadata": {
    "run_control": {
     "marked": true
    }
   },
   "outputs": [
    {
     "name": "stderr",
     "output_type": "stream",
     "text": [
      "Using TensorFlow backend.\n"
     ]
    }
   ],
   "source": [
    "with warnings.catch_warnings():\n",
    "    warnings.filterwarnings(\"ignore\", category=FutureWarning)\n",
    "    \n",
    "    # 4. Set the `tensorflow` pseudo-random generator at a fixed value\n",
    "    import tensorflow as tf\n",
    "    #tf.random.set_seed(seed_value)\n",
    "    # for later versions: \n",
    "    tf.compat.v1.set_random_seed(seed_value)\n",
    "    config = tf.ConfigProto(log_device_placement=False)\n",
    "    config.gpu_options.allow_growth = True\n",
    "    session = tf.Session(config=config)\n",
    "    \n",
    "    from keras import backend as K\n",
    "    from nn_source import models as mp\n",
    "\n",
    "from dataprocess import dataprocessor as dp\n",
    "from dataprocess import plotutils as pu"
   ]
  },
  {
   "cell_type": "code",
   "execution_count": 3,
   "metadata": {},
   "outputs": [],
   "source": [
    "# %load_ext tensorboard\n",
    "# %tensorboard --logdir '../results/lstm_hwe_trial1/loginfo/' --port 8200"
   ]
  },
  {
   "cell_type": "markdown",
   "metadata": {},
   "source": [
    "### Select the period at which we perform experiments"
   ]
  },
  {
   "cell_type": "code",
   "execution_count": 3,
   "metadata": {
    "run_control": {
     "marked": true
    }
   },
   "outputs": [],
   "source": [
    "period = 6  # the period to sample the data at. 1 period= 5 minutes"
   ]
  },
  {
   "cell_type": "markdown",
   "metadata": {},
   "source": [
    "### Read the cleaned data"
   ]
  },
  {
   "cell_type": "code",
   "execution_count": 4,
   "metadata": {
    "run_control": {
     "marked": true
    }
   },
   "outputs": [
    {
     "data": {
      "text/html": [
       "<div>\n",
       "<style scoped>\n",
       "    .dataframe tbody tr th:only-of-type {\n",
       "        vertical-align: middle;\n",
       "    }\n",
       "\n",
       "    .dataframe tbody tr th {\n",
       "        vertical-align: top;\n",
       "    }\n",
       "\n",
       "    .dataframe thead th {\n",
       "        text-align: right;\n",
       "    }\n",
       "</style>\n",
       "<table border=\"1\" class=\"dataframe\">\n",
       "  <thead>\n",
       "    <tr style=\"text-align: right;\">\n",
       "      <th></th>\n",
       "      <th>oat</th>\n",
       "      <th>sat</th>\n",
       "      <th>orh</th>\n",
       "      <th>hwe</th>\n",
       "      <th>cwe</th>\n",
       "      <th>ghi</th>\n",
       "      <th>avg_stpt</th>\n",
       "      <th>flow</th>\n",
       "      <th>hw_sf</th>\n",
       "      <th>hw_st</th>\n",
       "      <th>hw_rt</th>\n",
       "    </tr>\n",
       "  </thead>\n",
       "  <tbody>\n",
       "    <tr>\n",
       "      <th>2018-11-16 10:05:00</th>\n",
       "      <td>31.090181</td>\n",
       "      <td>73.392624</td>\n",
       "      <td>85.0</td>\n",
       "      <td>12.266188</td>\n",
       "      <td>0.0</td>\n",
       "      <td>524.0</td>\n",
       "      <td>72.438095</td>\n",
       "      <td>0.004395</td>\n",
       "      <td>6.715617</td>\n",
       "      <td>107.05994</td>\n",
       "      <td>98.22113</td>\n",
       "    </tr>\n",
       "    <tr>\n",
       "      <th>2018-11-16 10:10:00</th>\n",
       "      <td>31.090181</td>\n",
       "      <td>72.792236</td>\n",
       "      <td>85.0</td>\n",
       "      <td>11.701546</td>\n",
       "      <td>0.0</td>\n",
       "      <td>530.0</td>\n",
       "      <td>72.438095</td>\n",
       "      <td>0.002403</td>\n",
       "      <td>6.831125</td>\n",
       "      <td>114.65901</td>\n",
       "      <td>100.06567</td>\n",
       "    </tr>\n",
       "    <tr>\n",
       "      <th>2018-11-16 10:15:00</th>\n",
       "      <td>31.090181</td>\n",
       "      <td>72.495117</td>\n",
       "      <td>85.0</td>\n",
       "      <td>11.578586</td>\n",
       "      <td>0.0</td>\n",
       "      <td>537.0</td>\n",
       "      <td>72.438095</td>\n",
       "      <td>0.004492</td>\n",
       "      <td>8.241195</td>\n",
       "      <td>117.93087</td>\n",
       "      <td>98.33179</td>\n",
       "    </tr>\n",
       "    <tr>\n",
       "      <th>2018-11-16 10:20:00</th>\n",
       "      <td>31.090181</td>\n",
       "      <td>72.495117</td>\n",
       "      <td>85.0</td>\n",
       "      <td>11.693608</td>\n",
       "      <td>0.0</td>\n",
       "      <td>543.0</td>\n",
       "      <td>72.438095</td>\n",
       "      <td>0.003086</td>\n",
       "      <td>9.518204</td>\n",
       "      <td>112.28122</td>\n",
       "      <td>95.43451</td>\n",
       "    </tr>\n",
       "    <tr>\n",
       "      <th>2018-11-16 10:25:00</th>\n",
       "      <td>31.090181</td>\n",
       "      <td>72.495117</td>\n",
       "      <td>85.0</td>\n",
       "      <td>11.269130</td>\n",
       "      <td>0.0</td>\n",
       "      <td>549.0</td>\n",
       "      <td>72.438095</td>\n",
       "      <td>0.006318</td>\n",
       "      <td>9.752769</td>\n",
       "      <td>109.42430</td>\n",
       "      <td>92.90832</td>\n",
       "    </tr>\n",
       "  </tbody>\n",
       "</table>\n",
       "</div>"
      ],
      "text/plain": [
       "                           oat        sat   orh        hwe  cwe    ghi  \\\n",
       "2018-11-16 10:05:00  31.090181  73.392624  85.0  12.266188  0.0  524.0   \n",
       "2018-11-16 10:10:00  31.090181  72.792236  85.0  11.701546  0.0  530.0   \n",
       "2018-11-16 10:15:00  31.090181  72.495117  85.0  11.578586  0.0  537.0   \n",
       "2018-11-16 10:20:00  31.090181  72.495117  85.0  11.693608  0.0  543.0   \n",
       "2018-11-16 10:25:00  31.090181  72.495117  85.0  11.269130  0.0  549.0   \n",
       "\n",
       "                      avg_stpt      flow     hw_sf      hw_st      hw_rt  \n",
       "2018-11-16 10:05:00  72.438095  0.004395  6.715617  107.05994   98.22113  \n",
       "2018-11-16 10:10:00  72.438095  0.002403  6.831125  114.65901  100.06567  \n",
       "2018-11-16 10:15:00  72.438095  0.004492  8.241195  117.93087   98.33179  \n",
       "2018-11-16 10:20:00  72.438095  0.003086  9.518204  112.28122   95.43451  \n",
       "2018-11-16 10:25:00  72.438095  0.006318  9.752769  109.42430   92.90832  "
      ]
     },
     "execution_count": 4,
     "metadata": {},
     "output_type": "execute_result"
    }
   ],
   "source": [
    "# read the pickled file for ahu data\n",
    "dfdata = dp.readfile('../data/processed/buildingdata.pkl')\n",
    "\n",
    "# return pickled df\n",
    "df = dfdata.return_df(processmethods=['file2df'])\n",
    "\n",
    "df.head()"
   ]
  },
  {
   "cell_type": "code",
   "execution_count": 5,
   "metadata": {
    "run_control": {
     "marked": true
    }
   },
   "outputs": [],
   "source": [
    "# Smoothing the data\n",
    "# Filter requirements.\n",
    "order = 5\n",
    "T = 300  # sampling_period in seconds\n",
    "fs = 1 / 300  # sample rate, Hz\n",
    "cutoff = 0.0001  # desired cutoff frequency of the filter, Hz\n",
    "\n",
    "df_smoothed = dp.dfsmoothing(df=df,\n",
    "                             column_names=list(df.columns),\n",
    "                             order=order,\n",
    "                             Wn=cutoff,\n",
    "                             T=T)"
   ]
  },
  {
   "cell_type": "code",
   "execution_count": 5,
   "metadata": {
    "scrolled": false
   },
   "outputs": [
    {
     "name": "stdout",
     "output_type": "stream",
     "text": [
      "Finished 'dataframeplot' in 0.0403 secs\n"
     ]
    },
    {
     "data": {
      "image/png": "[encoded data removed]",
      "text/plain": [
       "<Figure size 1440x504 with 1 Axes>"
      ]
     },
     "metadata": {
      "needs_background": "light"
     },
     "output_type": "display_data"
    }
   ],
   "source": [
    "#%matplotlib notebook\n",
    "dp.dataframeplot(df=df.loc[df.index[:1000], ['hwe','hw_sf']],\n",
    "                lazy=True,\n",
    "                legend=True,\n",
    "                style='+-')"
   ]
  },
  {
   "cell_type": "markdown",
   "metadata": {
    "heading_collapsed": true
   },
   "source": [
    "### Get time lagged cross correlation information"
   ]
  },
  {
   "cell_type": "code",
   "execution_count": 7,
   "metadata": {
    "hidden": true
   },
   "outputs": [],
   "source": [
    "import matplotlib.pyplot as plt\n",
    "import numpy as np\n",
    "\n",
    "def crosscorr(datax, datay, lag=0, wrap=False):\n",
    "    \"\"\" Lag-N cross correlation. \n",
    "    Shifted data filled with NaNs \n",
    "    \n",
    "    Parameters\n",
    "    ----------\n",
    "    lag : int, default 0\n",
    "    datax, datay : pandas.Series objects of equal length\n",
    "    Returns\n",
    "    ----------\n",
    "    crosscorr : float\n",
    "    \"\"\"\n",
    "    if wrap:\n",
    "        shiftedy = datay.shift(lag)\n",
    "        shiftedy.iloc[:lag] = datay.iloc[-lag:].values\n",
    "        return datax.corr(shiftedy)\n",
    "    else: \n",
    "        return datax.corr(datay.shift(lag))"
   ]
  },
  {
   "cell_type": "code",
   "execution_count": 15,
   "metadata": {
    "hidden": true
   },
   "outputs": [
    {
     "data": {
      "text/plain": [
       "<matplotlib.legend.Legend at 0x7f71386b8978>"
      ]
     },
     "execution_count": 15,
     "metadata": {},
     "output_type": "execute_result"
    },
    {
     "data": {
      "image/png": "[encoded data removed]",
      "text/plain": [
       "<Figure size 720x360 with 1 Axes>"
      ]
     },
     "metadata": {
      "needs_background": "light"
     },
     "output_type": "display_data"
    }
   ],
   "source": [
    "d1 = df['hwe']\n",
    "d2 = df['hw_sf']\n",
    "lags =300\n",
    "fps = 1 # 1 unit = 5 mins\n",
    "rs = [crosscorr(d1,d2, lag) for lag in range(-int(lags*fps),int(lags*fps+1))]\n",
    "offset = np.ceil(len(rs)/2)-np.argmax(rs)\n",
    "f,ax=plt.subplots(figsize=(10,5))\n",
    "ax.plot(rs)\n",
    "ax.axvline(np.ceil(len(rs)/2),color='k',linestyle='--',label='Center')\n",
    "ax.axvline(np.argmax(rs),color='r',linestyle='--',label='Max Corr')\n",
    "ax.axvline(np.argmin(rs),color='g',linestyle='--',label='Min Corr')\n",
    "ax.set(title=f'Offset = {offset} frames\\nS1 leads <> S2 leads',xlabel='Offset',ylabel='Pearson r')\n",
    "ax.set_xticks(np.arange(0,2*int((lags+1)*fps), lags/2))\n",
    "ax.set_xticklabels(np.arange(-int(lags*fps),int((lags+1)*fps),lags/2), rotation=90);\n",
    "plt.legend()\n",
    "\n",
    "# https://towardsdatascience.com/four-ways-to-quantify-synchrony-between-time-series-data-b99136c4a9c9"
   ]
  },
  {
   "cell_type": "code",
   "execution_count": 17,
   "metadata": {
    "hidden": true
   },
   "outputs": [
    {
     "data": {
      "text/plain": [
       "<matplotlib.legend.Legend at 0x7f713a0ed4e0>"
      ]
     },
     "execution_count": 17,
     "metadata": {},
     "output_type": "execute_result"
    },
    {
     "data": {
      "image/png": "[encoded data removed]",
      "text/plain": [
       "<Figure size 720x360 with 1 Axes>"
      ]
     },
     "metadata": {
      "needs_background": "light"
     },
     "output_type": "display_data"
    }
   ],
   "source": [
    "d1 = df['cwe']\n",
    "d2 = df['flow']\n",
    "lags = 400\n",
    "fps = 1 # 1 unit = 5 mins\n",
    "rs = [crosscorr(d1,d2, lag) for lag in range(-int(lags*fps),int(lags*fps+1))]\n",
    "offset = np.ceil(len(rs)/2)-np.argmax(rs)\n",
    "f,ax=plt.subplots(figsize=(10,5))\n",
    "ax.plot(rs)\n",
    "ax.axvline(np.ceil(len(rs)/2),color='k',linestyle='--',label='Center')\n",
    "ax.axvline(np.argmax(rs),color='r',linestyle='--',label='Max Corr')\n",
    "ax.axvline(np.argmin(rs),color='g',linestyle='--',label='Min Corr')\n",
    "ax.set(title=f'Offset = {offset} frames\\nS1 leads <> S2 leads',xlabel='Offset',ylabel='Pearson r')\n",
    "ax.set_xticks(np.arange(0,2*int((lags+1)*fps), lags/2))\n",
    "ax.set_xticklabels(np.arange(-int(lags*fps),int((lags+1)*fps),lags/2), rotation=90);\n",
    "plt.legend()"
   ]
  },
  {
   "cell_type": "markdown",
   "metadata": {},
   "source": [
    "### Since this implies that Hot water flow leads the Hot Water Energy by approximately 59 frames or approximately 5 hours. We will use the flow as an indicator of the hybrid mode changes in the energy prediction problem. \n",
    "\n",
    "### Next steps:\n",
    "1. Shift the hot water energy upwards/move back in time by 58 units.\n",
    "2. Shift the energy by one more unit for the final prediction. \n",
    "3. For training: We break the data into batches separated by 0 energy determined by hot water flow\n",
    "4. For testing:\n",
    "\n",
    "    a. Either we do online testing where we utilize the current flow information to decide to predict or not.\n",
    "    \n",
    "    b. Again create batches of data based on the flow information and predict only in those batches."
   ]
  },
  {
   "cell_type": "code",
   "execution_count": 6,
   "metadata": {
    "run_control": {
     "marked": true
    }
   },
   "outputs": [
    {
     "data": {
      "text/html": [
       "<div>\n",
       "<style scoped>\n",
       "    .dataframe tbody tr th:only-of-type {\n",
       "        vertical-align: middle;\n",
       "    }\n",
       "\n",
       "    .dataframe tbody tr th {\n",
       "        vertical-align: top;\n",
       "    }\n",
       "\n",
       "    .dataframe thead th {\n",
       "        text-align: right;\n",
       "    }\n",
       "</style>\n",
       "<table border=\"1\" class=\"dataframe\">\n",
       "  <thead>\n",
       "    <tr style=\"text-align: right;\">\n",
       "      <th></th>\n",
       "      <th>oat</th>\n",
       "      <th>sat</th>\n",
       "      <th>orh</th>\n",
       "      <th>hwe</th>\n",
       "      <th>cwe</th>\n",
       "      <th>ghi</th>\n",
       "      <th>avg_stpt</th>\n",
       "      <th>flow</th>\n",
       "      <th>hw_sf</th>\n",
       "      <th>hw_st</th>\n",
       "      <th>hw_rt</th>\n",
       "    </tr>\n",
       "  </thead>\n",
       "  <tbody>\n",
       "    <tr>\n",
       "      <th>2018-11-16 10:05:00</th>\n",
       "      <td>31.090181</td>\n",
       "      <td>73.392624</td>\n",
       "      <td>85.0</td>\n",
       "      <td>12.266188</td>\n",
       "      <td>0.0</td>\n",
       "      <td>524.0</td>\n",
       "      <td>72.438095</td>\n",
       "      <td>0.004395</td>\n",
       "      <td>6.715617</td>\n",
       "      <td>107.05994</td>\n",
       "      <td>98.22113</td>\n",
       "    </tr>\n",
       "    <tr>\n",
       "      <th>2018-11-16 10:10:00</th>\n",
       "      <td>31.090181</td>\n",
       "      <td>72.792236</td>\n",
       "      <td>85.0</td>\n",
       "      <td>11.701546</td>\n",
       "      <td>0.0</td>\n",
       "      <td>530.0</td>\n",
       "      <td>72.438095</td>\n",
       "      <td>0.002403</td>\n",
       "      <td>6.831125</td>\n",
       "      <td>114.65901</td>\n",
       "      <td>100.06567</td>\n",
       "    </tr>\n",
       "    <tr>\n",
       "      <th>2018-11-16 10:15:00</th>\n",
       "      <td>31.090181</td>\n",
       "      <td>72.495117</td>\n",
       "      <td>85.0</td>\n",
       "      <td>11.578586</td>\n",
       "      <td>0.0</td>\n",
       "      <td>537.0</td>\n",
       "      <td>72.438095</td>\n",
       "      <td>0.004492</td>\n",
       "      <td>8.241195</td>\n",
       "      <td>117.93087</td>\n",
       "      <td>98.33179</td>\n",
       "    </tr>\n",
       "    <tr>\n",
       "      <th>2018-11-16 10:20:00</th>\n",
       "      <td>31.090181</td>\n",
       "      <td>72.495117</td>\n",
       "      <td>85.0</td>\n",
       "      <td>11.693608</td>\n",
       "      <td>0.0</td>\n",
       "      <td>543.0</td>\n",
       "      <td>72.438095</td>\n",
       "      <td>0.003086</td>\n",
       "      <td>9.518204</td>\n",
       "      <td>112.28122</td>\n",
       "      <td>95.43451</td>\n",
       "    </tr>\n",
       "    <tr>\n",
       "      <th>2018-11-16 10:25:00</th>\n",
       "      <td>31.090181</td>\n",
       "      <td>72.495117</td>\n",
       "      <td>85.0</td>\n",
       "      <td>11.269130</td>\n",
       "      <td>0.0</td>\n",
       "      <td>549.0</td>\n",
       "      <td>72.438095</td>\n",
       "      <td>0.006318</td>\n",
       "      <td>9.752769</td>\n",
       "      <td>109.42430</td>\n",
       "      <td>92.90832</td>\n",
       "    </tr>\n",
       "  </tbody>\n",
       "</table>\n",
       "</div>"
      ],
      "text/plain": [
       "                           oat        sat   orh        hwe  cwe    ghi  \\\n",
       "2018-11-16 10:05:00  31.090181  73.392624  85.0  12.266188  0.0  524.0   \n",
       "2018-11-16 10:10:00  31.090181  72.792236  85.0  11.701546  0.0  530.0   \n",
       "2018-11-16 10:15:00  31.090181  72.495117  85.0  11.578586  0.0  537.0   \n",
       "2018-11-16 10:20:00  31.090181  72.495117  85.0  11.693608  0.0  543.0   \n",
       "2018-11-16 10:25:00  31.090181  72.495117  85.0  11.269130  0.0  549.0   \n",
       "\n",
       "                      avg_stpt      flow     hw_sf      hw_st      hw_rt  \n",
       "2018-11-16 10:05:00  72.438095  0.004395  6.715617  107.05994   98.22113  \n",
       "2018-11-16 10:10:00  72.438095  0.002403  6.831125  114.65901  100.06567  \n",
       "2018-11-16 10:15:00  72.438095  0.004492  8.241195  117.93087   98.33179  \n",
       "2018-11-16 10:20:00  72.438095  0.003086  9.518204  112.28122   95.43451  \n",
       "2018-11-16 10:25:00  72.438095  0.006318  9.752769  109.42430   92.90832  "
      ]
     },
     "execution_count": 6,
     "metadata": {},
     "output_type": "execute_result"
    }
   ],
   "source": [
    "df.head()"
   ]
  },
  {
   "cell_type": "code",
   "execution_count": 7,
   "metadata": {
    "run_control": {
     "marked": true
    }
   },
   "outputs": [],
   "source": [
    "df_out = dp.createlag(df_smoothed, ['hwe','cwe'], lag=-59)"
   ]
  },
  {
   "cell_type": "code",
   "execution_count": null,
   "metadata": {
    "collapsed": true
   },
   "outputs": [],
   "source": []
  },
  {
   "cell_type": "code",
   "execution_count": 8,
   "metadata": {
    "run_control": {
     "marked": true
    }
   },
   "outputs": [
    {
     "name": "stdout",
     "output_type": "stream",
     "text": [
      "Finished 'dataframeplot' in 0.0643 secs\n"
     ]
    },
    {
     "data": {
      "image/png": "[encoded data removed]",
      "text/plain": [
       "<Figure size 1440x504 with 1 Axes>"
      ]
     },
     "metadata": {
      "needs_background": "light"
     },
     "output_type": "display_data"
    }
   ],
   "source": [
    "#%matplotlib notebook\n",
    "dp.dataframeplot(df=df_out.loc[df.index[12000:13000], ['hwe','hw_sf']],\n",
    "                lazy=True,\n",
    "                legend=True,\n",
    "                style='+-')"
   ]
  },
  {
   "cell_type": "markdown",
   "metadata": {},
   "source": [
    "### Sum half hour energy data"
   ]
  },
  {
   "cell_type": "code",
   "execution_count": 9,
   "metadata": {
    "run_control": {
     "marked": true
    }
   },
   "outputs": [
    {
     "data": {
      "text/html": [
       "<div>\n",
       "<style scoped>\n",
       "    .dataframe tbody tr th:only-of-type {\n",
       "        vertical-align: middle;\n",
       "    }\n",
       "\n",
       "    .dataframe tbody tr th {\n",
       "        vertical-align: top;\n",
       "    }\n",
       "\n",
       "    .dataframe thead th {\n",
       "        text-align: right;\n",
       "    }\n",
       "</style>\n",
       "<table border=\"1\" class=\"dataframe\">\n",
       "  <thead>\n",
       "    <tr style=\"text-align: right;\">\n",
       "      <th></th>\n",
       "      <th>oat</th>\n",
       "      <th>sat</th>\n",
       "      <th>orh</th>\n",
       "      <th>hwe</th>\n",
       "      <th>cwe</th>\n",
       "      <th>ghi</th>\n",
       "      <th>avg_stpt</th>\n",
       "      <th>flow</th>\n",
       "      <th>hw_sf</th>\n",
       "      <th>hw_st</th>\n",
       "      <th>hw_rt</th>\n",
       "      <th>30min_hwe</th>\n",
       "    </tr>\n",
       "  </thead>\n",
       "  <tbody>\n",
       "    <tr>\n",
       "      <th>2018-11-16 10:30:00</th>\n",
       "      <td>31.035067</td>\n",
       "      <td>72.294783</td>\n",
       "      <td>86.121997</td>\n",
       "      <td>6.559873</td>\n",
       "      <td>-0.074854</td>\n",
       "      <td>565.999638</td>\n",
       "      <td>72.424800</td>\n",
       "      <td>-0.017122</td>\n",
       "      <td>8.773625</td>\n",
       "      <td>110.377847</td>\n",
       "      <td>96.047695</td>\n",
       "      <td>36.699631</td>\n",
       "    </tr>\n",
       "    <tr>\n",
       "      <th>2018-11-16 10:35:00</th>\n",
       "      <td>30.997731</td>\n",
       "      <td>72.083142</td>\n",
       "      <td>86.377001</td>\n",
       "      <td>6.669277</td>\n",
       "      <td>-0.078943</td>\n",
       "      <td>574.117299</td>\n",
       "      <td>72.424054</td>\n",
       "      <td>-0.029541</td>\n",
       "      <td>8.972761</td>\n",
       "      <td>110.919134</td>\n",
       "      <td>95.557149</td>\n",
       "      <td>37.750890</td>\n",
       "    </tr>\n",
       "    <tr>\n",
       "      <th>2018-11-16 10:45:00</th>\n",
       "      <td>30.961157</td>\n",
       "      <td>71.883877</td>\n",
       "      <td>86.634097</td>\n",
       "      <td>6.735677</td>\n",
       "      <td>-0.079441</td>\n",
       "      <td>581.797099</td>\n",
       "      <td>72.423763</td>\n",
       "      <td>-0.042205</td>\n",
       "      <td>9.120232</td>\n",
       "      <td>111.389786</td>\n",
       "      <td>95.068595</td>\n",
       "      <td>38.656120</td>\n",
       "    </tr>\n",
       "    <tr>\n",
       "      <th>2018-11-16 10:50:00</th>\n",
       "      <td>30.927595</td>\n",
       "      <td>71.699686</td>\n",
       "      <td>86.893274</td>\n",
       "      <td>6.754286</td>\n",
       "      <td>-0.076845</td>\n",
       "      <td>588.914345</td>\n",
       "      <td>72.423979</td>\n",
       "      <td>-0.054667</td>\n",
       "      <td>9.210683</td>\n",
       "      <td>111.780608</td>\n",
       "      <td>94.585195</td>\n",
       "      <td>39.370229</td>\n",
       "    </tr>\n",
       "    <tr>\n",
       "      <th>2018-11-16 10:55:00</th>\n",
       "      <td>30.899542</td>\n",
       "      <td>71.533133</td>\n",
       "      <td>87.154282</td>\n",
       "      <td>6.721706</td>\n",
       "      <td>-0.071726</td>\n",
       "      <td>595.343365</td>\n",
       "      <td>72.424745</td>\n",
       "      <td>-0.066429</td>\n",
       "      <td>9.239720</td>\n",
       "      <td>112.084331</td>\n",
       "      <td>94.110440</td>\n",
       "      <td>39.854369</td>\n",
       "    </tr>\n",
       "  </tbody>\n",
       "</table>\n",
       "</div>"
      ],
      "text/plain": [
       "                           oat        sat        orh       hwe       cwe  \\\n",
       "2018-11-16 10:30:00  31.035067  72.294783  86.121997  6.559873 -0.074854   \n",
       "2018-11-16 10:35:00  30.997731  72.083142  86.377001  6.669277 -0.078943   \n",
       "2018-11-16 10:45:00  30.961157  71.883877  86.634097  6.735677 -0.079441   \n",
       "2018-11-16 10:50:00  30.927595  71.699686  86.893274  6.754286 -0.076845   \n",
       "2018-11-16 10:55:00  30.899542  71.533133  87.154282  6.721706 -0.071726   \n",
       "\n",
       "                            ghi   avg_stpt      flow     hw_sf       hw_st  \\\n",
       "2018-11-16 10:30:00  565.999638  72.424800 -0.017122  8.773625  110.377847   \n",
       "2018-11-16 10:35:00  574.117299  72.424054 -0.029541  8.972761  110.919134   \n",
       "2018-11-16 10:45:00  581.797099  72.423763 -0.042205  9.120232  111.389786   \n",
       "2018-11-16 10:50:00  588.914345  72.423979 -0.054667  9.210683  111.780608   \n",
       "2018-11-16 10:55:00  595.343365  72.424745 -0.066429  9.239720  112.084331   \n",
       "\n",
       "                         hw_rt  30min_hwe  \n",
       "2018-11-16 10:30:00  96.047695  36.699631  \n",
       "2018-11-16 10:35:00  95.557149  37.750890  \n",
       "2018-11-16 10:45:00  95.068595  38.656120  \n",
       "2018-11-16 10:50:00  94.585195  39.370229  \n",
       "2018-11-16 10:55:00  94.110440  39.854369  "
      ]
     },
     "execution_count": 9,
     "metadata": {},
     "output_type": "execute_result"
    }
   ],
   "source": [
    "# return a new column which is the sum of previous window_size values\n",
    "def windowsum(df, window_size: int, column_name: str):\n",
    "    return df[[column_name]].rolling(window=window_size, min_periods=window_size).sum()\n",
    "\n",
    "df_out['30min_hwe'] = windowsum(df_out,window_size=period, column_name='hwe')\n",
    "df_out = dp.dropNaNrows(df_out)\n",
    "\n",
    "df_out.head()"
   ]
  },
  {
   "cell_type": "markdown",
   "metadata": {},
   "source": [
    "### Sample data at half hour"
   ]
  },
  {
   "cell_type": "code",
   "execution_count": 10,
   "metadata": {
    "run_control": {
     "marked": true
    }
   },
   "outputs": [
    {
     "data": {
      "text/html": [
       "<div>\n",
       "<style scoped>\n",
       "    .dataframe tbody tr th:only-of-type {\n",
       "        vertical-align: middle;\n",
       "    }\n",
       "\n",
       "    .dataframe tbody tr th {\n",
       "        vertical-align: top;\n",
       "    }\n",
       "\n",
       "    .dataframe thead th {\n",
       "        text-align: right;\n",
       "    }\n",
       "</style>\n",
       "<table border=\"1\" class=\"dataframe\">\n",
       "  <thead>\n",
       "    <tr style=\"text-align: right;\">\n",
       "      <th></th>\n",
       "      <th>oat</th>\n",
       "      <th>sat</th>\n",
       "      <th>orh</th>\n",
       "      <th>hwe</th>\n",
       "      <th>cwe</th>\n",
       "      <th>ghi</th>\n",
       "      <th>avg_stpt</th>\n",
       "      <th>flow</th>\n",
       "      <th>hw_sf</th>\n",
       "      <th>hw_st</th>\n",
       "      <th>hw_rt</th>\n",
       "      <th>30min_hwe</th>\n",
       "    </tr>\n",
       "  </thead>\n",
       "  <tbody>\n",
       "    <tr>\n",
       "      <th>2018-11-16 10:30:00</th>\n",
       "      <td>31.035067</td>\n",
       "      <td>72.294783</td>\n",
       "      <td>86.121997</td>\n",
       "      <td>6.559873</td>\n",
       "      <td>-0.074854</td>\n",
       "      <td>565.999638</td>\n",
       "      <td>72.424800</td>\n",
       "      <td>-0.017122</td>\n",
       "      <td>8.773625</td>\n",
       "      <td>110.377847</td>\n",
       "      <td>96.047695</td>\n",
       "      <td>36.699631</td>\n",
       "    </tr>\n",
       "    <tr>\n",
       "      <th>2018-11-16 11:00:00</th>\n",
       "      <td>30.879700</td>\n",
       "      <td>71.386590</td>\n",
       "      <td>87.416587</td>\n",
       "      <td>6.635984</td>\n",
       "      <td>-0.064696</td>\n",
       "      <td>600.959785</td>\n",
       "      <td>72.426089</td>\n",
       "      <td>-0.076961</td>\n",
       "      <td>9.204061</td>\n",
       "      <td>112.295743</td>\n",
       "      <td>93.648113</td>\n",
       "      <td>40.076803</td>\n",
       "    </tr>\n",
       "    <tr>\n",
       "      <th>2018-11-16 11:30:00</th>\n",
       "      <td>31.005835</td>\n",
       "      <td>71.017611</td>\n",
       "      <td>88.703866</td>\n",
       "      <td>5.441332</td>\n",
       "      <td>-0.021788</td>\n",
       "      <td>612.900220</td>\n",
       "      <td>72.441218</td>\n",
       "      <td>-0.092335</td>\n",
       "      <td>8.031554</td>\n",
       "      <td>111.933015</td>\n",
       "      <td>91.667953</td>\n",
       "      <td>36.713355</td>\n",
       "    </tr>\n",
       "    <tr>\n",
       "      <th>2018-11-16 12:00:00</th>\n",
       "      <td>32.003000</td>\n",
       "      <td>71.443384</td>\n",
       "      <td>89.856486</td>\n",
       "      <td>2.929877</td>\n",
       "      <td>-0.004449</td>\n",
       "      <td>582.079452</td>\n",
       "      <td>72.468720</td>\n",
       "      <td>0.017583</td>\n",
       "      <td>4.925408</td>\n",
       "      <td>109.018922</td>\n",
       "      <td>90.525998</td>\n",
       "      <td>24.126601</td>\n",
       "    </tr>\n",
       "    <tr>\n",
       "      <th>2018-11-16 12:30:00</th>\n",
       "      <td>34.156805</td>\n",
       "      <td>72.480124</td>\n",
       "      <td>89.755636</td>\n",
       "      <td>0.620724</td>\n",
       "      <td>-0.018241</td>\n",
       "      <td>503.409577</td>\n",
       "      <td>72.479587</td>\n",
       "      <td>0.216607</td>\n",
       "      <td>1.579319</td>\n",
       "      <td>105.337845</td>\n",
       "      <td>91.040496</td>\n",
       "      <td>9.067507</td>\n",
       "    </tr>\n",
       "  </tbody>\n",
       "</table>\n",
       "</div>"
      ],
      "text/plain": [
       "                           oat        sat        orh       hwe       cwe  \\\n",
       "2018-11-16 10:30:00  31.035067  72.294783  86.121997  6.559873 -0.074854   \n",
       "2018-11-16 11:00:00  30.879700  71.386590  87.416587  6.635984 -0.064696   \n",
       "2018-11-16 11:30:00  31.005835  71.017611  88.703866  5.441332 -0.021788   \n",
       "2018-11-16 12:00:00  32.003000  71.443384  89.856486  2.929877 -0.004449   \n",
       "2018-11-16 12:30:00  34.156805  72.480124  89.755636  0.620724 -0.018241   \n",
       "\n",
       "                            ghi   avg_stpt      flow     hw_sf       hw_st  \\\n",
       "2018-11-16 10:30:00  565.999638  72.424800 -0.017122  8.773625  110.377847   \n",
       "2018-11-16 11:00:00  600.959785  72.426089 -0.076961  9.204061  112.295743   \n",
       "2018-11-16 11:30:00  612.900220  72.441218 -0.092335  8.031554  111.933015   \n",
       "2018-11-16 12:00:00  582.079452  72.468720  0.017583  4.925408  109.018922   \n",
       "2018-11-16 12:30:00  503.409577  72.479587  0.216607  1.579319  105.337845   \n",
       "\n",
       "                         hw_rt  30min_hwe  \n",
       "2018-11-16 10:30:00  96.047695  36.699631  \n",
       "2018-11-16 11:00:00  93.648113  40.076803  \n",
       "2018-11-16 11:30:00  91.667953  36.713355  \n",
       "2018-11-16 12:00:00  90.525998  24.126601  \n",
       "2018-11-16 12:30:00  91.040496   9.067507  "
      ]
     },
     "execution_count": 10,
     "metadata": {},
     "output_type": "execute_result"
    }
   ],
   "source": [
    "# Sample the data at half hour intervals\n",
    "df_out = dp.sample_timeseries_df(df_out, period=period)\n",
    "df_out.head()"
   ]
  },
  {
   "cell_type": "markdown",
   "metadata": {},
   "source": [
    "### remove 0 values from the energy"
   ]
  },
  {
   "cell_type": "code",
   "execution_count": 133,
   "metadata": {},
   "outputs": [
    {
     "data": {
      "text/html": [
       "<div>\n",
       "<style scoped>\n",
       "    .dataframe tbody tr th:only-of-type {\n",
       "        vertical-align: middle;\n",
       "    }\n",
       "\n",
       "    .dataframe tbody tr th {\n",
       "        vertical-align: top;\n",
       "    }\n",
       "\n",
       "    .dataframe thead th {\n",
       "        text-align: right;\n",
       "    }\n",
       "</style>\n",
       "<table border=\"1\" class=\"dataframe\">\n",
       "  <thead>\n",
       "    <tr style=\"text-align: right;\">\n",
       "      <th></th>\n",
       "      <th>oat</th>\n",
       "      <th>sat</th>\n",
       "      <th>orh</th>\n",
       "      <th>hwe</th>\n",
       "      <th>cwe</th>\n",
       "      <th>ghi</th>\n",
       "      <th>avg_stpt</th>\n",
       "      <th>flow</th>\n",
       "      <th>hw_sf</th>\n",
       "      <th>hw_st</th>\n",
       "      <th>hw_rt</th>\n",
       "      <th>30min_hwe</th>\n",
       "    </tr>\n",
       "  </thead>\n",
       "  <tbody>\n",
       "    <tr>\n",
       "      <th>count</th>\n",
       "      <td>17461.000000</td>\n",
       "      <td>17461.000000</td>\n",
       "      <td>17461.000000</td>\n",
       "      <td>17461.000000</td>\n",
       "      <td>17461.000000</td>\n",
       "      <td>17461.000000</td>\n",
       "      <td>17461.000000</td>\n",
       "      <td>17461.000000</td>\n",
       "      <td>17461.000000</td>\n",
       "      <td>17461.000000</td>\n",
       "      <td>17461.000000</td>\n",
       "      <td>17461.000000</td>\n",
       "    </tr>\n",
       "    <tr>\n",
       "      <th>mean</th>\n",
       "      <td>61.346177</td>\n",
       "      <td>69.493643</td>\n",
       "      <td>56.865931</td>\n",
       "      <td>3.524106</td>\n",
       "      <td>21.032328</td>\n",
       "      <td>169.852961</td>\n",
       "      <td>71.648641</td>\n",
       "      <td>33.987889</td>\n",
       "      <td>9.413017</td>\n",
       "      <td>102.936938</td>\n",
       "      <td>92.664013</td>\n",
       "      <td>21.142169</td>\n",
       "    </tr>\n",
       "    <tr>\n",
       "      <th>std</th>\n",
       "      <td>16.989838</td>\n",
       "      <td>5.652470</td>\n",
       "      <td>16.462856</td>\n",
       "      <td>3.846118</td>\n",
       "      <td>17.346112</td>\n",
       "      <td>255.934165</td>\n",
       "      <td>0.948048</td>\n",
       "      <td>30.335225</td>\n",
       "      <td>9.715231</td>\n",
       "      <td>14.281361</td>\n",
       "      <td>13.907987</td>\n",
       "      <td>23.052392</td>\n",
       "    </tr>\n",
       "    <tr>\n",
       "      <th>min</th>\n",
       "      <td>17.562966</td>\n",
       "      <td>51.414037</td>\n",
       "      <td>17.318977</td>\n",
       "      <td>-1.316666</td>\n",
       "      <td>-3.092499</td>\n",
       "      <td>-56.201757</td>\n",
       "      <td>66.101703</td>\n",
       "      <td>-1.806047</td>\n",
       "      <td>-2.484255</td>\n",
       "      <td>80.075722</td>\n",
       "      <td>63.824775</td>\n",
       "      <td>-8.381700</td>\n",
       "    </tr>\n",
       "    <tr>\n",
       "      <th>25%</th>\n",
       "      <td>47.244420</td>\n",
       "      <td>67.198887</td>\n",
       "      <td>44.320312</td>\n",
       "      <td>0.043751</td>\n",
       "      <td>5.348388</td>\n",
       "      <td>-0.021009</td>\n",
       "      <td>70.942869</td>\n",
       "      <td>7.624756</td>\n",
       "      <td>0.165661</td>\n",
       "      <td>90.383204</td>\n",
       "      <td>82.271268</td>\n",
       "      <td>0.270462</td>\n",
       "    </tr>\n",
       "    <tr>\n",
       "      <th>50%</th>\n",
       "      <td>60.984331</td>\n",
       "      <td>71.731659</td>\n",
       "      <td>56.500982</td>\n",
       "      <td>2.332870</td>\n",
       "      <td>14.966873</td>\n",
       "      <td>10.736843</td>\n",
       "      <td>71.323809</td>\n",
       "      <td>21.405845</td>\n",
       "      <td>6.451078</td>\n",
       "      <td>97.986945</td>\n",
       "      <td>89.975170</td>\n",
       "      <td>13.952004</td>\n",
       "    </tr>\n",
       "    <tr>\n",
       "      <th>75%</th>\n",
       "      <td>75.257789</td>\n",
       "      <td>73.137724</td>\n",
       "      <td>69.271714</td>\n",
       "      <td>5.408236</td>\n",
       "      <td>37.663093</td>\n",
       "      <td>266.325098</td>\n",
       "      <td>72.774546</td>\n",
       "      <td>61.839263</td>\n",
       "      <td>13.373266</td>\n",
       "      <td>114.836441</td>\n",
       "      <td>100.332040</td>\n",
       "      <td>32.330008</td>\n",
       "    </tr>\n",
       "    <tr>\n",
       "      <th>max</th>\n",
       "      <td>97.158479</td>\n",
       "      <td>78.917628</td>\n",
       "      <td>93.536813</td>\n",
       "      <td>17.007696</td>\n",
       "      <td>77.450150</td>\n",
       "      <td>963.483816</td>\n",
       "      <td>73.561111</td>\n",
       "      <td>125.401192</td>\n",
       "      <td>32.706693</td>\n",
       "      <td>150.216620</td>\n",
       "      <td>136.016809</td>\n",
       "      <td>101.827837</td>\n",
       "    </tr>\n",
       "  </tbody>\n",
       "</table>\n",
       "</div>"
      ],
      "text/plain": [
       "                oat           sat           orh           hwe           cwe  \\\n",
       "count  17461.000000  17461.000000  17461.000000  17461.000000  17461.000000   \n",
       "mean      61.346177     69.493643     56.865931      3.524106     21.032328   \n",
       "std       16.989838      5.652470     16.462856      3.846118     17.346112   \n",
       "min       17.562966     51.414037     17.318977     -1.316666     -3.092499   \n",
       "25%       47.244420     67.198887     44.320312      0.043751      5.348388   \n",
       "50%       60.984331     71.731659     56.500982      2.332870     14.966873   \n",
       "75%       75.257789     73.137724     69.271714      5.408236     37.663093   \n",
       "max       97.158479     78.917628     93.536813     17.007696     77.450150   \n",
       "\n",
       "                ghi      avg_stpt          flow         hw_sf         hw_st  \\\n",
       "count  17461.000000  17461.000000  17461.000000  17461.000000  17461.000000   \n",
       "mean     169.852961     71.648641     33.987889      9.413017    102.936938   \n",
       "std      255.934165      0.948048     30.335225      9.715231     14.281361   \n",
       "min      -56.201757     66.101703     -1.806047     -2.484255     80.075722   \n",
       "25%       -0.021009     70.942869      7.624756      0.165661     90.383204   \n",
       "50%       10.736843     71.323809     21.405845      6.451078     97.986945   \n",
       "75%      266.325098     72.774546     61.839263     13.373266    114.836441   \n",
       "max      963.483816     73.561111    125.401192     32.706693    150.216620   \n",
       "\n",
       "              hw_rt     30min_hwe  \n",
       "count  17461.000000  17461.000000  \n",
       "mean      92.664013     21.142169  \n",
       "std       13.907987     23.052392  \n",
       "min       63.824775     -8.381700  \n",
       "25%       82.271268      0.270462  \n",
       "50%       89.975170     13.952004  \n",
       "75%      100.332040     32.330008  \n",
       "max      136.016809    101.827837  "
      ]
     },
     "execution_count": 133,
     "metadata": {},
     "output_type": "execute_result"
    }
   ],
   "source": [
    "df_out.describe()"
   ]
  },
  {
   "cell_type": "code",
   "execution_count": 11,
   "metadata": {
    "run_control": {
     "marked": true
    }
   },
   "outputs": [],
   "source": [
    "df_out = df_out[df_out['30min_hwe']>1]"
   ]
  },
  {
   "cell_type": "markdown",
   "metadata": {},
   "source": [
    "### Create 7 day chunks of data"
   ]
  },
  {
   "cell_type": "code",
   "execution_count": 12,
   "metadata": {
    "run_control": {
     "marked": true
    }
   },
   "outputs": [
    {
     "name": "stdout",
     "output_type": "stream",
     "text": [
      "Length of dflist: 60\n"
     ]
    }
   ],
   "source": [
    "# Creating a list of 7 day dataframes for training\n",
    "dflist = dp.df2dflist_alt(df_out[['oat', 'orh', 'sat', 'ghi', 'hw_sf', '30min_hwe', 'hw_st']],\n",
    "                      subsequence=True,\n",
    "                      period=period,\n",
    "                      days=7,\n",
    "                      hours=0)\n",
    "print('Length of dflist: {}'.format(len(dflist)))"
   ]
  },
  {
   "cell_type": "markdown",
   "metadata": {},
   "source": [
    "### Custom way to create Training Data; Choose inputs, outputs, lags, train-test splits etc"
   ]
  },
  {
   "cell_type": "code",
   "execution_count": 71,
   "metadata": {
    "hide_input": false,
    "scrolled": true
   },
   "outputs": [],
   "source": [
    "data_weeks = 52 # Create a large initial block 6 months ~ 26 weeks of training and testing data\n",
    "splitvalue =  (data_weeks-1)/data_weeks  # One week for training\n",
    "weeklist = []  # create list of training, testing arrays\n",
    "inputcols = ['oat','orh', 'sat', 'ghi', 'hw_sf', 'hw_st']  # input data\n",
    "outputcols = ['30min_hwe']  # output data\n",
    "lag = -1  # predict next time step energy\n",
    "\n",
    "from pandas import concat\n",
    "def quickmerge(listdf):\n",
    "    return concat(listdf)"
   ]
  },
  {
   "cell_type": "markdown",
   "metadata": {},
   "source": [
    "### Initial Data Block for offline training"
   ]
  },
  {
   "cell_type": "code",
   "execution_count": 72,
   "metadata": {},
   "outputs": [],
   "source": [
    "datablock = dflist[:data_weeks]\n",
    "datablock_df = quickmerge(datablock)\n",
    "\n",
    "X_train, X_test, y_train, y_test, X_scaler, y_scaler = dp.df2arrays(\n",
    "        datablock_df,\n",
    "        predictorcols=inputcols,\n",
    "        outputcols=outputcols,\n",
    "        scaling=True,\n",
    "        feature_range=(0,1),\n",
    "        reshaping=True,\n",
    "        lag=lag,\n",
    "        split=splitvalue,\n",
    "    input_timesteps=1,\n",
    "    )\n",
    "weeklist.append({\n",
    "        'Id':'Year-{}-Week-{}'.format(str(datablock_df.index[0].year), \n",
    "                                      str(datablock_df.index[0].week)),\n",
    "        'X_train':X_train,\n",
    "        'y_train': y_train,\n",
    "        'X_test': X_test,\n",
    "        'y_test': y_test,\n",
    "        'y_scaler':y_scaler,\n",
    "        'X_scaler':X_scaler\n",
    "    })"
   ]
  },
  {
   "cell_type": "markdown",
   "metadata": {},
   "source": [
    "### Create small blocks of data for weekly training"
   ]
  },
  {
   "cell_type": "code",
   "execution_count": 73,
   "metadata": {},
   "outputs": [
    {
     "name": "stdout",
     "output_type": "stream",
     "text": [
      "Length of weeklist: 9\n"
     ]
    }
   ],
   "source": [
    "for weekdata in dflist[data_weeks:]:\n",
    "    \n",
    "    datablock = datablock[1:]+[weekdata]# remove 1st of data from initial_datablock\n",
    "    datablock_df = quickmerge(datablock)\n",
    "    # and add new week data from weekdata\n",
    "    \n",
    "    X_train, X_test, y_train, y_test, X_scaler, y_scaler = dp.df2arrays(\n",
    "        datablock_df,\n",
    "        predictorcols=inputcols,\n",
    "        outputcols=outputcols,\n",
    "        scaling=True,\n",
    "        feature_range=(0,1),\n",
    "        reshaping=True,\n",
    "        lag=lag,\n",
    "        split=0.66,\n",
    "        input_timesteps=1,\n",
    "    )\n",
    "    weeklist.append({\n",
    "        'Id':'Year-{}-Week-{}'.format(str(datablock_df.index[-1].year), \n",
    "                                      str(datablock_df.index[-1].week)),\n",
    "        'X_train':X_train,\n",
    "        'y_train': y_train,\n",
    "        'X_test': X_test,\n",
    "        'y_test': y_test,\n",
    "        'y_scaler':y_scaler,\n",
    "        'X_scaler':X_scaler\n",
    "    })\n",
    "\n",
    "print('Length of weeklist: {}'.format(len(weeklist)))"
   ]
  },
  {
   "cell_type": "markdown",
   "metadata": {},
   "source": [
    "### Print size and shape of data to feed to the LSTM for sanity checks"
   ]
  },
  {
   "cell_type": "code",
   "execution_count": 74,
   "metadata": {
    "scrolled": true
   },
   "outputs": [
    {
     "name": "stdout",
     "output_type": "stream",
     "text": [
      "name: Id, value: Year-2018-Week-46\n",
      "name: X_train, value: (10830, 1, 6)\n",
      "name: y_train, value: (10830, 1, 1)\n",
      "name: X_test, value: (213, 1, 6)\n",
      "name: y_test, value: (213, 1, 1)\n",
      "name: Id, value: Year-2019-Week-51\n",
      "name: X_train, value: (7185, 1, 6)\n",
      "name: y_train, value: (7185, 1, 1)\n",
      "name: X_test, value: (3702, 1, 6)\n",
      "name: y_test, value: (3702, 1, 1)\n",
      "name: Id, value: Year-2019-Week-52\n",
      "name: X_train, value: (7182, 1, 6)\n",
      "name: y_train, value: (7182, 1, 1)\n",
      "name: X_test, value: (3700, 1, 6)\n",
      "name: y_test, value: (3700, 1, 1)\n",
      "name: Id, value: Year-2020-Week-1\n",
      "name: X_train, value: (7185, 1, 6)\n",
      "name: y_train, value: (7185, 1, 1)\n",
      "name: X_test, value: (3702, 1, 6)\n",
      "name: y_test, value: (3702, 1, 1)\n",
      "name: Id, value: Year-2020-Week-2\n",
      "name: X_train, value: (7168, 1, 6)\n",
      "name: y_train, value: (7168, 1, 1)\n",
      "name: X_test, value: (3693, 1, 6)\n",
      "name: y_test, value: (3693, 1, 1)\n",
      "name: Id, value: Year-2020-Week-3\n",
      "name: X_train, value: (7120, 1, 6)\n",
      "name: y_train, value: (7120, 1, 1)\n",
      "name: X_test, value: (3669, 1, 6)\n",
      "name: y_test, value: (3669, 1, 1)\n",
      "name: Id, value: Year-2020-Week-4\n",
      "name: X_train, value: (7034, 1, 6)\n",
      "name: y_train, value: (7034, 1, 1)\n",
      "name: X_test, value: (3624, 1, 6)\n",
      "name: y_test, value: (3624, 1, 1)\n",
      "name: Id, value: Year-2020-Week-5\n",
      "name: X_train, value: (7096, 1, 6)\n",
      "name: y_train, value: (7096, 1, 1)\n",
      "name: X_test, value: (3657, 1, 6)\n",
      "name: y_test, value: (3657, 1, 1)\n",
      "name: Id, value: Year-2020-Week-6\n",
      "name: X_train, value: (7091, 1, 6)\n",
      "name: y_train, value: (7091, 1, 1)\n",
      "name: X_test, value: (3654, 1, 6)\n",
      "name: y_test, value: (3654, 1, 1)\n"
     ]
    }
   ],
   "source": [
    "for week in weeklist:\n",
    "    for key,value in week.items():\n",
    "        if (key != 'y_scaler') & (key != 'X_scaler'):\n",
    "            print(\"name: {}, value: {}\".format(key, value.shape if not isinstance(value,str) else value))"
   ]
  },
  {
   "cell_type": "markdown",
   "metadata": {
    "hide_input": false
   },
   "source": [
    "### Create Folder to save models and tensorboard logs"
   ]
  },
  {
   "cell_type": "code",
   "execution_count": 75,
   "metadata": {},
   "outputs": [],
   "source": [
    "path = '../results/lstm_hwe_trial5/'\n",
    "!rm -rf ../results/lstm_hwe_trial5\n",
    "\n",
    "# create the results directory\n",
    "try:\n",
    "    os.mkdir(path)\n",
    "except FileExistsError:\n",
    "    files = os.listdir(path)\n",
    "    for f in files:\n",
    "        os.remove(path + f)\n",
    "        \n",
    "os.mkdir(path + 'loginfo')"
   ]
  },
  {
   "cell_type": "markdown",
   "metadata": {},
   "source": [
    "### Clear the Tensorflow graph from previous training"
   ]
  },
  {
   "cell_type": "code",
   "execution_count": 27,
   "metadata": {},
   "outputs": [],
   "source": [
    "try:\n",
    "    del nn_model\n",
    "except NameError:\n",
    "    pass\n",
    "\n",
    "K.clear_session()"
   ]
  },
  {
   "cell_type": "markdown",
   "metadata": {},
   "source": [
    "### Configure the LSTM model architecture"
   ]
  },
  {
   "cell_type": "code",
   "execution_count": 76,
   "metadata": {},
   "outputs": [],
   "source": [
    "modelconfig = {\n",
    "    'weeklist': weeklist,\n",
    "    'lstm_hidden_units': 4,\n",
    "    'lstm_no_layers': 2,\n",
    "    'dense_hidden_units':8,\n",
    "    'dense_no_layers': 4,\n",
    "    'train_epochs':5000,\n",
    "    'retrain_from_layers':6\n",
    "\n",
    "}"
   ]
  },
  {
   "cell_type": "code",
   "execution_count": 19,
   "metadata": {},
   "outputs": [],
   "source": [
    "# weekdata = modelconfig['weeklist'][0]\n",
    "# X_train = weekdata['X_train']\n",
    "# y_train = weekdata['y_train']\n",
    "# X_test = weekdata['X_test']\n",
    "# y_test = weekdata['y_test']\n",
    "# y_scaler = weekdata['y_scaler']\n",
    "\n",
    "# #Instantiate learner model\n",
    "# nn_model = mp.seq2seq_model(path,\n",
    "#                       inputdim=X_train.shape[-1],\n",
    "#                       outputdim=y_train.shape[-1],\n",
    "#                       period=period)\n",
    "\n",
    "# # Desing model architecture\n",
    "# nn_model.design_network(lstmhiddenlayers=[modelconfig['lstm_hidden_units']] * (2*modelconfig['lstm_no_layers']),\n",
    "#                    densehiddenlayers=[modelconfig['dense_hidden_units']] * modelconfig['dense_no_layers'],\n",
    "#                    dropoutlist=[[], []],\n",
    "#                    batchnormalizelist=[[], []])\n",
    "\n",
    "# # compile model\n",
    "# nn_model.model_compile()"
   ]
  },
  {
   "cell_type": "markdown",
   "metadata": {
    "heading_collapsed": true
   },
   "source": [
    "### Start the week by week training procedure"
   ]
  },
  {
   "cell_type": "code",
   "execution_count": 144,
   "metadata": {
    "hidden": true,
    "scrolled": true
   },
   "outputs": [
    {
     "name": "stderr",
     "output_type": "stream",
     "text": [
      "\n",
      "  0%|          | 0/9 [00:00<?, ?it/s]\u001b[A"
     ]
    },
    {
     "name": "stdout",
     "output_type": "stream",
     "text": [
      "Train on 10830 samples, validate on 213 samples\n",
      "Epoch 1/5000\n",
      " - 7s - loss: 0.0422 - val_loss: 0.1722\n",
      "Epoch 2/5000\n",
      " - 4s - loss: 0.0282 - val_loss: 0.1790\n",
      "Epoch 3/5000\n",
      " - 4s - loss: 0.0283 - val_loss: 0.1796\n",
      "Epoch 4/5000\n",
      " - 4s - loss: 0.0493 - val_loss: 0.1623\n",
      "Epoch 5/5000\n",
      " - 4s - loss: 0.0465 - val_loss: 0.1581\n",
      "Epoch 6/5000\n",
      " - 4s - loss: 0.0450 - val_loss: 0.1560\n",
      "Epoch 7/5000\n",
      " - 4s - loss: 0.0433 - val_loss: 0.1534\n",
      "Epoch 8/5000\n",
      " - 4s - loss: 0.0412 - val_loss: 0.1503\n",
      "Epoch 9/5000\n",
      " - 4s - loss: 0.0389 - val_loss: 0.1460\n",
      "Epoch 10/5000\n",
      " - 4s - loss: 0.0363 - val_loss: 0.1397\n",
      "Epoch 11/5000\n",
      " - 4s - loss: 0.0334 - val_loss: 0.1313\n",
      "Epoch 12/5000\n",
      " - 4s - loss: 0.0302 - val_loss: 0.1204\n",
      "Epoch 13/5000\n",
      " - 4s - loss: 0.0268 - val_loss: 0.1075\n",
      "Epoch 14/5000\n",
      " - 4s - loss: 0.0232 - val_loss: 0.0928\n",
      "Epoch 15/5000\n",
      " - 4s - loss: 0.0195 - val_loss: 0.0771\n",
      "Epoch 16/5000\n",
      " - 4s - loss: 0.0161 - val_loss: 0.0619\n",
      "Epoch 17/5000\n",
      " - 4s - loss: 0.0134 - val_loss: 0.0500\n",
      "Epoch 18/5000\n",
      " - 4s - loss: 0.0116 - val_loss: 0.0430\n",
      "Epoch 19/5000\n",
      " - 4s - loss: 0.0108 - val_loss: 0.0394\n",
      "Epoch 20/5000\n",
      " - 4s - loss: 0.0103 - val_loss: 0.0374\n",
      "Epoch 21/5000\n",
      " - 4s - loss: 0.0100 - val_loss: 0.0359\n",
      "Epoch 22/5000\n",
      " - 4s - loss: 0.0097 - val_loss: 0.0348\n",
      "Epoch 23/5000\n",
      " - 4s - loss: 0.0095 - val_loss: 0.0339\n",
      "Epoch 24/5000\n",
      " - 4s - loss: 0.0093 - val_loss: 0.0331\n",
      "Epoch 25/5000\n",
      " - 4s - loss: 0.0092 - val_loss: 0.0324\n",
      "Epoch 26/5000\n",
      " - 4s - loss: 0.0091 - val_loss: 0.0318\n",
      "Epoch 27/5000\n",
      " - 4s - loss: 0.0090 - val_loss: 0.0313\n",
      "Epoch 28/5000\n",
      " - 4s - loss: 0.0089 - val_loss: 0.0308\n",
      "Epoch 29/5000\n",
      " - 4s - loss: 0.0088 - val_loss: 0.0304\n",
      "Epoch 30/5000\n",
      " - 4s - loss: 0.0087 - val_loss: 0.0300\n",
      "Epoch 31/5000\n",
      " - 4s - loss: 0.0087 - val_loss: 0.0297\n",
      "Epoch 32/5000\n",
      " - 4s - loss: 0.0086 - val_loss: 0.0294\n",
      "Epoch 33/5000\n",
      " - 4s - loss: 0.0086 - val_loss: 0.0292\n",
      "Epoch 34/5000\n",
      " - 4s - loss: 0.0085 - val_loss: 0.0290\n",
      "Epoch 35/5000\n",
      " - 4s - loss: 0.0085 - val_loss: 0.0288\n",
      "Epoch 36/5000\n",
      " - 4s - loss: 0.0085 - val_loss: 0.0286\n",
      "Epoch 37/5000\n",
      " - 4s - loss: 0.0085 - val_loss: 0.0284\n",
      "Epoch 38/5000\n",
      " - 4s - loss: 0.0084 - val_loss: 0.0283\n",
      "Epoch 39/5000\n",
      " - 4s - loss: 0.0084 - val_loss: 0.0282\n",
      "Epoch 40/5000\n",
      " - 4s - loss: 0.0084 - val_loss: 0.0280\n",
      "Epoch 41/5000\n",
      " - 4s - loss: 0.0084 - val_loss: 0.0279\n",
      "Epoch 42/5000\n",
      " - 4s - loss: 0.0083 - val_loss: 0.0278\n",
      "Epoch 43/5000\n",
      " - 4s - loss: 0.0083 - val_loss: 0.0277\n",
      "Epoch 44/5000\n",
      " - 4s - loss: 0.0083 - val_loss: 0.0276\n",
      "Epoch 45/5000\n",
      " - 4s - loss: 0.0083 - val_loss: 0.0275\n",
      "Epoch 46/5000\n",
      " - 4s - loss: 0.0083 - val_loss: 0.0274\n",
      "Epoch 47/5000\n",
      " - 4s - loss: 0.0083 - val_loss: 0.0273\n",
      "Epoch 48/5000\n",
      " - 4s - loss: 0.0082 - val_loss: 0.0273\n",
      "Epoch 49/5000\n",
      " - 4s - loss: 0.0082 - val_loss: 0.0272\n",
      "Epoch 50/5000\n",
      " - 4s - loss: 0.0082 - val_loss: 0.0271\n",
      "Epoch 51/5000\n",
      " - 4s - loss: 0.0082 - val_loss: 0.0270\n",
      "Epoch 52/5000\n",
      " - 4s - loss: 0.0082 - val_loss: 0.0270\n",
      "Epoch 53/5000\n",
      " - 4s - loss: 0.0082 - val_loss: 0.0269\n",
      "Epoch 54/5000\n",
      " - 4s - loss: 0.0082 - val_loss: 0.0269\n",
      "Epoch 55/5000\n",
      " - 4s - loss: 0.0082 - val_loss: 0.0268\n",
      "Epoch 56/5000\n",
      " - 4s - loss: 0.0081 - val_loss: 0.0268\n",
      "Epoch 57/5000\n",
      " - 4s - loss: 0.0081 - val_loss: 0.0267\n",
      "Epoch 58/5000\n",
      " - 4s - loss: 0.0082 - val_loss: 0.0273\n",
      "Epoch 59/5000\n",
      " - 4s - loss: 0.0080 - val_loss: 0.0277\n",
      "Epoch 60/5000\n",
      " - 4s - loss: 0.0080 - val_loss: 0.0278\n",
      "Epoch 61/5000\n",
      " - 4s - loss: 0.0079 - val_loss: 0.0279\n",
      "Epoch 62/5000\n",
      " - 4s - loss: 0.0079 - val_loss: 0.0279\n",
      "Epoch 63/5000\n",
      " - 4s - loss: 0.0079 - val_loss: 0.0279\n",
      "Epoch 64/5000\n",
      " - 4s - loss: 0.0079 - val_loss: 0.0279\n",
      "Epoch 65/5000\n",
      " - 4s - loss: 0.0079 - val_loss: 0.0280\n"
     ]
    },
    {
     "name": "stderr",
     "output_type": "stream",
     "text": [
      "\n",
      " 11%|█         | 1/9 [04:41<37:32, 281.53s/it]\u001b[A"
     ]
    },
    {
     "name": "stdout",
     "output_type": "stream",
     "text": [
      "Train on 227 samples, validate on 118 samples\n",
      "Epoch 66/5000\n",
      " - 1s - loss: 0.3438 - val_loss: 0.2627\n",
      "Epoch 67/5000\n",
      " - 0s - loss: 0.2945 - val_loss: 0.2222\n",
      "Epoch 68/5000\n",
      " - 0s - loss: 0.2485 - val_loss: 0.1843\n",
      "Epoch 69/5000\n",
      " - 0s - loss: 0.2056 - val_loss: 0.1490\n",
      "Epoch 70/5000\n",
      " - 0s - loss: 0.1659 - val_loss: 0.1166\n",
      "Epoch 71/5000\n",
      " - 0s - loss: 0.1300 - val_loss: 0.0880\n",
      "Epoch 72/5000\n",
      " - 0s - loss: 0.0988 - val_loss: 0.0640\n",
      "Epoch 73/5000\n",
      " - 0s - loss: 0.0736 - val_loss: 0.0456\n",
      "Epoch 74/5000\n",
      " - 0s - loss: 0.0552 - val_loss: 0.0333\n",
      "Epoch 75/5000\n",
      " - 0s - loss: 0.0437 - val_loss: 0.0266\n",
      "Epoch 76/5000\n",
      " - 0s - loss: 0.0383 - val_loss: 0.0240\n",
      "Epoch 77/5000\n",
      " - 0s - loss: 0.0366 - val_loss: 0.0235\n",
      "Epoch 78/5000\n",
      " - 0s - loss: 0.0366 - val_loss: 0.0235\n",
      "Epoch 79/5000\n",
      " - 0s - loss: 0.0366 - val_loss: 0.0235\n",
      "Epoch 80/5000\n",
      " - 0s - loss: 0.0365 - val_loss: 0.0235\n",
      "Epoch 81/5000\n",
      " - 0s - loss: 0.0364 - val_loss: 0.0234\n",
      "Epoch 82/5000\n",
      " - 0s - loss: 0.0364 - val_loss: 0.0234\n",
      "Epoch 83/5000\n",
      " - 0s - loss: 0.0364 - val_loss: 0.0234\n",
      "Epoch 84/5000\n",
      " - 0s - loss: 0.0363 - val_loss: 0.0234\n",
      "Epoch 85/5000\n",
      " - 0s - loss: 0.0363 - val_loss: 0.0234\n",
      "Epoch 86/5000\n",
      " - 0s - loss: 0.0363 - val_loss: 0.0234\n",
      "Epoch 87/5000\n",
      " - 0s - loss: 0.0363 - val_loss: 0.0234\n",
      "Epoch 88/5000\n",
      " - 0s - loss: 0.0363 - val_loss: 0.0234\n",
      "Epoch 89/5000\n",
      " - 0s - loss: 0.0363 - val_loss: 0.0234\n",
      "Epoch 90/5000\n",
      " - 0s - loss: 0.0363 - val_loss: 0.0234\n",
      "Epoch 91/5000\n",
      " - 0s - loss: 0.0363 - val_loss: 0.0234\n",
      "Epoch 92/5000\n",
      " - 0s - loss: 0.0363 - val_loss: 0.0234\n",
      "Epoch 93/5000\n",
      " - 0s - loss: 0.0363 - val_loss: 0.0234\n",
      "Epoch 94/5000\n",
      " - 0s - loss: 0.0363 - val_loss: 0.0234\n",
      "Epoch 95/5000\n",
      " - 0s - loss: 0.0363 - val_loss: 0.0234\n",
      "Epoch 96/5000\n",
      " - 0s - loss: 0.0363 - val_loss: 0.0234\n",
      "Epoch 97/5000\n",
      " - 0s - loss: 0.0363 - val_loss: 0.0234\n",
      "Epoch 98/5000\n",
      " - 0s - loss: 0.0363 - val_loss: 0.0234\n",
      "Epoch 99/5000\n",
      " - 0s - loss: 0.0363 - val_loss: 0.0234\n",
      "Epoch 100/5000\n",
      " - 0s - loss: 0.0363 - val_loss: 0.0234\n",
      "Epoch 101/5000\n",
      " - 0s - loss: 0.0363 - val_loss: 0.0234\n",
      "Epoch 102/5000\n",
      " - 0s - loss: 0.0363 - val_loss: 0.0234\n",
      "Epoch 103/5000\n",
      " - 0s - loss: 0.0363 - val_loss: 0.0234\n",
      "Epoch 104/5000\n",
      " - 0s - loss: 0.0363 - val_loss: 0.0234\n",
      "Epoch 105/5000\n",
      " - 0s - loss: 0.0363 - val_loss: 0.0234\n",
      "Epoch 106/5000\n",
      " - 0s - loss: 0.0363 - val_loss: 0.0234\n",
      "Epoch 107/5000\n",
      " - 0s - loss: 0.0363 - val_loss: 0.0234\n",
      "Epoch 108/5000\n",
      " - 0s - loss: 0.0363 - val_loss: 0.0234\n"
     ]
    },
    {
     "name": "stderr",
     "output_type": "stream",
     "text": [
      "\n",
      " 22%|██▏       | 2/9 [04:47<23:12, 198.92s/it]\u001b[A"
     ]
    },
    {
     "name": "stdout",
     "output_type": "stream",
     "text": [
      "Train on 225 samples, validate on 117 samples\n",
      "Epoch 109/5000\n",
      " - 1s - loss: 0.2883 - val_loss: 0.0593\n",
      "Epoch 110/5000\n",
      " - 0s - loss: 0.2567 - val_loss: 0.0504\n",
      "Epoch 111/5000\n",
      " - 0s - loss: 0.2283 - val_loss: 0.0423\n",
      "Epoch 112/5000\n",
      " - 0s - loss: 0.2016 - val_loss: 0.0349\n",
      "Epoch 113/5000\n",
      " - 0s - loss: 0.1761 - val_loss: 0.0281\n",
      "Epoch 114/5000\n",
      " - 0s - loss: 0.1514 - val_loss: 0.0218\n",
      "Epoch 115/5000\n",
      " - 0s - loss: 0.1275 - val_loss: 0.0164\n",
      "Epoch 116/5000\n",
      " - 0s - loss: 0.1046 - val_loss: 0.0119\n",
      "Epoch 117/5000\n",
      " - 0s - loss: 0.0835 - val_loss: 0.0088\n",
      "Epoch 118/5000\n",
      " - 0s - loss: 0.0651 - val_loss: 0.0071\n",
      "Epoch 119/5000\n",
      " - 0s - loss: 0.0500 - val_loss: 0.0071\n",
      "Epoch 120/5000\n",
      " - 0s - loss: 0.0389 - val_loss: 0.0082\n",
      "Epoch 121/5000\n",
      " - 0s - loss: 0.0317 - val_loss: 0.0084\n",
      "Epoch 122/5000\n",
      " - 0s - loss: 0.0311 - val_loss: 0.0085\n",
      "Epoch 123/5000\n",
      " - 0s - loss: 0.0306 - val_loss: 0.0086\n",
      "Epoch 124/5000\n",
      " - 0s - loss: 0.0301 - val_loss: 0.0088\n",
      "Epoch 125/5000\n",
      " - 0s - loss: 0.0297 - val_loss: 0.0088\n",
      "Epoch 126/5000\n",
      " - 0s - loss: 0.0297 - val_loss: 0.0088\n",
      "Epoch 127/5000\n",
      " - 0s - loss: 0.0297 - val_loss: 0.0088\n"
     ]
    },
    {
     "name": "stderr",
     "output_type": "stream",
     "text": [
      "\n",
      " 33%|███▎      | 3/9 [04:51<14:02, 140.50s/it]\u001b[A"
     ]
    },
    {
     "name": "stdout",
     "output_type": "stream",
     "text": [
      "Train on 344 samples, validate on 178 samples\n",
      "Epoch 128/5000\n",
      " - 1s - loss: 0.1779 - val_loss: 0.1940\n",
      "Epoch 129/5000\n",
      " - 0s - loss: 0.1515 - val_loss: 0.1654\n",
      "Epoch 130/5000\n",
      " - 0s - loss: 0.1289 - val_loss: 0.1385\n",
      "Epoch 131/5000\n",
      " - 0s - loss: 0.1076 - val_loss: 0.1128\n",
      "Epoch 132/5000\n",
      " - 0s - loss: 0.0872 - val_loss: 0.0882\n",
      "Epoch 133/5000\n",
      " - 0s - loss: 0.0679 - val_loss: 0.0656\n",
      "Epoch 134/5000\n",
      " - 0s - loss: 0.0504 - val_loss: 0.0462\n",
      "Epoch 135/5000\n",
      " - 0s - loss: 0.0357 - val_loss: 0.0311\n",
      "Epoch 136/5000\n",
      " - 0s - loss: 0.0247 - val_loss: 0.0211\n",
      "Epoch 137/5000\n",
      " - 0s - loss: 0.0175 - val_loss: 0.0158\n",
      "Epoch 138/5000\n",
      " - 0s - loss: 0.0138 - val_loss: 0.0139\n",
      "Epoch 139/5000\n",
      " - 0s - loss: 0.0122 - val_loss: 0.0136\n",
      "Epoch 140/5000\n",
      " - 0s - loss: 0.0117 - val_loss: 0.0138\n",
      "Epoch 141/5000\n",
      " - 0s - loss: 0.0115 - val_loss: 0.0140\n",
      "Epoch 142/5000\n",
      " - 0s - loss: 0.0114 - val_loss: 0.0140\n",
      "Epoch 143/5000\n",
      " - 0s - loss: 0.0113 - val_loss: 0.0140\n",
      "Epoch 144/5000\n",
      " - 0s - loss: 0.0113 - val_loss: 0.0141\n",
      "Epoch 145/5000\n",
      " - 0s - loss: 0.0113 - val_loss: 0.0141\n",
      "Epoch 146/5000\n",
      " - 0s - loss: 0.0113 - val_loss: 0.0141\n",
      "Epoch 147/5000\n",
      " - 0s - loss: 0.0113 - val_loss: 0.0141\n"
     ]
    },
    {
     "name": "stderr",
     "output_type": "stream",
     "text": [
      "\n",
      " 44%|████▍     | 4/9 [04:56<08:19, 99.87s/it] \u001b[A"
     ]
    },
    {
     "name": "stdout",
     "output_type": "stream",
     "text": [
      "Train on 432 samples, validate on 224 samples\n",
      "Epoch 148/5000\n",
      " - 1s - loss: 0.1782 - val_loss: 0.1143\n",
      "Epoch 149/5000\n",
      " - 0s - loss: 0.1376 - val_loss: 0.0804\n",
      "Epoch 150/5000\n",
      " - 0s - loss: 0.0967 - val_loss: 0.0512\n",
      "Epoch 151/5000\n",
      " - 0s - loss: 0.0594 - val_loss: 0.0330\n",
      "Epoch 152/5000\n",
      " - 0s - loss: 0.0318 - val_loss: 0.0306\n",
      "Epoch 153/5000\n",
      " - 0s - loss: 0.0180 - val_loss: 0.0398\n",
      "Epoch 154/5000\n",
      " - 0s - loss: 0.0146 - val_loss: 0.0477\n",
      "Epoch 155/5000\n",
      " - 0s - loss: 0.0143 - val_loss: 0.0478\n",
      "Epoch 156/5000\n",
      " - 0s - loss: 0.0143 - val_loss: 0.0477\n",
      "Epoch 157/5000\n",
      " - 0s - loss: 0.0143 - val_loss: 0.0475\n",
      "Epoch 158/5000\n",
      " - 0s - loss: 0.0143 - val_loss: 0.0473\n",
      "Epoch 159/5000\n",
      " - 0s - loss: 0.0142 - val_loss: 0.0473\n",
      "Epoch 160/5000\n",
      " - 0s - loss: 0.0142 - val_loss: 0.0473\n"
     ]
    },
    {
     "name": "stderr",
     "output_type": "stream",
     "text": [
      "\n",
      " 56%|█████▌    | 5/9 [05:01<04:44, 71.16s/it]\u001b[A"
     ]
    },
    {
     "name": "stdout",
     "output_type": "stream",
     "text": [
      "Train on 391 samples, validate on 202 samples\n",
      "Epoch 161/5000\n",
      " - 1s - loss: 0.0532 - val_loss: 0.0728\n",
      "Epoch 162/5000\n",
      " - 0s - loss: 0.0382 - val_loss: 0.0580\n",
      "Epoch 163/5000\n",
      " - 0s - loss: 0.0249 - val_loss: 0.0451\n",
      "Epoch 164/5000\n",
      " - 0s - loss: 0.0146 - val_loss: 0.0359\n",
      "Epoch 165/5000\n",
      " - 0s - loss: 0.0085 - val_loss: 0.0313\n",
      "Epoch 166/5000\n",
      " - 0s - loss: 0.0064 - val_loss: 0.0299\n",
      "Epoch 167/5000\n",
      " - 0s - loss: 0.0061 - val_loss: 0.0297\n",
      "Epoch 168/5000\n",
      " - 0s - loss: 0.0060 - val_loss: 0.0298\n",
      "Epoch 169/5000\n",
      " - 0s - loss: 0.0059 - val_loss: 0.0298\n",
      "Epoch 170/5000\n",
      " - 0s - loss: 0.0058 - val_loss: 0.0298\n",
      "Epoch 171/5000\n",
      " - 0s - loss: 0.0058 - val_loss: 0.0298\n",
      "Epoch 172/5000\n",
      " - 0s - loss: 0.0058 - val_loss: 0.0298\n",
      "Epoch 173/5000\n",
      " - 0s - loss: 0.0058 - val_loss: 0.0298\n",
      "Epoch 174/5000\n",
      " - 0s - loss: 0.0058 - val_loss: 0.0298\n",
      "Epoch 175/5000\n",
      " - 0s - loss: 0.0058 - val_loss: 0.0298\n"
     ]
    },
    {
     "name": "stderr",
     "output_type": "stream",
     "text": [
      "\n",
      " 67%|██████▋   | 6/9 [05:05<02:33, 51.14s/it]\u001b[A"
     ]
    },
    {
     "name": "stdout",
     "output_type": "stream",
     "text": [
      "Train on 289 samples, validate on 150 samples\n",
      "Epoch 176/5000\n",
      " - 1s - loss: 0.0399 - val_loss: 0.1684\n",
      "Epoch 177/5000\n",
      " - 0s - loss: 0.0268 - val_loss: 0.1359\n",
      "Epoch 178/5000\n",
      " - 0s - loss: 0.0170 - val_loss: 0.1079\n",
      "Epoch 179/5000\n",
      " - 0s - loss: 0.0112 - val_loss: 0.0873\n",
      "Epoch 180/5000\n",
      " - 0s - loss: 0.0090 - val_loss: 0.0759\n",
      "Epoch 181/5000\n",
      " - 0s - loss: 0.0089 - val_loss: 0.0724\n",
      "Epoch 182/5000\n",
      " - 0s - loss: 0.0090 - val_loss: 0.0733\n",
      "Epoch 183/5000\n",
      " - 0s - loss: 0.0091 - val_loss: 0.0752\n",
      "Epoch 184/5000\n",
      " - 0s - loss: 0.0090 - val_loss: 0.0754\n",
      "Epoch 185/5000\n",
      " - 0s - loss: 0.0090 - val_loss: 0.0755\n",
      "Epoch 186/5000\n",
      " - 0s - loss: 0.0090 - val_loss: 0.0756\n",
      "Epoch 187/5000\n",
      " - 0s - loss: 0.0090 - val_loss: 0.0756\n",
      "Epoch 188/5000\n",
      " - 0s - loss: 0.0090 - val_loss: 0.0756\n",
      "Epoch 189/5000\n",
      " - 0s - loss: 0.0090 - val_loss: 0.0757\n"
     ]
    },
    {
     "name": "stderr",
     "output_type": "stream",
     "text": [
      "\n",
      " 78%|███████▊  | 7/9 [05:09<01:14, 37.01s/it]\u001b[A"
     ]
    },
    {
     "name": "stdout",
     "output_type": "stream",
     "text": [
      "Train on 366 samples, validate on 190 samples\n",
      "Epoch 190/5000\n",
      " - 2s - loss: 0.1799 - val_loss: 0.1961\n",
      "Epoch 191/5000\n",
      " - 0s - loss: 0.1387 - val_loss: 0.1494\n",
      "Epoch 192/5000\n",
      " - 0s - loss: 0.1036 - val_loss: 0.1090\n",
      "Epoch 193/5000\n",
      " - 0s - loss: 0.0740 - val_loss: 0.0747\n",
      "Epoch 194/5000\n",
      " - 0s - loss: 0.0505 - val_loss: 0.0481\n",
      "Epoch 195/5000\n",
      " - 0s - loss: 0.0345 - val_loss: 0.0308\n",
      "Epoch 196/5000\n",
      " - 0s - loss: 0.0262 - val_loss: 0.0222\n",
      "Epoch 197/5000\n",
      " - 0s - loss: 0.0234 - val_loss: 0.0192\n",
      "Epoch 198/5000\n",
      " - 0s - loss: 0.0230 - val_loss: 0.0185\n",
      "Epoch 199/5000\n",
      " - 0s - loss: 0.0229 - val_loss: 0.0186\n",
      "Epoch 200/5000\n",
      " - 0s - loss: 0.0227 - val_loss: 0.0189\n",
      "Epoch 201/5000\n",
      " - 0s - loss: 0.0225 - val_loss: 0.0189\n",
      "Epoch 202/5000\n",
      " - 0s - loss: 0.0224 - val_loss: 0.0189\n",
      "Epoch 203/5000\n",
      " - 0s - loss: 0.0224 - val_loss: 0.0190\n",
      "Epoch 204/5000\n",
      " - 0s - loss: 0.0224 - val_loss: 0.0190\n",
      "Epoch 205/5000\n",
      " - 0s - loss: 0.0224 - val_loss: 0.0190\n",
      "Epoch 206/5000\n",
      " - 0s - loss: 0.0224 - val_loss: 0.0190\n"
     ]
    },
    {
     "name": "stderr",
     "output_type": "stream",
     "text": [
      "\n",
      " 89%|████████▉ | 8/9 [05:14<00:27, 27.35s/it]\u001b[A"
     ]
    },
    {
     "name": "stdout",
     "output_type": "stream",
     "text": [
      "Train on 386 samples, validate on 200 samples\n",
      "Epoch 207/5000\n",
      " - 2s - loss: 0.2803 - val_loss: 0.3755\n",
      "Epoch 208/5000\n",
      " - 0s - loss: 0.2120 - val_loss: 0.2993\n",
      "Epoch 209/5000\n",
      " - 0s - loss: 0.1522 - val_loss: 0.2284\n",
      "Epoch 210/5000\n",
      " - 0s - loss: 0.0994 - val_loss: 0.1621\n",
      "Epoch 211/5000\n",
      " - 0s - loss: 0.0560 - val_loss: 0.1061\n",
      "Epoch 212/5000\n",
      " - 0s - loss: 0.0277 - val_loss: 0.0675\n",
      "Epoch 213/5000\n",
      " - 0s - loss: 0.0159 - val_loss: 0.0482\n",
      "Epoch 214/5000\n",
      " - 0s - loss: 0.0139 - val_loss: 0.0422\n",
      "Epoch 215/5000\n",
      " - 0s - loss: 0.0140 - val_loss: 0.0422\n",
      "Epoch 216/5000\n",
      " - 0s - loss: 0.0138 - val_loss: 0.0439\n",
      "Epoch 217/5000\n",
      " - 0s - loss: 0.0136 - val_loss: 0.0440\n",
      "Epoch 218/5000\n",
      " - 0s - loss: 0.0136 - val_loss: 0.0441\n",
      "Epoch 219/5000\n",
      " - 0s - loss: 0.0136 - val_loss: 0.0441\n",
      "Epoch 220/5000\n",
      " - 0s - loss: 0.0136 - val_loss: 0.0441\n",
      "Epoch 221/5000\n",
      " - 0s - loss: 0.0136 - val_loss: 0.0441\n",
      "Epoch 222/5000\n",
      " - 0s - loss: 0.0136 - val_loss: 0.0441\n"
     ]
    },
    {
     "name": "stderr",
     "output_type": "stream",
     "text": [
      "\n",
      "100%|██████████| 9/9 [05:19<00:00, 35.51s/it]\u001b[A\n"
     ]
    }
   ],
   "source": [
    "modeldesigndone = False\n",
    "initial_epoch = 0\n",
    "freeze_model = True\n",
    "reinitialize = True\n",
    "\n",
    "for weekno, weekdata in enumerate(tqdm(modelconfig['weeklist'])):\n",
    "\n",
    "    X_train = weekdata['X_train']\n",
    "    y_train = weekdata['y_train']\n",
    "    X_test = weekdata['X_test']\n",
    "    y_test = weekdata['y_test']\n",
    "    y_scaler = weekdata['y_scaler']\n",
    "\n",
    "    if not modeldesigndone:\n",
    "        \n",
    "        try:\n",
    "            del nn_model\n",
    "        except NameError:\n",
    "            pass\n",
    "\n",
    "        K.clear_session()\n",
    "        \n",
    "        #Instantiate learner model\n",
    "        nn_model = mp.seq2seq_model(path,\n",
    "                              inputdim=X_train.shape[-1],\n",
    "                              outputdim=y_train.shape[-1],\n",
    "                            input_timesteps=X_train.shape[-2],\n",
    "                              period=period,\n",
    "                                hybird_modes=10)\n",
    "\n",
    "        # Desing model architecture\n",
    "        nn_model.design_network(lstmhiddenlayers=[modelconfig['lstm_hidden_units']] * (2*modelconfig['lstm_no_layers']),\n",
    "                           densehiddenlayers=[modelconfig['dense_hidden_units']] * modelconfig['dense_no_layers'],\n",
    "                           dropoutlist=[[], []],\n",
    "                           batchnormalizelist=[[], []])\n",
    "\n",
    "        # compile model\n",
    "        nn_model.model_compile()\n",
    "\n",
    "        # creating early stopping and learning reate changing callbacks\n",
    "        nn_model.model_callbacks()\n",
    "\n",
    "        modeldesigndone = True\n",
    "\n",
    "    # train the model\n",
    "    history = nn_model.train_model(X_train, y_train, X_test, y_test, epochs=modelconfig['train_epochs'],\n",
    "                                initial_epoch = initial_epoch)\n",
    "    try:\n",
    "        initial_epoch += len(history.history['loss'])\n",
    "    except KeyError:\n",
    "        pass\n",
    "\n",
    "    # evaluate the model for metrics at this stage\n",
    "    # see inside results folder to look at t\n",
    "    # train and test plots as well as logged errors inside the text file\n",
    "    preds_train, preds_test = nn_model.evaluate_model(X_train,\n",
    "                                                   y_train,\n",
    "                                                   X_test,\n",
    "                                                   y_test,\n",
    "                                                   y_scaler,\n",
    "                                                   scaling=True,\n",
    "                                                   saveplot=True,\n",
    "                                                   Idx=weekdata['Id'],\n",
    "                                                     outputdim_names=['Hot Water Energy'])\n",
    "    \n",
    "    # freeze all but dense layers at the top and compile with new weights\n",
    "    if freeze_model:\n",
    "        for layer in nn_model.model.layers[:-modelconfig['retrain_from_layers']]:\n",
    "            layer.trainable = False\n",
    "        freeze_model = False\n",
    "            \n",
    "    if reinitialize:  \n",
    "        for layer in nn_model.model.layers[-modelconfig['retrain_from_layers']:]:\n",
    "            layer.kernel.initializer.run(session=K.get_session())\n",
    "            layer.bias.initializer.run(session=K.get_session())\n",
    "    \n",
    "    # compile model\n",
    "    nn_model.model_compile()"
   ]
  },
  {
   "cell_type": "markdown",
   "metadata": {
    "heading_collapsed": true
   },
   "source": [
    "### Plot the week by week CVRMSE error"
   ]
  },
  {
   "cell_type": "code",
   "execution_count": 145,
   "metadata": {
    "hidden": true
   },
   "outputs": [
    {
     "name": "stdout",
     "output_type": "stream",
     "text": [
      "Name of the file:  ../results/lstm_hwe_trial5/30min Results_File.txt\n"
     ]
    },
    {
     "data": {
      "image/png": "[encoded data removed]",
      "text/plain": [
       "<Figure size 720x504 with 1 Axes>"
      ]
     },
     "metadata": {
      "needs_background": "light"
     },
     "output_type": "display_data"
    }
   ],
   "source": [
    "# Open a file\n",
    "fo = open(path + \"{}min Results_File.txt\".format(5*period), \"r\")\n",
    "print(\"Name of the file: \", fo.name)\n",
    "lines = fo.readlines()\n",
    "\n",
    "parse_format = 'Year-{}-Week-{}-Time Step {}: {} RMSE={} |{} CVRMSE={} |{} MAE={}'\n",
    "stats = {\n",
    "    'Train': {\n",
    "        'rmse': [],\n",
    "        'cvrmse': [],\n",
    "        'mae': []\n",
    "    },\n",
    "    'Test': {\n",
    "        'rmse': [],\n",
    "        'cvrmse': [],\n",
    "        'mae': []\n",
    "    }\n",
    "}\n",
    "xticklist = []\n",
    "counter = 0\n",
    "for line in lines:\n",
    "    p = parse.parse(parse_format, line)\n",
    "    stats[p[3]]['rmse'].append(float(p[4]))\n",
    "    stats[p[5]]['cvrmse'].append(float(p[6]))\n",
    "    stats[p[7]]['mae'].append(float(p[8]))\n",
    "    if counter % 2 == 0:\n",
    "        xticklist.append('Year-{}-Week-{}'.format(p[0], p[1]))\n",
    "    counter += 1\n",
    "fo.close()\n",
    "cvrmse_list = stats['Test']['cvrmse']\n",
    "cvrmse = sum(cvrmse_list) / len(cvrmse_list)\n",
    "# from dataprocess import plotutils as pu\n",
    "plot_args = dict(\n",
    "    bars=cvrmse_list,\n",
    "    color='goldenrod',\n",
    "    bar_label='cvrmse',\n",
    "    saveloc=path,\n",
    "    smoothcurve=True,\n",
    "    bar_annotate=True,\n",
    "    saveplot=True,\n",
    "    xlabel='Week of year',\n",
    "    ylabel='cvrmse error in percentage',\n",
    "    title=\n",
    "    'Weekly CVRMSE Error for Hot Water Energy Model error at {5:}min(s) intervals \\n [{0:} layers of {1:}-unit lstm, {2:} layers of {3:}-unit dense] \\n Average CVRMSE Error {4:.2f}%'\n",
    "    .format(modelconfig['lstm_no_layers'], modelconfig['lstm_hidden_units'],\n",
    "            modelconfig['dense_no_layers'], modelconfig['dense_hidden_units'],\n",
    "            cvrmse,5*period),\n",
    "    xticklist=xticklist,\n",
    "    plotwidth=10,\n",
    "    plotheight=7,\n",
    "    fontsize=16)\n",
    "pu.single_bar_plot(**plot_args)"
   ]
  },
  {
   "cell_type": "markdown",
   "metadata": {},
   "source": [
    "### Custom method to plot all the relevant variables"
   ]
  },
  {
   "cell_type": "code",
   "execution_count": 79,
   "metadata": {},
   "outputs": [
    {
     "data": {
      "image/png": "[encoded data removed]",
      "text/plain": [
       "<Figure size 1080x360 with 1 Axes>"
      ]
     },
     "metadata": {
      "needs_background": "light"
     },
     "output_type": "display_data"
    }
   ],
   "source": [
    "weekdata = modelconfig['weeklist'][0]\n",
    "X_train = weekdata['X_train']\n",
    "y_train = weekdata['y_train']\n",
    "X_test = weekdata['X_test']\n",
    "y_test = weekdata['y_test']\n",
    "y_scaler = weekdata['y_scaler']\n",
    "X_scaler = weekdata['X_scaler']\n",
    "\n",
    "detailedplot(30, 1, 1, 1, y_test, y_test,X_test, './', True, X_scaler, y_scaler, typeofplot='Custom', Idx=weekdata['Id'])"
   ]
  },
  {
   "cell_type": "code",
   "execution_count": 78,
   "metadata": {},
   "outputs": [],
   "source": [
    "import matplotlib.pyplot as plt\n",
    "import numpy as np\n",
    "# inputcols = ['oat','orh', 'sat', 'ghi', 'hw_sf', 'hw_st'] \n",
    "def detailedplot(timegap, outputdim, output_timesteps, input_timesteps, pred, target, X_var,\n",
    " saveloc, scaling: bool, Xscaler, yscaler, lag: int = -1, outputdim_names : list = [], typeofplot: str = 'train', \n",
    "                 Idx: str = ''):\n",
    "    \n",
    "\tif not outputdim_names:\n",
    "\t\toutputdim_names = ['Output']*outputdim\n",
    "        \n",
    "\t_pred = np.empty_like(pred)\n",
    "\t_target = np.empty_like(target)\n",
    "\t_X_var = np.empty_like(X_var)\n",
    "\n",
    "\tplt.rcParams[\"figure.figsize\"] = (15, 5*outputdim*output_timesteps)\n",
    "\tfont = {'size':16}\n",
    "\tplt.rc('font',**font)\n",
    "\tplt.rc('legend',**{'fontsize':14})\n",
    "\n",
    "\t# Inerse scaling the data for each time step\n",
    "\tif scaling:\n",
    "\t\tfor j in  range(output_timesteps):\n",
    "\t\t\t_pred[:,j,:] = y_scaler.inverse_transform(pred[:,j,:])\n",
    "\t\t\t_target[:,j,:] = yscaler.inverse_transform(target[:,j,:])\n",
    "\t\tfor j in  range(input_timesteps):\n",
    "\t\t\t_X_var[:,j,:] = Xscaler.inverse_transform(X_var[:,j,:])     \n",
    "\n",
    "\t# attach forward slash if saveloc does not have one\n",
    "\tif not saveloc.endswith('/'):\n",
    "\t\t\tsaveloc += '/'\n",
    "\n",
    "\n",
    "\t# training output\n",
    "\tfig, axs = plt.subplots(nrows = outputdim*output_timesteps, squeeze=False)\n",
    "\tfor i in range(outputdim):\n",
    "\t\tfor j in range(output_timesteps):\n",
    "\t\t\t# plot predicted\n",
    "\t\t\taxs[i+j, 0].plot(_pred[:, j, i], 'ro-', label='Predicted'+outputdim_names[i])\n",
    "\t\t\t# plot target\n",
    "\t\t\taxs[i+j, 0].plot(_target[:, j, i], 'g*-', label='Actual'+outputdim_names[i])\n",
    "\t\t\t# plot other variables: temperature\n",
    "\t\t\taxs[i+j, 0].plot(_X_var[:, j, 0], 'b3-', label='Outside Air Temperature')\n",
    "\t\t\t# plot other variables: relative humidity\n",
    "\t\t\taxs[i+j, 0].plot(_X_var[:, j, 1], 'm4-', label='Outside Air Rel Humidity')\n",
    "\t\t\t# plot other variables: Supply Air Temperature\n",
    "\t\t\taxs[i+j, 0].plot(_X_var[:, j, 2], 'k^-', label='Supply Air Temperature')\n",
    "\t\t\t# plot other variables: flow value\n",
    "\t\t\taxs[i+j, 0].plot(_X_var[:, j, 4], 'c>-', label='Hot Water Flow Rate')\n",
    "\t\t\t# Plot Properties\n",
    "\t\t\taxs[i+j, 0].set_title('Predicted vs Actual at time = t + {} for {}'.format(-1*lag+j, outputdim_names[i]))\n",
    "\t\t\taxs[i+j, 0].set_xlabel('Time points at {} minute(s) intervals'.format(timegap))\n",
    "\t\t\taxs[i+j, 0].set_ylabel('Actual Energy')\n",
    "\t\t\taxs[i+j, 0].grid(which='both',alpha=100)\n",
    "\t\t\taxs[i+j, 0].legend()\n",
    "\t\t\taxs[i+j, 0].minorticks_on()\n",
    "\t#fig.savefig(saveloc+str(timegap)+'min_LSTM_'+typeofplot+'detailedplot-{}.pdf'.format(Idx), bbox_inches='tight')\n",
    "\t#plt.close(fig)\n",
    "\tplt.show(fig)     \n",
    "    \n",
    "            \n",
    "    \n",
    "    "
   ]
  },
  {
   "cell_type": "markdown",
   "metadata": {
    "heading_collapsed": true
   },
   "source": [
    "### Code cemetery"
   ]
  },
  {
   "cell_type": "code",
   "execution_count": 30,
   "metadata": {
    "hidden": true
   },
   "outputs": [],
   "source": [
    "# from keras.utils import plot_model\n",
    "# plot_model(nn_model.model, to_file='model.png',show_shapes=True,)"
   ]
  },
  {
   "cell_type": "code",
   "execution_count": null,
   "metadata": {
    "hidden": true
   },
   "outputs": [],
   "source": [
    "# # Check the trainable status of the individual layers\n",
    "# for layer in nn_model.model.layers:\n",
    "#     print(layer, layer.trainable, layer.name)"
   ]
  },
  {
   "cell_type": "code",
   "execution_count": null,
   "metadata": {
    "hidden": true
   },
   "outputs": [],
   "source": [
    "#model.model.summary()\n",
    "\n",
    "#nn_model.model.layers[-1].input_shape\n",
    "\n",
    "#model.model.layers[-1].kernel.initializer.run(session=K.get_session())\n",
    "#model.model.layers[-1].bias.initializer.run(session=K.get_session())\n",
    "\n",
    "#nn_model.model.layers[-1].output_shape"
   ]
  },
  {
   "cell_type": "code",
   "execution_count": 27,
   "metadata": {
    "hidden": true,
    "scrolled": true
   },
   "outputs": [
    {
     "name": "stdout",
     "output_type": "stream",
     "text": [
      "__________________________________________________________________________________________________\n",
      "Layer (type)                    Output Shape         Param #     Connected to                     \n",
      "==================================================================================================\n",
      "input_1 (InputLayer)            (None, 1, 6)         0                                            \n",
      "__________________________________________________________________________________________________\n",
      "lstm_1 (LSTM)                   (None, 1, 4)         176         input_1[0][0]                    \n",
      "__________________________________________________________________________________________________\n",
      "lstm_2 (LSTM)                   (None, 4)            144         lstm_1[0][0]                     \n",
      "__________________________________________________________________________________________________\n",
      "repeat_vector_1 (RepeatVector)  (None, 1, 4)         0           lstm_2[0][0]                     \n",
      "__________________________________________________________________________________________________\n",
      "lstm_3 (LSTM)                   (None, 1, 4)         144         repeat_vector_1[0][0]            \n",
      "__________________________________________________________________________________________________\n",
      "lstm_4 (LSTM)                   (None, 1, 4)         144         lstm_3[0][0]                     \n",
      "__________________________________________________________________________________________________\n",
      "dense_3 (Dense)                 (None, 1, 8)         40          lstm_4[0][0]                     \n",
      "__________________________________________________________________________________________________\n",
      "dense_4 (Dense)                 (None, 1, 8)         72          dense_3[0][0]                    \n",
      "__________________________________________________________________________________________________\n",
      "dense_5 (Dense)                 (None, 1, 8)         72          dense_4[0][0]                    \n",
      "__________________________________________________________________________________________________\n",
      "dense_1 (Dense)                 (None, 1, 8)         40          lstm_4[0][0]                     \n",
      "__________________________________________________________________________________________________\n",
      "dense_6 (Dense)                 (None, 1, 8)         72          dense_5[0][0]                    \n",
      "__________________________________________________________________________________________________\n",
      "dense_2 (Dense)                 (None, 1, 5)         45          dense_1[0][0]                    \n",
      "__________________________________________________________________________________________________\n",
      "dense_7 (Dense)                 (None, 1, 5)         45          dense_6[0][0]                    \n",
      "__________________________________________________________________________________________________\n",
      "lambda_1 (Lambda)               (None, 1, 1)         0           dense_2[0][0]                    \n",
      "                                                                 dense_7[0][0]                    \n",
      "==================================================================================================\n",
      "Total params: 994\n",
      "Trainable params: 994\n",
      "Non-trainable params: 0\n",
      "__________________________________________________________________________________________________\n"
     ]
    }
   ],
   "source": [
    "nn_model.model.summary()"
   ]
  },
  {
   "cell_type": "code",
   "execution_count": 28,
   "metadata": {
    "hidden": true
   },
   "outputs": [
    {
     "name": "stdout",
     "output_type": "stream",
     "text": [
      "<keras.engine.input_layer.InputLayer object at 0x7fdf40af6e48> False input_1 False\n",
      "<keras.layers.recurrent.LSTM object at 0x7fdf40ae6b00> True lstm_1 True\n",
      "<keras.layers.recurrent.LSTM object at 0x7fdf416416a0> True lstm_2 True\n",
      "<keras.layers.core.RepeatVector object at 0x7fdf40ae62e8> True repeat_vector_1 False\n",
      "<keras.layers.recurrent.LSTM object at 0x7fdf40ae6828> True lstm_3 True\n",
      "<keras.layers.recurrent.LSTM object at 0x7fe0e492b588> True lstm_4 True\n",
      "<keras.layers.core.Dense object at 0x7fdf473fe518> True dense_3 False\n",
      "<keras.layers.core.Dense object at 0x7fe0e01eb278> True dense_4 False\n",
      "<keras.layers.core.Dense object at 0x7fe0db232d30> True dense_5 False\n",
      "<keras.layers.core.Dense object at 0x7fdf40ae60f0> True dense_1 False\n",
      "<keras.layers.core.Dense object at 0x7fe0d89e6e10> True dense_6 False\n",
      "<keras.layers.core.Dense object at 0x7fe0d609b860> True dense_2 False\n",
      "<keras.layers.core.Dense object at 0x7fe0dda05898> True dense_7 False\n",
      "<keras.layers.core.Lambda object at 0x7fdf473fe748> True lambda_1 False\n"
     ]
    }
   ],
   "source": [
    "for layer in nn_model.model.layers:\n",
    "     print(layer, layer.trainable, layer.name, layer.name.startswith('lstm'))"
   ]
  },
  {
   "cell_type": "code",
   "execution_count": 33,
   "metadata": {
    "hidden": true
   },
   "outputs": [
    {
     "data": {
      "text/plain": [
       "{'input_spec': InputSpec(min_ndim=2, axes={-1: 8}),\n",
       " 'supports_masking': True,\n",
       " 'stateful': False,\n",
       " '_trainable_weights': [<tf.Variable 'dense_7/kernel:0' shape=(8, 5) dtype=float32_ref>,\n",
       "  <tf.Variable 'dense_7/bias:0' shape=(5,) dtype=float32_ref>],\n",
       " '_non_trainable_weights': [],\n",
       " '_losses': [],\n",
       " '_updates': [],\n",
       " '_per_input_losses': {},\n",
       " '_per_input_updates': {},\n",
       " '_built': True,\n",
       " '_inbound_nodes': [<keras.engine.base_layer.Node at 0x7fe0db20f470>],\n",
       " '_outbound_nodes': [<keras.engine.base_layer.Node at 0x7fe0db20f6a0>,\n",
       "  <keras.engine.base_layer.Node at 0x7fdf436c5cc0>],\n",
       " 'name': 'dense_7',\n",
       " 'trainable': True,\n",
       " '_initial_weights': None,\n",
       " 'units': 5,\n",
       " 'activation': <function keras.activations.linear(x)>,\n",
       " 'use_bias': True,\n",
       " 'kernel_initializer': <keras.initializers.VarianceScaling at 0x7fe0dda05438>,\n",
       " 'bias_initializer': <keras.initializers.Zeros at 0x7fe0d61cde10>,\n",
       " 'kernel_regularizer': None,\n",
       " 'bias_regularizer': None,\n",
       " 'activity_regularizer': None,\n",
       " 'kernel_constraint': None,\n",
       " 'bias_constraint': None,\n",
       " 'kernel': <tf.Variable 'dense_7/kernel:0' shape=(8, 5) dtype=float32_ref>,\n",
       " 'bias': <tf.Variable 'dense_7/bias:0' shape=(5,) dtype=float32_ref>}"
      ]
     },
     "execution_count": 33,
     "metadata": {},
     "output_type": "execute_result"
    }
   ],
   "source": [
    "nn_model.model.layers[-2].__dict__"
   ]
  },
  {
   "cell_type": "code",
   "execution_count": 35,
   "metadata": {
    "hidden": true
   },
   "outputs": [
    {
     "data": {
      "text/plain": [
       "{'input_spec': None,\n",
       " 'supports_masking': False,\n",
       " 'stateful': False,\n",
       " '_trainable_weights': [<tf.Variable 'lstm_4/kernel:0' shape=(4, 16) dtype=float32_ref>,\n",
       "  <tf.Variable 'lstm_4/recurrent_kernel:0' shape=(4, 16) dtype=float32_ref>,\n",
       "  <tf.Variable 'lstm_4/bias:0' shape=(16,) dtype=float32_ref>],\n",
       " '_non_trainable_weights': [],\n",
       " '_losses': [],\n",
       " '_updates': [],\n",
       " '_per_input_losses': {},\n",
       " '_per_input_updates': {},\n",
       " '_built': True,\n",
       " '_inbound_nodes': [],\n",
       " '_outbound_nodes': [],\n",
       " 'name': 'lstm_cell_4',\n",
       " 'trainable': True,\n",
       " '_initial_weights': None,\n",
       " 'units': 4,\n",
       " 'activation': <function keras.activations.tanh(x)>,\n",
       " 'recurrent_activation': <function keras.activations.hard_sigmoid(x)>,\n",
       " 'use_bias': True,\n",
       " 'kernel_initializer': <keras.initializers.VarianceScaling at 0x7fdf4736a9b0>,\n",
       " 'recurrent_initializer': <keras.initializers.Orthogonal at 0x7fe0d889e908>,\n",
       " 'bias_initializer': <keras.initializers.Zeros at 0x7fe0d889edd8>,\n",
       " 'unit_forget_bias': True,\n",
       " 'kernel_regularizer': None,\n",
       " 'recurrent_regularizer': None,\n",
       " 'bias_regularizer': None,\n",
       " 'kernel_constraint': None,\n",
       " 'recurrent_constraint': None,\n",
       " 'bias_constraint': None,\n",
       " 'dropout': 0.0,\n",
       " 'recurrent_dropout': 0.0,\n",
       " 'implementation': 1,\n",
       " 'state_size': (4, 4),\n",
       " 'output_size': 4,\n",
       " '_dropout_mask': None,\n",
       " '_recurrent_dropout_mask': None,\n",
       " 'kernel': <tf.Variable 'lstm_4/kernel:0' shape=(4, 16) dtype=float32_ref>,\n",
       " 'recurrent_kernel': <tf.Variable 'lstm_4/recurrent_kernel:0' shape=(4, 16) dtype=float32_ref>,\n",
       " 'bias': <tf.Variable 'lstm_4/bias:0' shape=(16,) dtype=float32_ref>,\n",
       " 'kernel_i': <tf.Tensor 'lstm_4/strided_slice:0' shape=(4, 4) dtype=float32>,\n",
       " 'kernel_f': <tf.Tensor 'lstm_4/strided_slice_1:0' shape=(4, 4) dtype=float32>,\n",
       " 'kernel_c': <tf.Tensor 'lstm_4/strided_slice_2:0' shape=(4, 4) dtype=float32>,\n",
       " 'kernel_o': <tf.Tensor 'lstm_4/strided_slice_3:0' shape=(4, 4) dtype=float32>,\n",
       " 'recurrent_kernel_i': <tf.Tensor 'lstm_4/strided_slice_4:0' shape=(4, 4) dtype=float32>,\n",
       " 'recurrent_kernel_f': <tf.Tensor 'lstm_4/strided_slice_5:0' shape=(4, 4) dtype=float32>,\n",
       " 'recurrent_kernel_c': <tf.Tensor 'lstm_4/strided_slice_6:0' shape=(4, 4) dtype=float32>,\n",
       " 'recurrent_kernel_o': <tf.Tensor 'lstm_4/strided_slice_7:0' shape=(4, 4) dtype=float32>,\n",
       " 'bias_i': <tf.Tensor 'lstm_4/strided_slice_8:0' shape=(4,) dtype=float32>,\n",
       " 'bias_f': <tf.Tensor 'lstm_4/strided_slice_9:0' shape=(4,) dtype=float32>,\n",
       " 'bias_c': <tf.Tensor 'lstm_4/strided_slice_10:0' shape=(4,) dtype=float32>,\n",
       " 'bias_o': <tf.Tensor 'lstm_4/strided_slice_11:0' shape=(4,) dtype=float32>}"
      ]
     },
     "execution_count": 35,
     "metadata": {},
     "output_type": "execute_result"
    }
   ],
   "source": [
    "nn_model.model.layers[-9].cell.__dict__"
   ]
  },
  {
   "cell_type": "code",
   "execution_count": null,
   "metadata": {
    "hidden": true
   },
   "outputs": [],
   "source": []
  }
 ],
 "metadata": {
  "kernelspec": {
   "display_name": "Python 3.6.9 64-bit ('sbvenv1': venv)",
   "language": "python",
   "name": "python36964bitsbvenv1venv1a534851ebbc4d609aad5dcf7b359ab5"
  },
  "language_info": {
   "codemirror_mode": {
    "name": "ipython",
    "version": 3
   },
   "file_extension": ".py",
   "mimetype": "text/x-python",
   "name": "python",
   "nbconvert_exporter": "python",
   "pygments_lexer": "ipython3",
   "version": "3.6.9"
  }
 },
 "nbformat": 4,
 "nbformat_minor": 4
}

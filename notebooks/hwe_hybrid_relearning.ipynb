{
 "cells": [
  {
   "cell_type": "markdown",
   "metadata": {},
   "source": [
    "# Modeling Hot Water Energy"
   ]
  },
  {
   "cell_type": "markdown",
   "metadata": {
    "heading_collapsed": true
   },
   "source": [
    "### Attach current folder to project directory\n",
    "### Ensure Seed for reproducability\n",
    "### Set GPU configurations"
   ]
  },
  {
   "cell_type": "code",
   "execution_count": 1,
   "metadata": {
    "hidden": true
   },
   "outputs": [],
   "source": [
    "seed_value = 123\n",
    "\n",
    "import os\n",
    "# 1. Set the `PYTHONHASHSEED` environment variable at a fixed value\n",
    "os.environ['PYTHONHASHSEED']=str(seed_value)\n",
    "\n",
    "# 2. Set the `python` built-in pseudo-random generator at a fixed value\n",
    "import random\n",
    "random.seed(seed_value)\n",
    "\n",
    "# 3. Set the `numpy` pseudo-random generator at a fixed value\n",
    "import numpy as np\n",
    "np.random.seed(seed_value)\n",
    "\n",
    "# Enable '0' or disable '-1' GPU use\n",
    "os.environ['CUDA_VISIBLE_DEVICES'] = '-1'\n",
    "\n",
    "# including the project directory to the notebook level\n",
    "import sys\n",
    "module_path = os.path.abspath(os.path.join('..'))\n",
    "if module_path not in sys.path:\n",
    "    sys.path.append(module_path)\n",
    "\n",
    "from tqdm import tqdm\n",
    "import parse\n",
    "import warnings"
   ]
  },
  {
   "cell_type": "code",
   "execution_count": 2,
   "metadata": {
    "hidden": true
   },
   "outputs": [
    {
     "name": "stderr",
     "output_type": "stream",
     "text": [
      "Using TensorFlow backend.\n"
     ]
    }
   ],
   "source": [
    "with warnings.catch_warnings():\n",
    "    warnings.filterwarnings(\"ignore\", category=FutureWarning)\n",
    "    \n",
    "    # 4. Set the `tensorflow` pseudo-random generator at a fixed value\n",
    "    import tensorflow as tf\n",
    "    #tf.random.set_seed(seed_value)\n",
    "    # for later versions: \n",
    "    tf.compat.v1.set_random_seed(seed_value)\n",
    "    config = tf.ConfigProto(log_device_placement=False)\n",
    "    config.gpu_options.allow_growth = True\n",
    "    session = tf.Session(config=config)\n",
    "    \n",
    "    from keras import backend as K\n",
    "    from nn_source import models as mp\n",
    "\n",
    "from dataprocess import dataprocessor as dp\n",
    "from dataprocess import plotutils as pu"
   ]
  },
  {
   "cell_type": "code",
   "execution_count": 3,
   "metadata": {
    "hidden": true
   },
   "outputs": [],
   "source": [
    "# %load_ext tensorboard\n",
    "# %tensorboard --logdir '../results/lstm_hwe_trial1/loginfo/' --port 8200"
   ]
  },
  {
   "cell_type": "markdown",
   "metadata": {
    "heading_collapsed": true
   },
   "source": [
    "### Select the period at which we perform experiments"
   ]
  },
  {
   "cell_type": "code",
   "execution_count": 3,
   "metadata": {
    "hidden": true
   },
   "outputs": [],
   "source": [
    "period = 6  # the period to sample the data at. 1 period= 5 minutes"
   ]
  },
  {
   "cell_type": "markdown",
   "metadata": {},
   "source": [
    "### Read the cleaned data"
   ]
  },
  {
   "cell_type": "code",
   "execution_count": 4,
   "metadata": {},
   "outputs": [
    {
     "data": {
      "text/html": [
       "<div>\n",
       "<style scoped>\n",
       "    .dataframe tbody tr th:only-of-type {\n",
       "        vertical-align: middle;\n",
       "    }\n",
       "\n",
       "    .dataframe tbody tr th {\n",
       "        vertical-align: top;\n",
       "    }\n",
       "\n",
       "    .dataframe thead th {\n",
       "        text-align: right;\n",
       "    }\n",
       "</style>\n",
       "<table border=\"1\" class=\"dataframe\">\n",
       "  <thead>\n",
       "    <tr style=\"text-align: right;\">\n",
       "      <th></th>\n",
       "      <th>oat</th>\n",
       "      <th>sat</th>\n",
       "      <th>orh</th>\n",
       "      <th>hwe</th>\n",
       "      <th>cwe</th>\n",
       "      <th>ghi</th>\n",
       "      <th>avg_stpt</th>\n",
       "      <th>flow</th>\n",
       "      <th>hw_sf</th>\n",
       "      <th>hw_st</th>\n",
       "      <th>hw_rt</th>\n",
       "    </tr>\n",
       "  </thead>\n",
       "  <tbody>\n",
       "    <tr>\n",
       "      <th>2018-11-16 10:05:00</th>\n",
       "      <td>31.090181</td>\n",
       "      <td>73.392624</td>\n",
       "      <td>85.0</td>\n",
       "      <td>12.266188</td>\n",
       "      <td>0.0</td>\n",
       "      <td>524.0</td>\n",
       "      <td>72.438095</td>\n",
       "      <td>0.004395</td>\n",
       "      <td>6.715617</td>\n",
       "      <td>107.05994</td>\n",
       "      <td>98.22113</td>\n",
       "    </tr>\n",
       "    <tr>\n",
       "      <th>2018-11-16 10:10:00</th>\n",
       "      <td>31.090181</td>\n",
       "      <td>72.792236</td>\n",
       "      <td>85.0</td>\n",
       "      <td>11.701546</td>\n",
       "      <td>0.0</td>\n",
       "      <td>530.0</td>\n",
       "      <td>72.438095</td>\n",
       "      <td>0.002403</td>\n",
       "      <td>6.831125</td>\n",
       "      <td>114.65901</td>\n",
       "      <td>100.06567</td>\n",
       "    </tr>\n",
       "    <tr>\n",
       "      <th>2018-11-16 10:15:00</th>\n",
       "      <td>31.090181</td>\n",
       "      <td>72.495117</td>\n",
       "      <td>85.0</td>\n",
       "      <td>11.578586</td>\n",
       "      <td>0.0</td>\n",
       "      <td>537.0</td>\n",
       "      <td>72.438095</td>\n",
       "      <td>0.004492</td>\n",
       "      <td>8.241195</td>\n",
       "      <td>117.93087</td>\n",
       "      <td>98.33179</td>\n",
       "    </tr>\n",
       "    <tr>\n",
       "      <th>2018-11-16 10:20:00</th>\n",
       "      <td>31.090181</td>\n",
       "      <td>72.495117</td>\n",
       "      <td>85.0</td>\n",
       "      <td>11.693608</td>\n",
       "      <td>0.0</td>\n",
       "      <td>543.0</td>\n",
       "      <td>72.438095</td>\n",
       "      <td>0.003086</td>\n",
       "      <td>9.518204</td>\n",
       "      <td>112.28122</td>\n",
       "      <td>95.43451</td>\n",
       "    </tr>\n",
       "    <tr>\n",
       "      <th>2018-11-16 10:25:00</th>\n",
       "      <td>31.090181</td>\n",
       "      <td>72.495117</td>\n",
       "      <td>85.0</td>\n",
       "      <td>11.269130</td>\n",
       "      <td>0.0</td>\n",
       "      <td>549.0</td>\n",
       "      <td>72.438095</td>\n",
       "      <td>0.006318</td>\n",
       "      <td>9.752769</td>\n",
       "      <td>109.42430</td>\n",
       "      <td>92.90832</td>\n",
       "    </tr>\n",
       "  </tbody>\n",
       "</table>\n",
       "</div>"
      ],
      "text/plain": [
       "                           oat        sat   orh        hwe  cwe    ghi  \\\n",
       "2018-11-16 10:05:00  31.090181  73.392624  85.0  12.266188  0.0  524.0   \n",
       "2018-11-16 10:10:00  31.090181  72.792236  85.0  11.701546  0.0  530.0   \n",
       "2018-11-16 10:15:00  31.090181  72.495117  85.0  11.578586  0.0  537.0   \n",
       "2018-11-16 10:20:00  31.090181  72.495117  85.0  11.693608  0.0  543.0   \n",
       "2018-11-16 10:25:00  31.090181  72.495117  85.0  11.269130  0.0  549.0   \n",
       "\n",
       "                      avg_stpt      flow     hw_sf      hw_st      hw_rt  \n",
       "2018-11-16 10:05:00  72.438095  0.004395  6.715617  107.05994   98.22113  \n",
       "2018-11-16 10:10:00  72.438095  0.002403  6.831125  114.65901  100.06567  \n",
       "2018-11-16 10:15:00  72.438095  0.004492  8.241195  117.93087   98.33179  \n",
       "2018-11-16 10:20:00  72.438095  0.003086  9.518204  112.28122   95.43451  \n",
       "2018-11-16 10:25:00  72.438095  0.006318  9.752769  109.42430   92.90832  "
      ]
     },
     "execution_count": 4,
     "metadata": {},
     "output_type": "execute_result"
    }
   ],
   "source": [
    "# read the pickled file for ahu data\n",
    "dfdata = dp.readfile('../data/processed/buildingdata.pkl')\n",
    "\n",
    "# return pickled df\n",
    "df = dfdata.return_df(processmethods=['file2df'])\n",
    "\n",
    "df.head()"
   ]
  },
  {
   "cell_type": "code",
   "execution_count": 13,
   "metadata": {
    "scrolled": false
   },
   "outputs": [
    {
     "name": "stdout",
     "output_type": "stream",
     "text": [
      "Finished 'dataframeplot' in 0.0336 secs\n"
     ]
    },
    {
     "data": {
      "image/png": "[encoded data removed]",
      "text/plain": [
       "<Figure size 1440x504 with 1 Axes>"
      ]
     },
     "metadata": {
      "needs_background": "light"
     },
     "output_type": "display_data"
    }
   ],
   "source": [
    "#%matplotlib notebook\n",
    "dp.dataframeplot(df=df.loc[df.index[:1000], ['hwe','hw_sf']],\n",
    "                lazy=True,\n",
    "                legend=True,\n",
    "                style='+-')"
   ]
  },
  {
   "cell_type": "code",
   "execution_count": 5,
   "metadata": {},
   "outputs": [],
   "source": [
    "import matplotlib.pyplot as plt\n",
    "import numpy as np\n",
    "\n",
    "def crosscorr(datax, datay, lag=0, wrap=False):\n",
    "    \"\"\" Lag-N cross correlation. \n",
    "    Shifted data filled with NaNs \n",
    "    \n",
    "    Parameters\n",
    "    ----------\n",
    "    lag : int, default 0\n",
    "    datax, datay : pandas.Series objects of equal length\n",
    "    Returns\n",
    "    ----------\n",
    "    crosscorr : float\n",
    "    \"\"\"\n",
    "    if wrap:\n",
    "        shiftedy = datay.shift(lag)\n",
    "        shiftedy.iloc[:lag] = datay.iloc[-lag:].values\n",
    "        return datax.corr(shiftedy)\n",
    "    else: \n",
    "        return datax.corr(datay.shift(lag))"
   ]
  },
  {
   "cell_type": "code",
   "execution_count": 11,
   "metadata": {},
   "outputs": [
    {
     "data": {
      "text/plain": [
       "<matplotlib.legend.Legend at 0x7fd56fd191d0>"
      ]
     },
     "execution_count": 11,
     "metadata": {},
     "output_type": "execute_result"
    },
    {
     "data": {
      "image/png": "[encoded data removed]",
      "text/plain": [
       "<Figure size 720x360 with 1 Axes>"
      ]
     },
     "metadata": {
      "needs_background": "light"
     },
     "output_type": "display_data"
    }
   ],
   "source": [
    "d1 = df['hwe']\n",
    "d2 = df['hw_sf']\n",
    "seconds = 200\n",
    "fps = 1 # 1 unit = 5 mins\n",
    "rs = [crosscorr(d1,d2, lag) for lag in range(-int(seconds*fps),int(seconds*fps+1))]\n",
    "offset = np.ceil(len(rs)/2)-np.argmax(rs)\n",
    "f,ax=plt.subplots(figsize=(10,5))\n",
    "ax.plot(rs)\n",
    "ax.axvline(np.ceil(len(rs)/2),color='k',linestyle='--',label='Center')\n",
    "ax.axvline(np.argmax(rs),color='r',linestyle='--',label='Max Corr')\n",
    "ax.axvline(np.argmin(rs),color='g',linestyle='--',label='Min Corr')\n",
    "ax.set(title=f'Offset = {offset} frames\\nS1 leads <> S2 leads',xlabel='Offset',ylabel='Pearson r')\n",
    "ax.set_xticks(np.arange(0,2*int((seconds+1)*fps), seconds/2))\n",
    "ax.set_xticklabels(np.arange(-int(seconds*fps),int((seconds+1)*fps),seconds/2), rotation=90);\n",
    "plt.legend()\n",
    "\n",
    "# https://towardsdatascience.com/four-ways-to-quantify-synchrony-between-time-series-data-b99136c4a9c9"
   ]
  },
  {
   "cell_type": "markdown",
   "metadata": {
    "heading_collapsed": true
   },
   "source": [
    "### Since this implies that Hot water flow leads the Hot Water Energy by approximately 60 frames or approximately 5 hours. We will use the flow as an indicator of the hybrid mode changes in the energy prediction problem. \n",
    "\n",
    "### Next steps:\n",
    "1. Shift the hot water energy upwards/move back in time by 59 units.\n",
    "2. Shift the energy by one more unit for the final prediction. \n",
    "3. For training: We break the data into batches separated by 0 energy determined by hot water flow\n",
    "4. For testing:\n",
    "\n",
    "    a. Either we do online testing where we utilize the current flow information to decide to predict or not.\n",
    "    \n",
    "    b. Again create batches of data based on the flow information and predict only in those batches."
   ]
  },
  {
   "cell_type": "markdown",
   "metadata": {},
   "source": [
    "### Sum half hour energy data"
   ]
  },
  {
   "cell_type": "code",
   "execution_count": 69,
   "metadata": {},
   "outputs": [
    {
     "data": {
      "text/html": [
       "<div>\n",
       "<style scoped>\n",
       "    .dataframe tbody tr th:only-of-type {\n",
       "        vertical-align: middle;\n",
       "    }\n",
       "\n",
       "    .dataframe tbody tr th {\n",
       "        vertical-align: top;\n",
       "    }\n",
       "\n",
       "    .dataframe thead th {\n",
       "        text-align: right;\n",
       "    }\n",
       "</style>\n",
       "<table border=\"1\" class=\"dataframe\">\n",
       "  <thead>\n",
       "    <tr style=\"text-align: right;\">\n",
       "      <th></th>\n",
       "      <th>oat</th>\n",
       "      <th>sat</th>\n",
       "      <th>orh</th>\n",
       "      <th>hwe</th>\n",
       "      <th>cwe</th>\n",
       "      <th>ghi</th>\n",
       "      <th>avg_stpt</th>\n",
       "      <th>flow</th>\n",
       "      <th>hw_sf</th>\n",
       "      <th>hw_st</th>\n",
       "      <th>hw_rt</th>\n",
       "      <th>30min_hwe</th>\n",
       "    </tr>\n",
       "  </thead>\n",
       "  <tbody>\n",
       "    <tr>\n",
       "      <th>2018-11-16 10:30:00</th>\n",
       "      <td>31.090181</td>\n",
       "      <td>72.197220</td>\n",
       "      <td>85.0</td>\n",
       "      <td>10.762690</td>\n",
       "      <td>1.567676</td>\n",
       "      <td>555.0</td>\n",
       "      <td>72.438095</td>\n",
       "      <td>0.002307</td>\n",
       "      <td>9.412869</td>\n",
       "      <td>114.48685</td>\n",
       "      <td>93.302300</td>\n",
       "      <td>69.271747</td>\n",
       "    </tr>\n",
       "    <tr>\n",
       "      <th>2018-11-16 10:35:00</th>\n",
       "      <td>31.090181</td>\n",
       "      <td>72.197220</td>\n",
       "      <td>85.0</td>\n",
       "      <td>10.564563</td>\n",
       "      <td>19.244667</td>\n",
       "      <td>561.0</td>\n",
       "      <td>72.438095</td>\n",
       "      <td>0.002314</td>\n",
       "      <td>9.568605</td>\n",
       "      <td>117.11233</td>\n",
       "      <td>96.343720</td>\n",
       "      <td>67.570122</td>\n",
       "    </tr>\n",
       "    <tr>\n",
       "      <th>2018-11-16 10:45:00</th>\n",
       "      <td>31.090181</td>\n",
       "      <td>72.197220</td>\n",
       "      <td>85.0</td>\n",
       "      <td>10.697302</td>\n",
       "      <td>23.290321</td>\n",
       "      <td>573.0</td>\n",
       "      <td>72.400000</td>\n",
       "      <td>0.006438</td>\n",
       "      <td>8.650812</td>\n",
       "      <td>113.07264</td>\n",
       "      <td>94.614395</td>\n",
       "      <td>66.565878</td>\n",
       "    </tr>\n",
       "    <tr>\n",
       "      <th>2018-11-16 10:50:00</th>\n",
       "      <td>31.090181</td>\n",
       "      <td>71.896065</td>\n",
       "      <td>85.0</td>\n",
       "      <td>11.076882</td>\n",
       "      <td>16.465296</td>\n",
       "      <td>579.0</td>\n",
       "      <td>72.400000</td>\n",
       "      <td>0.007606</td>\n",
       "      <td>8.232664</td>\n",
       "      <td>114.02831</td>\n",
       "      <td>95.410160</td>\n",
       "      <td>66.064175</td>\n",
       "    </tr>\n",
       "    <tr>\n",
       "      <th>2018-11-16 10:55:00</th>\n",
       "      <td>31.090181</td>\n",
       "      <td>71.596306</td>\n",
       "      <td>89.0</td>\n",
       "      <td>11.479505</td>\n",
       "      <td>5.206500</td>\n",
       "      <td>589.0</td>\n",
       "      <td>72.438095</td>\n",
       "      <td>0.010025</td>\n",
       "      <td>8.469596</td>\n",
       "      <td>115.26057</td>\n",
       "      <td>96.472720</td>\n",
       "      <td>65.850071</td>\n",
       "    </tr>\n",
       "  </tbody>\n",
       "</table>\n",
       "</div>"
      ],
      "text/plain": [
       "                           oat        sat   orh        hwe        cwe    ghi  \\\n",
       "2018-11-16 10:30:00  31.090181  72.197220  85.0  10.762690   1.567676  555.0   \n",
       "2018-11-16 10:35:00  31.090181  72.197220  85.0  10.564563  19.244667  561.0   \n",
       "2018-11-16 10:45:00  31.090181  72.197220  85.0  10.697302  23.290321  573.0   \n",
       "2018-11-16 10:50:00  31.090181  71.896065  85.0  11.076882  16.465296  579.0   \n",
       "2018-11-16 10:55:00  31.090181  71.596306  89.0  11.479505   5.206500  589.0   \n",
       "\n",
       "                      avg_stpt      flow     hw_sf      hw_st      hw_rt  \\\n",
       "2018-11-16 10:30:00  72.438095  0.002307  9.412869  114.48685  93.302300   \n",
       "2018-11-16 10:35:00  72.438095  0.002314  9.568605  117.11233  96.343720   \n",
       "2018-11-16 10:45:00  72.400000  0.006438  8.650812  113.07264  94.614395   \n",
       "2018-11-16 10:50:00  72.400000  0.007606  8.232664  114.02831  95.410160   \n",
       "2018-11-16 10:55:00  72.438095  0.010025  8.469596  115.26057  96.472720   \n",
       "\n",
       "                     30min_hwe  \n",
       "2018-11-16 10:30:00  69.271747  \n",
       "2018-11-16 10:35:00  67.570122  \n",
       "2018-11-16 10:45:00  66.565878  \n",
       "2018-11-16 10:50:00  66.064175  \n",
       "2018-11-16 10:55:00  65.850071  "
      ]
     },
     "execution_count": 69,
     "metadata": {},
     "output_type": "execute_result"
    }
   ],
   "source": [
    "# return a new column which is the sum of previous window_size values\n",
    "def windowsum(df, window_size: int, column_name: str):\n",
    "    return df[[column_name]].rolling(window=window_size, min_periods=window_size).sum()\n",
    "\n",
    "df['30min_hwe'] = windowsum(df,window_size=period, column_name='hwe')\n",
    "df = dp.dropNaNrows(df)\n",
    "\n",
    "df.head()"
   ]
  },
  {
   "cell_type": "markdown",
   "metadata": {
    "heading_collapsed": true
   },
   "source": [
    "### Smooth the data "
   ]
  },
  {
   "cell_type": "code",
   "execution_count": 6,
   "metadata": {
    "hidden": true
   },
   "outputs": [],
   "source": [
    "# Smoothing the data\n",
    "# Filter requirements.\n",
    "order = 5\n",
    "T = 300  # sampling_period in seconds\n",
    "fs = 1 / 300  # sample rate, Hz\n",
    "cutoff = 0.0001  # desired cutoff frequency of the filter, Hz\n",
    "\n",
    "df_smoothed = dp.dfsmoothing(df=df,\n",
    "                             column_names=list(df.columns),\n",
    "                             order=order,\n",
    "                             Wn=cutoff,\n",
    "                             T=T)"
   ]
  },
  {
   "cell_type": "markdown",
   "metadata": {
    "heading_collapsed": true
   },
   "source": [
    "### Sample data at half hour"
   ]
  },
  {
   "cell_type": "code",
   "execution_count": 7,
   "metadata": {
    "hidden": true
   },
   "outputs": [
    {
     "data": {
      "text/html": [
       "<div>\n",
       "<style scoped>\n",
       "    .dataframe tbody tr th:only-of-type {\n",
       "        vertical-align: middle;\n",
       "    }\n",
       "\n",
       "    .dataframe tbody tr th {\n",
       "        vertical-align: top;\n",
       "    }\n",
       "\n",
       "    .dataframe thead th {\n",
       "        text-align: right;\n",
       "    }\n",
       "</style>\n",
       "<table border=\"1\" class=\"dataframe\">\n",
       "  <thead>\n",
       "    <tr style=\"text-align: right;\">\n",
       "      <th></th>\n",
       "      <th>oat</th>\n",
       "      <th>sat</th>\n",
       "      <th>orh</th>\n",
       "      <th>hwe</th>\n",
       "      <th>cwe</th>\n",
       "      <th>ghi</th>\n",
       "      <th>avg_stpt</th>\n",
       "      <th>flow</th>\n",
       "      <th>hw_sf</th>\n",
       "      <th>hw_st</th>\n",
       "      <th>hw_rt</th>\n",
       "      <th>30min_hwe</th>\n",
       "    </tr>\n",
       "  </thead>\n",
       "  <tbody>\n",
       "    <tr>\n",
       "      <th>2018-11-16 10:30:00</th>\n",
       "      <td>30.993272</td>\n",
       "      <td>72.150486</td>\n",
       "      <td>84.717147</td>\n",
       "      <td>10.259725</td>\n",
       "      <td>1.567559</td>\n",
       "      <td>560.337060</td>\n",
       "      <td>72.428025</td>\n",
       "      <td>-0.019260</td>\n",
       "      <td>9.423610</td>\n",
       "      <td>114.563037</td>\n",
       "      <td>92.970058</td>\n",
       "      <td>67.252497</td>\n",
       "    </tr>\n",
       "    <tr>\n",
       "      <th>2018-11-16 11:00:00</th>\n",
       "      <td>30.889967</td>\n",
       "      <td>71.491976</td>\n",
       "      <td>86.906144</td>\n",
       "      <td>10.717770</td>\n",
       "      <td>1.628633</td>\n",
       "      <td>595.256072</td>\n",
       "      <td>72.429389</td>\n",
       "      <td>-0.077976</td>\n",
       "      <td>8.985507</td>\n",
       "      <td>112.734029</td>\n",
       "      <td>92.385405</td>\n",
       "      <td>65.518758</td>\n",
       "    </tr>\n",
       "    <tr>\n",
       "      <th>2018-11-16 11:30:00</th>\n",
       "      <td>31.029884</td>\n",
       "      <td>71.140593</td>\n",
       "      <td>88.827702</td>\n",
       "      <td>11.719749</td>\n",
       "      <td>1.369406</td>\n",
       "      <td>610.780989</td>\n",
       "      <td>72.443166</td>\n",
       "      <td>-0.092517</td>\n",
       "      <td>7.725145</td>\n",
       "      <td>110.744792</td>\n",
       "      <td>91.701689</td>\n",
       "      <td>67.373714</td>\n",
       "    </tr>\n",
       "    <tr>\n",
       "      <th>2018-11-16 12:00:00</th>\n",
       "      <td>32.014107</td>\n",
       "      <td>71.464986</td>\n",
       "      <td>90.182589</td>\n",
       "      <td>13.376567</td>\n",
       "      <td>0.665984</td>\n",
       "      <td>583.547763</td>\n",
       "      <td>72.468773</td>\n",
       "      <td>0.017836</td>\n",
       "      <td>4.889709</td>\n",
       "      <td>108.046403</td>\n",
       "      <td>91.075094</td>\n",
       "      <td>75.193039</td>\n",
       "    </tr>\n",
       "    <tr>\n",
       "      <th>2018-11-16 12:30:00</th>\n",
       "      <td>34.152125</td>\n",
       "      <td>72.431938</td>\n",
       "      <td>89.892601</td>\n",
       "      <td>14.394451</td>\n",
       "      <td>-0.000064</td>\n",
       "      <td>505.321631</td>\n",
       "      <td>72.478809</td>\n",
       "      <td>0.216811</td>\n",
       "      <td>1.718718</td>\n",
       "      <td>105.323471</td>\n",
       "      <td>91.328901</td>\n",
       "      <td>83.948465</td>\n",
       "    </tr>\n",
       "  </tbody>\n",
       "</table>\n",
       "</div>"
      ],
      "text/plain": [
       "                           oat        sat        orh        hwe       cwe  \\\n",
       "2018-11-16 10:30:00  30.993272  72.150486  84.717147  10.259725  1.567559   \n",
       "2018-11-16 11:00:00  30.889967  71.491976  86.906144  10.717770  1.628633   \n",
       "2018-11-16 11:30:00  31.029884  71.140593  88.827702  11.719749  1.369406   \n",
       "2018-11-16 12:00:00  32.014107  71.464986  90.182589  13.376567  0.665984   \n",
       "2018-11-16 12:30:00  34.152125  72.431938  89.892601  14.394451 -0.000064   \n",
       "\n",
       "                            ghi   avg_stpt      flow     hw_sf       hw_st  \\\n",
       "2018-11-16 10:30:00  560.337060  72.428025 -0.019260  9.423610  114.563037   \n",
       "2018-11-16 11:00:00  595.256072  72.429389 -0.077976  8.985507  112.734029   \n",
       "2018-11-16 11:30:00  610.780989  72.443166 -0.092517  7.725145  110.744792   \n",
       "2018-11-16 12:00:00  583.547763  72.468773  0.017836  4.889709  108.046403   \n",
       "2018-11-16 12:30:00  505.321631  72.478809  0.216811  1.718718  105.323471   \n",
       "\n",
       "                         hw_rt  30min_hwe  \n",
       "2018-11-16 10:30:00  92.970058  67.252497  \n",
       "2018-11-16 11:00:00  92.385405  65.518758  \n",
       "2018-11-16 11:30:00  91.701689  67.373714  \n",
       "2018-11-16 12:00:00  91.075094  75.193039  \n",
       "2018-11-16 12:30:00  91.328901  83.948465  "
      ]
     },
     "execution_count": 7,
     "metadata": {},
     "output_type": "execute_result"
    }
   ],
   "source": [
    "# Sample the data at half hour intervals\n",
    "df_smoothed = dp.sample_timeseries_df(df_smoothed, period=period)\n",
    "df_smoothed.head()"
   ]
  },
  {
   "cell_type": "markdown",
   "metadata": {
    "heading_collapsed": true
   },
   "source": [
    "### Create 7 day chunks of data"
   ]
  },
  {
   "cell_type": "code",
   "execution_count": 8,
   "metadata": {
    "hidden": true
   },
   "outputs": [
    {
     "name": "stdout",
     "output_type": "stream",
     "text": [
      "Length of dflist: 61\n"
     ]
    }
   ],
   "source": [
    "# Creating a list of 7 day dataframes for training\n",
    "dflist = dp.df2dflist_alt(df_smoothed[['oat', 'orh', 'sat', 'ghi', 'hw_sf', '30min_hwe', 'hw_st']],\n",
    "                      subsequence=True,\n",
    "                      period=period,\n",
    "                      days=7,\n",
    "                      hours=0)\n",
    "print('Length of dflist: {}'.format(len(dflist)))"
   ]
  },
  {
   "cell_type": "markdown",
   "metadata": {
    "heading_collapsed": true
   },
   "source": [
    "### Custom way to create Training Data; Choose inputs, outputs, lags, train-test splits etc"
   ]
  },
  {
   "cell_type": "code",
   "execution_count": 45,
   "metadata": {
    "hidden": true,
    "hide_input": false,
    "scrolled": true
   },
   "outputs": [],
   "source": [
    "data_weeks = 52 # Create a large initial block 6 months ~ 26 weeks of training and testing data\n",
    "splitvalue =  (data_weeks-1)/data_weeks  # One week for training\n",
    "weeklist = []  # create list of training, testing arrays\n",
    "inputcols = ['oat','orh', 'sat', 'ghi', 'hw_sf', 'hw_st']  # input data\n",
    "outputcols = ['30min_hwe']  # output data\n",
    "lag = -1  # predict next time step energy\n",
    "\n",
    "from pandas import concat\n",
    "def quickmerge(listdf):\n",
    "    return concat(listdf)"
   ]
  },
  {
   "cell_type": "markdown",
   "metadata": {
    "heading_collapsed": true
   },
   "source": [
    "### Initial Data Block for offline training"
   ]
  },
  {
   "cell_type": "code",
   "execution_count": 46,
   "metadata": {
    "hidden": true
   },
   "outputs": [],
   "source": [
    "datablock = dflist[:data_weeks]\n",
    "datablock_df = quickmerge(datablock)\n",
    "\n",
    "X_train, X_test, y_train, y_test, X_scaler, y_scaler = dp.df2arrays(\n",
    "        datablock_df,\n",
    "        predictorcols=inputcols,\n",
    "        outputcols=outputcols,\n",
    "        scaling=True,\n",
    "        feature_range=(0,1),\n",
    "        reshaping=True,\n",
    "        lag=lag,\n",
    "        split=splitvalue\n",
    "    )\n",
    "weeklist.append({\n",
    "        'Id':'Year-{}-Week-{}'.format(str(datablock_df.index[0].year), \n",
    "                                      str(datablock_df.index[0].week)),\n",
    "        'X_train':X_train,\n",
    "        'y_train': y_train,\n",
    "        'X_test': X_test,\n",
    "        'y_test': y_test,\n",
    "        'y_scaler':y_scaler\n",
    "    })"
   ]
  },
  {
   "cell_type": "markdown",
   "metadata": {
    "heading_collapsed": true
   },
   "source": [
    "### Create small blocks of data for weekly training"
   ]
  },
  {
   "cell_type": "code",
   "execution_count": 47,
   "metadata": {
    "hidden": true
   },
   "outputs": [
    {
     "name": "stdout",
     "output_type": "stream",
     "text": [
      "Length of weeklist: 10\n"
     ]
    }
   ],
   "source": [
    "for weekdata in dflist[data_weeks:]:\n",
    "    \n",
    "    datablock = datablock[1:]+[weekdata]# remove 1st of data from initial_datablock\n",
    "    datablock_df = quickmerge(datablock)\n",
    "    # and add new week data from weekdata\n",
    "    \n",
    "    X_train, X_test, y_train, y_test, X_scaler, y_scaler = dp.df2arrays(\n",
    "        datablock_df,\n",
    "        predictorcols=inputcols,\n",
    "        outputcols=outputcols,\n",
    "        scaling=True,\n",
    "        feature_range=(0,1),\n",
    "        reshaping=True,\n",
    "        lag=lag,\n",
    "        split=splitvalue\n",
    "    )\n",
    "    weeklist.append({\n",
    "        'Id':'Year-{}-Week-{}'.format(str(datablock_df.index[-1].year), \n",
    "                                      str(datablock_df.index[-1].week)),\n",
    "        'X_train':X_train,\n",
    "        'y_train': y_train,\n",
    "        'X_test': X_test,\n",
    "        'y_test': y_test,\n",
    "        'y_scaler':y_scaler\n",
    "    })\n",
    "\n",
    "print('Length of weeklist: {}'.format(len(weeklist)))"
   ]
  },
  {
   "cell_type": "markdown",
   "metadata": {
    "heading_collapsed": true
   },
   "source": [
    "### Print size and shape of data to feed to the LSTM for sanity checks"
   ]
  },
  {
   "cell_type": "code",
   "execution_count": null,
   "metadata": {
    "hidden": true,
    "scrolled": true
   },
   "outputs": [],
   "source": [
    "for week in weeklist:\n",
    "    for key,value in week.items():\n",
    "        if key != 'y_scaler':\n",
    "            print(\"name: {}, value: {}\".format(key, value.shape if not isinstance(value,str) else value))"
   ]
  },
  {
   "cell_type": "markdown",
   "metadata": {
    "heading_collapsed": true,
    "hide_input": false
   },
   "source": [
    "### Create Folder to save models and tensorboard logs"
   ]
  },
  {
   "cell_type": "code",
   "execution_count": 52,
   "metadata": {
    "hidden": true
   },
   "outputs": [],
   "source": [
    "path = '../results/lstm_hwe_trial2/'\n",
    "!rm -rf ../results/lstm_hwe_trial2\n",
    "\n",
    "# create the results directory\n",
    "try:\n",
    "    os.mkdir(path)\n",
    "except FileExistsError:\n",
    "    files = os.listdir(path)\n",
    "    for f in files:\n",
    "        os.remove(path + f)\n",
    "        \n",
    "os.mkdir(path + 'loginfo')"
   ]
  },
  {
   "cell_type": "markdown",
   "metadata": {
    "heading_collapsed": true
   },
   "source": [
    "### Clear the Tensorflow graph from previous training"
   ]
  },
  {
   "cell_type": "code",
   "execution_count": 53,
   "metadata": {
    "hidden": true
   },
   "outputs": [],
   "source": [
    "try:\n",
    "    del model\n",
    "except NameError:\n",
    "    pass\n",
    "\n",
    "K.clear_session()"
   ]
  },
  {
   "cell_type": "markdown",
   "metadata": {
    "heading_collapsed": true
   },
   "source": [
    "### Configure the LSTM model architecture"
   ]
  },
  {
   "cell_type": "code",
   "execution_count": 54,
   "metadata": {
    "hidden": true
   },
   "outputs": [],
   "source": [
    "modelconfig = {\n",
    "    'weeklist': weeklist,\n",
    "    'lstm_hidden_units': 4,\n",
    "    'lstm_no_layers': 2,\n",
    "    'dense_hidden_units':8,\n",
    "    'dense_no_layers': 4,\n",
    "    'train_epochs':5000,\n",
    "    'retrain_from_layers':2\n",
    "}"
   ]
  },
  {
   "cell_type": "markdown",
   "metadata": {
    "heading_collapsed": true
   },
   "source": [
    "### Start the week by week training procedure"
   ]
  },
  {
   "cell_type": "code",
   "execution_count": 55,
   "metadata": {
    "hidden": true,
    "scrolled": true
   },
   "outputs": [
    {
     "name": "stderr",
     "output_type": "stream",
     "text": [
      "\r",
      "  0%|          | 0/10 [00:00<?, ?it/s]"
     ]
    },
    {
     "name": "stdout",
     "output_type": "stream",
     "text": [
      "Train on 14995 samples, validate on 295 samples\n",
      "Epoch 1/5000\n",
      " - 5s - loss: 0.0337 - val_loss: 0.1436\n",
      "Epoch 2/5000\n",
      " - 3s - loss: 0.0298 - val_loss: 0.1381\n",
      "Epoch 3/5000\n",
      " - 3s - loss: 0.0276 - val_loss: 0.1261\n",
      "Epoch 4/5000\n",
      " - 3s - loss: 0.0221 - val_loss: 0.0783\n",
      "Epoch 5/5000\n",
      " - 3s - loss: 0.0169 - val_loss: 0.0572\n",
      "Epoch 6/5000\n",
      " - 3s - loss: 0.0159 - val_loss: 0.0493\n",
      "Epoch 7/5000\n",
      " - 3s - loss: 0.0153 - val_loss: 0.0444\n",
      "Epoch 8/5000\n",
      " - 3s - loss: 0.0150 - val_loss: 0.0412\n",
      "Epoch 9/5000\n",
      " - 3s - loss: 0.0147 - val_loss: 0.0390\n",
      "Epoch 10/5000\n",
      " - 3s - loss: 0.0146 - val_loss: 0.0372\n",
      "Epoch 11/5000\n",
      " - 3s - loss: 0.0144 - val_loss: 0.0357\n",
      "Epoch 12/5000\n",
      " - 3s - loss: 0.0143 - val_loss: 0.0343\n",
      "Epoch 13/5000\n",
      " - 3s - loss: 0.0141 - val_loss: 0.0332\n",
      "Epoch 14/5000\n",
      " - 3s - loss: 0.0140 - val_loss: 0.0323\n",
      "Epoch 15/5000\n",
      " - 3s - loss: 0.0139 - val_loss: 0.0315\n",
      "Epoch 16/5000\n",
      " - 3s - loss: 0.0138 - val_loss: 0.0307\n",
      "Epoch 17/5000\n",
      " - 3s - loss: 0.0137 - val_loss: 0.0300\n",
      "Epoch 18/5000\n",
      " - 3s - loss: 0.0136 - val_loss: 0.0294\n",
      "Epoch 19/5000\n",
      " - 3s - loss: 0.0135 - val_loss: 0.0288\n",
      "Epoch 20/5000\n",
      " - 3s - loss: 0.0134 - val_loss: 0.0282\n",
      "Epoch 21/5000\n",
      " - 3s - loss: 0.0133 - val_loss: 0.0278\n",
      "Epoch 22/5000\n",
      " - 3s - loss: 0.0132 - val_loss: 0.0274\n",
      "Epoch 23/5000\n",
      " - 3s - loss: 0.0132 - val_loss: 0.0267\n",
      "Epoch 24/5000\n",
      " - 3s - loss: 0.0131 - val_loss: 0.0261\n",
      "Epoch 25/5000\n",
      " - 3s - loss: 0.0129 - val_loss: 0.0259\n",
      "Epoch 26/5000\n",
      " - 3s - loss: 0.0129 - val_loss: 0.0254\n",
      "Epoch 27/5000\n",
      " - 3s - loss: 0.0128 - val_loss: 0.0248\n",
      "Epoch 28/5000\n",
      " - 3s - loss: 0.0127 - val_loss: 0.0248\n",
      "Epoch 29/5000\n",
      " - 3s - loss: 0.0126 - val_loss: 0.0242\n",
      "Epoch 30/5000\n",
      " - 3s - loss: 0.0126 - val_loss: 0.0239\n",
      "Epoch 31/5000\n",
      " - 3s - loss: 0.0125 - val_loss: 0.0232\n",
      "Epoch 32/5000\n",
      " - 3s - loss: 0.0124 - val_loss: 0.0230\n",
      "Epoch 33/5000\n",
      " - 3s - loss: 0.0123 - val_loss: 0.0229\n",
      "Epoch 34/5000\n",
      " - 3s - loss: 0.0123 - val_loss: 0.0222\n",
      "Epoch 35/5000\n",
      " - 3s - loss: 0.0122 - val_loss: 0.0219\n",
      "Epoch 36/5000\n",
      " - 3s - loss: 0.0121 - val_loss: 0.0217\n",
      "Epoch 37/5000\n",
      " - 3s - loss: 0.0120 - val_loss: 0.0219\n",
      "Epoch 38/5000\n",
      " - 3s - loss: 0.0119 - val_loss: 0.0223\n",
      "Epoch 39/5000\n",
      " - 3s - loss: 0.0114 - val_loss: 0.0187\n",
      "Epoch 40/5000\n",
      " - 3s - loss: 0.0110 - val_loss: 0.0180\n",
      "Epoch 41/5000\n",
      " - 3s - loss: 0.0109 - val_loss: 0.0177\n",
      "Epoch 42/5000\n",
      " - 3s - loss: 0.0109 - val_loss: 0.0175\n",
      "Epoch 43/5000\n",
      " - 3s - loss: 0.0108 - val_loss: 0.0174\n",
      "Epoch 44/5000\n",
      " - 3s - loss: 0.0108 - val_loss: 0.0173\n",
      "Epoch 45/5000\n",
      " - 3s - loss: 0.0107 - val_loss: 0.0172\n",
      "Epoch 46/5000\n",
      " - 3s - loss: 0.0107 - val_loss: 0.0172\n",
      "Epoch 47/5000\n",
      " - 3s - loss: 0.0106 - val_loss: 0.0172\n",
      "Epoch 48/5000\n",
      " - 3s - loss: 0.0105 - val_loss: 0.0174\n",
      "Epoch 49/5000\n",
      " - 3s - loss: 0.0105 - val_loss: 0.0175\n",
      "Epoch 50/5000\n",
      " - 3s - loss: 0.0105 - val_loss: 0.0176\n",
      "Epoch 51/5000\n",
      " - 3s - loss: 0.0105 - val_loss: 0.0176\n",
      "Epoch 52/5000\n",
      " - 3s - loss: 0.0105 - val_loss: 0.0176\n",
      "Epoch 53/5000\n",
      " - 3s - loss: 0.0105 - val_loss: 0.0176\n",
      "Epoch 54/5000\n",
      " - 3s - loss: 0.0105 - val_loss: 0.0176\n",
      "Epoch 55/5000\n",
      " - 3s - loss: 0.0105 - val_loss: 0.0176\n"
     ]
    },
    {
     "name": "stderr",
     "output_type": "stream",
     "text": [
      "\r",
      " 10%|█         | 1/10 [03:08<28:20, 188.93s/it]"
     ]
    },
    {
     "name": "stdout",
     "output_type": "stream",
     "text": [
      "Train on 14796 samples, validate on 291 samples\n",
      "Epoch 56/5000\n",
      " - 2s - loss: 0.0343 - val_loss: 0.0266\n",
      "Epoch 57/5000\n",
      " - 1s - loss: 0.0110 - val_loss: 0.0185\n",
      "Epoch 58/5000\n",
      " - 1s - loss: 0.0109 - val_loss: 0.0187\n",
      "Epoch 59/5000\n",
      " - 1s - loss: 0.0110 - val_loss: 0.0188\n",
      "Epoch 60/5000\n",
      " - 1s - loss: 0.0106 - val_loss: 0.0184\n",
      "Epoch 61/5000\n",
      " - 1s - loss: 0.0106 - val_loss: 0.0186\n",
      "Epoch 62/5000\n",
      " - 1s - loss: 0.0106 - val_loss: 0.0188\n",
      "Epoch 63/5000\n",
      " - 1s - loss: 0.0106 - val_loss: 0.0188\n",
      "Epoch 64/5000\n",
      " - 1s - loss: 0.0105 - val_loss: 0.0188\n",
      "Epoch 65/5000\n",
      " - 1s - loss: 0.0105 - val_loss: 0.0188\n",
      "Epoch 66/5000\n",
      " - 1s - loss: 0.0105 - val_loss: 0.0188\n",
      "Epoch 67/5000\n",
      " - 1s - loss: 0.0105 - val_loss: 0.0188\n",
      "Epoch 68/5000\n",
      " - 1s - loss: 0.0105 - val_loss: 0.0188\n"
     ]
    },
    {
     "name": "stderr",
     "output_type": "stream",
     "text": [
      "\r",
      " 20%|██        | 2/10 [03:26<18:21, 137.63s/it]"
     ]
    },
    {
     "name": "stdout",
     "output_type": "stream",
     "text": [
      "Train on 14564 samples, validate on 286 samples\n",
      "Epoch 69/5000\n",
      " - 2s - loss: 0.0287 - val_loss: 0.0225\n",
      "Epoch 70/5000\n",
      " - 1s - loss: 0.0108 - val_loss: 0.0202\n",
      "Epoch 71/5000\n",
      " - 2s - loss: 0.0109 - val_loss: 0.0205\n",
      "Epoch 72/5000\n",
      " - 2s - loss: 0.0109 - val_loss: 0.0206\n",
      "Epoch 73/5000\n",
      " - 1s - loss: 0.0106 - val_loss: 0.0199\n",
      "Epoch 74/5000\n",
      " - 2s - loss: 0.0105 - val_loss: 0.0201\n",
      "Epoch 75/5000\n",
      " - 2s - loss: 0.0105 - val_loss: 0.0202\n",
      "Epoch 76/5000\n",
      " - 2s - loss: 0.0105 - val_loss: 0.0202\n",
      "Epoch 77/5000\n",
      " - 2s - loss: 0.0104 - val_loss: 0.0202\n",
      "Epoch 78/5000\n",
      " - 2s - loss: 0.0104 - val_loss: 0.0202\n",
      "Epoch 79/5000\n",
      " - 2s - loss: 0.0104 - val_loss: 0.0202\n",
      "Epoch 80/5000\n",
      " - 1s - loss: 0.0104 - val_loss: 0.0203\n",
      "Epoch 81/5000\n",
      " - 2s - loss: 0.0104 - val_loss: 0.0203\n"
     ]
    },
    {
     "name": "stderr",
     "output_type": "stream",
     "text": [
      "\r",
      " 30%|███       | 3/10 [03:48<12:00, 102.95s/it]"
     ]
    },
    {
     "name": "stdout",
     "output_type": "stream",
     "text": [
      "Train on 14605 samples, validate on 287 samples\n",
      "Epoch 82/5000\n",
      " - 2s - loss: 0.0559 - val_loss: 0.0046\n",
      "Epoch 83/5000\n",
      " - 1s - loss: 0.0116 - val_loss: 0.0020\n",
      "Epoch 84/5000\n",
      " - 2s - loss: 0.0110 - val_loss: 0.0020\n",
      "Epoch 85/5000\n",
      " - 2s - loss: 0.0111 - val_loss: 0.0020\n",
      "Epoch 86/5000\n",
      " - 1s - loss: 0.0109 - val_loss: 0.0045\n",
      "Epoch 87/5000\n",
      " - 2s - loss: 0.0108 - val_loss: 0.0045\n",
      "Epoch 88/5000\n",
      " - 2s - loss: 0.0108 - val_loss: 0.0045\n",
      "Epoch 89/5000\n",
      " - 2s - loss: 0.0107 - val_loss: 0.0045\n",
      "Epoch 90/5000\n",
      " - 2s - loss: 0.0107 - val_loss: 0.0044\n",
      "Epoch 91/5000\n",
      " - 2s - loss: 0.0107 - val_loss: 0.0044\n",
      "Epoch 92/5000\n",
      " - 2s - loss: 0.0107 - val_loss: 0.0044\n",
      "Epoch 93/5000\n",
      " - 2s - loss: 0.0107 - val_loss: 0.0043\n"
     ]
    },
    {
     "name": "stderr",
     "output_type": "stream",
     "text": [
      "\r",
      " 40%|████      | 4/10 [04:10<07:50, 78.42s/it] "
     ]
    },
    {
     "name": "stdout",
     "output_type": "stream",
     "text": [
      "Train on 14680 samples, validate on 288 samples\n",
      "Epoch 94/5000\n",
      " - 2s - loss: 0.0425 - val_loss: 0.0030\n",
      "Epoch 95/5000\n",
      " - 1s - loss: 0.0107 - val_loss: 0.0029\n",
      "Epoch 96/5000\n",
      " - 1s - loss: 0.0108 - val_loss: 0.0029\n",
      "Epoch 97/5000\n",
      " - 1s - loss: 0.0109 - val_loss: 0.0029\n",
      "Epoch 98/5000\n",
      " - 2s - loss: 0.0107 - val_loss: 0.0052\n",
      "Epoch 99/5000\n",
      " - 2s - loss: 0.0106 - val_loss: 0.0050\n",
      "Epoch 100/5000\n",
      " - 2s - loss: 0.0106 - val_loss: 0.0048\n",
      "Epoch 101/5000\n",
      " - 2s - loss: 0.0106 - val_loss: 0.0047\n",
      "Epoch 102/5000\n",
      " - 2s - loss: 0.0105 - val_loss: 0.0048\n",
      "Epoch 103/5000\n",
      " - 2s - loss: 0.0105 - val_loss: 0.0048\n"
     ]
    },
    {
     "name": "stderr",
     "output_type": "stream",
     "text": [
      "\r",
      " 50%|█████     | 5/10 [04:27<04:59, 59.99s/it]"
     ]
    },
    {
     "name": "stdout",
     "output_type": "stream",
     "text": [
      "Train on 14644 samples, validate on 288 samples\n",
      "Epoch 104/5000\n",
      " - 2s - loss: 0.0452 - val_loss: 0.0062\n",
      "Epoch 105/5000\n",
      " - 2s - loss: 0.0105 - val_loss: 0.0072\n",
      "Epoch 106/5000\n",
      " - 2s - loss: 0.0106 - val_loss: 0.0073\n",
      "Epoch 107/5000\n",
      " - 2s - loss: 0.0106 - val_loss: 0.0120\n",
      "Epoch 108/5000\n",
      " - 2s - loss: 0.0104 - val_loss: 0.0115\n",
      "Epoch 109/5000\n",
      " - 2s - loss: 0.0104 - val_loss: 0.0113\n",
      "Epoch 110/5000\n",
      " - 2s - loss: 0.0104 - val_loss: 0.0111\n",
      "Epoch 111/5000\n",
      " - 2s - loss: 0.0103 - val_loss: 0.0113\n",
      "Epoch 112/5000\n",
      " - 2s - loss: 0.0103 - val_loss: 0.0114\n"
     ]
    },
    {
     "name": "stderr",
     "output_type": "stream",
     "text": [
      "\r",
      " 60%|██████    | 6/10 [04:43<03:08, 47.00s/it]"
     ]
    },
    {
     "name": "stdout",
     "output_type": "stream",
     "text": [
      "Train on 14651 samples, validate on 288 samples\n",
      "Epoch 113/5000\n",
      " - 2s - loss: 0.0227 - val_loss: 0.0039\n",
      "Epoch 114/5000\n",
      " - 2s - loss: 0.0105 - val_loss: 0.0043\n",
      "Epoch 115/5000\n",
      " - 2s - loss: 0.0106 - val_loss: 0.0043\n",
      "Epoch 116/5000\n",
      " - 2s - loss: 0.0108 - val_loss: 0.0050\n",
      "Epoch 117/5000\n",
      " - 2s - loss: 0.0105 - val_loss: 0.0050\n",
      "Epoch 118/5000\n",
      " - 2s - loss: 0.0105 - val_loss: 0.0050\n",
      "Epoch 119/5000\n",
      " - 2s - loss: 0.0104 - val_loss: 0.0049\n",
      "Epoch 120/5000\n",
      " - 2s - loss: 0.0104 - val_loss: 0.0051\n",
      "Epoch 121/5000\n",
      " - 2s - loss: 0.0104 - val_loss: 0.0052\n"
     ]
    },
    {
     "name": "stderr",
     "output_type": "stream",
     "text": [
      "\r",
      " 70%|███████   | 7/10 [05:00<01:53, 37.90s/it]"
     ]
    },
    {
     "name": "stdout",
     "output_type": "stream",
     "text": [
      "Train on 14480 samples, validate on 284 samples\n",
      "Epoch 122/5000\n",
      " - 2s - loss: 0.0248 - val_loss: 0.0104\n",
      "Epoch 123/5000\n",
      " - 2s - loss: 0.0104 - val_loss: 0.0102\n",
      "Epoch 124/5000\n",
      " - 2s - loss: 0.0105 - val_loss: 0.0104\n",
      "Epoch 125/5000\n",
      " - 1s - loss: 0.0106 - val_loss: 0.0105\n",
      "Epoch 126/5000\n",
      " - 2s - loss: 0.0108 - val_loss: 0.0091\n",
      "Epoch 127/5000\n",
      " - 2s - loss: 0.0104 - val_loss: 0.0095\n",
      "Epoch 128/5000\n",
      " - 2s - loss: 0.0103 - val_loss: 0.0097\n",
      "Epoch 129/5000\n",
      " - 2s - loss: 0.0103 - val_loss: 0.0098\n",
      "Epoch 130/5000\n",
      " - 2s - loss: 0.0103 - val_loss: 0.0099\n",
      "Epoch 131/5000\n",
      " - 2s - loss: 0.0103 - val_loss: 0.0099\n",
      "Epoch 132/5000\n",
      " - 2s - loss: 0.0103 - val_loss: 0.0100\n",
      "Epoch 133/5000\n",
      " - 2s - loss: 0.0103 - val_loss: 0.0101\n",
      "Epoch 134/5000\n",
      " - 1s - loss: 0.0102 - val_loss: 0.0101\n"
     ]
    },
    {
     "name": "stderr",
     "output_type": "stream",
     "text": [
      "\r",
      " 80%|████████  | 8/10 [05:23<01:06, 33.40s/it]"
     ]
    },
    {
     "name": "stdout",
     "output_type": "stream",
     "text": [
      "Train on 14499 samples, validate on 285 samples\n",
      "Epoch 135/5000\n",
      " - 2s - loss: 0.0407 - val_loss: 0.0113\n",
      "Epoch 136/5000\n",
      " - 1s - loss: 0.0101 - val_loss: 0.0097\n",
      "Epoch 137/5000\n",
      " - 2s - loss: 0.0103 - val_loss: 0.0097\n",
      "Epoch 138/5000\n",
      " - 2s - loss: 0.0104 - val_loss: 0.0098\n",
      "Epoch 139/5000\n",
      " - 2s - loss: 0.0107 - val_loss: 0.0078\n",
      "Epoch 140/5000\n",
      " - 2s - loss: 0.0103 - val_loss: 0.0080\n",
      "Epoch 141/5000\n",
      " - 2s - loss: 0.0103 - val_loss: 0.0082\n",
      "Epoch 142/5000\n",
      " - 2s - loss: 0.0103 - val_loss: 0.0083\n",
      "Epoch 143/5000\n",
      " - 2s - loss: 0.0102 - val_loss: 0.0082\n",
      "Epoch 144/5000\n",
      " - 2s - loss: 0.0102 - val_loss: 0.0082\n",
      "Epoch 145/5000\n",
      " - 2s - loss: 0.0102 - val_loss: 0.0081\n",
      "Epoch 146/5000\n",
      " - 2s - loss: 0.0102 - val_loss: 0.0081\n",
      "Epoch 147/5000\n",
      " - 2s - loss: 0.0102 - val_loss: 0.0081\n"
     ]
    },
    {
     "name": "stderr",
     "output_type": "stream",
     "text": [
      "\r",
      " 90%|█████████ | 9/10 [05:45<00:30, 30.13s/it]"
     ]
    },
    {
     "name": "stdout",
     "output_type": "stream",
     "text": [
      "Train on 14512 samples, validate on 285 samples\n",
      "Epoch 148/5000\n",
      " - 2s - loss: 0.0419 - val_loss: 0.0337\n",
      "Epoch 149/5000\n",
      " - 1s - loss: 0.0072 - val_loss: 0.0193\n",
      "Epoch 150/5000\n",
      " - 1s - loss: 0.0065 - val_loss: 0.0190\n",
      "Epoch 151/5000\n",
      " - 1s - loss: 0.0065 - val_loss: 0.0189\n",
      "Epoch 152/5000\n",
      " - 1s - loss: 0.0066 - val_loss: 0.0188\n",
      "Epoch 153/5000\n",
      " - 2s - loss: 0.0066 - val_loss: 0.0188\n",
      "Epoch 154/5000\n",
      " - 2s - loss: 0.0066 - val_loss: 0.0187\n",
      "Epoch 155/5000\n",
      " - 2s - loss: 0.0066 - val_loss: 0.0187\n",
      "Epoch 156/5000\n",
      " - 1s - loss: 0.0069 - val_loss: 0.0195\n",
      "Epoch 157/5000\n",
      " - 2s - loss: 0.0069 - val_loss: 0.0198\n",
      "Epoch 158/5000\n",
      " - 2s - loss: 0.0070 - val_loss: 0.0200\n",
      "Epoch 159/5000\n",
      " - 2s - loss: 0.0070 - val_loss: 0.0200\n",
      "Epoch 160/5000\n",
      " - 2s - loss: 0.0073 - val_loss: 0.0202\n",
      "Epoch 161/5000\n",
      " - 2s - loss: 0.0071 - val_loss: 0.0204\n",
      "Epoch 162/5000\n",
      " - 2s - loss: 0.0071 - val_loss: 0.0205\n",
      "Epoch 163/5000\n",
      " - 2s - loss: 0.0071 - val_loss: 0.0205\n"
     ]
    },
    {
     "name": "stderr",
     "output_type": "stream",
     "text": [
      "100%|██████████| 10/10 [06:11<00:00, 37.19s/it]\n"
     ]
    }
   ],
   "source": [
    "modeldesigndone = False\n",
    "initial_epoch = 0\n",
    "freeze_model = True\n",
    "reinitialize = True\n",
    "\n",
    "for weekno, weekdata in enumerate(tqdm(modelconfig['weeklist'])):\n",
    "\n",
    "    X_train = weekdata['X_train']\n",
    "    y_train = weekdata['y_train']\n",
    "    X_test = weekdata['X_test']\n",
    "    y_test = weekdata['y_test']\n",
    "    y_scaler = weekdata['y_scaler']\n",
    "\n",
    "    if not modeldesigndone:\n",
    "        \n",
    "        try:\n",
    "            del model\n",
    "        except NameError:\n",
    "            pass\n",
    "\n",
    "        K.clear_session()\n",
    "        \n",
    "        #Instantiate learner model\n",
    "        nn_model = mp.lstm_model_transferlearning(path,\n",
    "                              inputdim=X_train.shape[-1],\n",
    "                              outputdim=y_train.shape[-1],\n",
    "                              period=period)\n",
    "\n",
    "        # Desing model architecture\n",
    "        nn_model.design_network(lstmhiddenlayers=[modelconfig['lstm_hidden_units']] * modelconfig['lstm_no_layers'],\n",
    "                           densehiddenlayers=[modelconfig['dense_hidden_units']] * modelconfig['dense_no_layers'],\n",
    "                           dropoutlist=[[], []],\n",
    "                           batchnormalizelist=[[], []])\n",
    "        \n",
    "        # compile model\n",
    "        nn_model.model_compile()\n",
    "\n",
    "        # creating early stopping and learning reate changing callbacks\n",
    "        nn_model.model_callbacks()\n",
    "\n",
    "        modeldesigndone = True\n",
    "\n",
    "    # train the model\n",
    "    history = nn_model.train_model(X_train, y_train, X_test, y_test, epochs=modelconfig['train_epochs'],\n",
    "                                initial_epoch = initial_epoch)\n",
    "    try:\n",
    "        initial_epoch += len(history.history['loss'])\n",
    "    except KeyError:\n",
    "        pass\n",
    "\n",
    "    # evaluate the model for metrics at this stage\n",
    "    # see inside results folder to look at t\n",
    "    # train and test plots as well as logged errors inside the text file\n",
    "    preds_train, preds_test = nn_model.evaluate_model(X_train,\n",
    "                                                   y_train,\n",
    "                                                   X_test,\n",
    "                                                   y_test,\n",
    "                                                   y_scaler,\n",
    "                                                   scaling=True,\n",
    "                                                   saveplot=True,\n",
    "                                                   Idx=weekdata['Id'],\n",
    "                                                     outputdim_names=['Hot Water Energy'])\n",
    "    \n",
    "    # freeze all but dense layers at the top and compile with new weights\n",
    "    if freeze_model:\n",
    "        for layer in nn_model.model.layers[:-modelconfig['retrain_from_layers']]:\n",
    "            layer.trainable = False\n",
    "        freeze_model = False\n",
    "            \n",
    "    if reinitialize:  \n",
    "        for layer in nn_model.model.layers[-modelconfig['retrain_from_layers']:]:\n",
    "            layer.kernel.initializer.run(session=K.get_session())\n",
    "            layer.bias.initializer.run(session=K.get_session())\n",
    "    \n",
    "    # compile model\n",
    "    nn_model.model_compile()"
   ]
  },
  {
   "cell_type": "markdown",
   "metadata": {
    "heading_collapsed": true
   },
   "source": [
    "### Plot the week by week CVRMSE error"
   ]
  },
  {
   "cell_type": "code",
   "execution_count": 56,
   "metadata": {
    "hidden": true
   },
   "outputs": [
    {
     "name": "stdout",
     "output_type": "stream",
     "text": [
      "Name of the file:  ../results/lstm_hwe_trial2/30min Results_File.txt\n"
     ]
    },
    {
     "data": {
      "image/png": "[encoded data removed]",
      "text/plain": [
       "<Figure size 720x504 with 1 Axes>"
      ]
     },
     "metadata": {
      "needs_background": "light"
     },
     "output_type": "display_data"
    }
   ],
   "source": [
    "# Open a file\n",
    "fo = open(path + \"{}min Results_File.txt\".format(5*period), \"r\")\n",
    "print(\"Name of the file: \", fo.name)\n",
    "lines = fo.readlines()\n",
    "\n",
    "parse_format = 'Year-{}-Week-{}-Time Step {}: {} RMSE={} |{} CVRMSE={} |{} MAE={}'\n",
    "stats = {\n",
    "    'Train': {\n",
    "        'rmse': [],\n",
    "        'cvrmse': [],\n",
    "        'mae': []\n",
    "    },\n",
    "    'Test': {\n",
    "        'rmse': [],\n",
    "        'cvrmse': [],\n",
    "        'mae': []\n",
    "    }\n",
    "}\n",
    "xticklist = []\n",
    "counter = 0\n",
    "for line in lines:\n",
    "    p = parse.parse(parse_format, line)\n",
    "    stats[p[3]]['rmse'].append(float(p[4]))\n",
    "    stats[p[5]]['cvrmse'].append(float(p[6]))\n",
    "    stats[p[7]]['mae'].append(float(p[8]))\n",
    "    if counter % 2 == 0:\n",
    "        xticklist.append('Year-{}-Week-{}'.format(p[0], p[1]))\n",
    "    counter += 1\n",
    "fo.close()\n",
    "cvrmse_list = stats['Test']['cvrmse']\n",
    "cvrmse = sum(cvrmse_list) / len(cvrmse_list)\n",
    "# from dataprocess import plotutils as pu\n",
    "plot_args = dict(\n",
    "    bars=cvrmse_list,\n",
    "    color='goldenrod',\n",
    "    bar_label='cvrmse',\n",
    "    saveloc=path,\n",
    "    smoothcurve=True,\n",
    "    bar_annotate=True,\n",
    "    saveplot=True,\n",
    "    xlabel='Week of year',\n",
    "    ylabel='cvrmse error in percentage',\n",
    "    title=\n",
    "    'Weekly CVRMSE Error for Hot Water Energy Model error at {5:}min(s) intervals \\n [{0:} layers of {1:}-unit lstm, {2:} layers of {3:}-unit dense] \\n Average CVRMSE Error {4:.2f}%'\n",
    "    .format(modelconfig['lstm_no_layers'], modelconfig['lstm_hidden_units'],\n",
    "            modelconfig['dense_no_layers'], modelconfig['dense_hidden_units'],\n",
    "            cvrmse,5*period),\n",
    "    xticklist=xticklist,\n",
    "    plotwidth=10,\n",
    "    plotheight=7,\n",
    "    fontsize=16)\n",
    "pu.single_bar_plot(**plot_args)"
   ]
  },
  {
   "cell_type": "markdown",
   "metadata": {
    "heading_collapsed": true
   },
   "source": [
    "### Code cemetery"
   ]
  },
  {
   "cell_type": "code",
   "execution_count": null,
   "metadata": {
    "hidden": true
   },
   "outputs": [],
   "source": [
    "# # Check the trainable status of the individual layers\n",
    "# for layer in nn_model.model.layers:\n",
    "#     print(layer, layer.trainable, layer.name)"
   ]
  },
  {
   "cell_type": "code",
   "execution_count": null,
   "metadata": {
    "hidden": true
   },
   "outputs": [],
   "source": [
    "#model.model.summary()\n",
    "\n",
    "#nn_model.model.layers[-1].input_shape\n",
    "\n",
    "#model.model.layers[-1].kernel.initializer.run(session=K.get_session())\n",
    "#model.model.layers[-1].bias.initializer.run(session=K.get_session())\n",
    "\n",
    "#nn_model.model.layers[-1].output_shape"
   ]
  },
  {
   "cell_type": "code",
   "execution_count": null,
   "metadata": {
    "hidden": true
   },
   "outputs": [],
   "source": []
  }
 ],
 "metadata": {
  "kernelspec": {
   "display_name": "Python 3.6.9 64-bit ('sbvenv1': venv)",
   "language": "python",
   "name": "python36964bitsbvenv1venv1a534851ebbc4d609aad5dcf7b359ab5"
  },
  "language_info": {
   "codemirror_mode": {
    "name": "ipython",
    "version": 3
   },
   "file_extension": ".py",
   "mimetype": "text/x-python",
   "name": "python",
   "nbconvert_exporter": "python",
   "pygments_lexer": "ipython3",
   "version": "3.6.9"
  }
 },
 "nbformat": 4,
 "nbformat_minor": 4
}
